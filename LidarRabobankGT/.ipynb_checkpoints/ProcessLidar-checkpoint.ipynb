{
 "cells": [
  {
   "cell_type": "markdown",
   "id": "9fc346c2",
   "metadata": {},
   "source": [
    "# Code\n",
    "### Airborne lidar data processing\n",
    "\n",
    "-----\n",
    "\n",
    ">Rob Burger\n",
    "\n",
    ">Space4Good\n",
    "\n",
    ">Biomass estimation in Tanzania"
   ]
  },
  {
   "cell_type": "markdown",
   "id": "953861e6",
   "metadata": {},
   "source": [
    "# Summary\n",
    "### 1. Get Y data: Rabobank GT data GEOJSON\n",
    "### 2. Get X data: airborne Lidar\n",
    "* 2a. Reproject CRS of lidar data \n",
    "* 2b. Perform zonal stats"
   ]
  },
  {
   "cell_type": "markdown",
   "id": "0e7b87aa",
   "metadata": {},
   "source": [
    "-----\n",
    "# 1. Get Y data: Rabobank GT data GEOJSON"
   ]
  },
  {
   "cell_type": "code",
   "execution_count": 1,
   "id": "76b9797e",
   "metadata": {},
   "outputs": [],
   "source": [
    "import fiona\n",
    "import geopandas as gpd\n",
    "import pandas as pd\n",
    "import glob\n",
    "import rasterio\n",
    "from rasterio.plot import show\n",
    "from rasterio.merge import merge\n",
    "import rioxarray as rxr\n",
    "from rasterstats import zonal_stats"
   ]
  },
  {
   "cell_type": "code",
   "execution_count": 2,
   "id": "45ecd7c3",
   "metadata": {},
   "outputs": [],
   "source": [
    "## Read in Training data GEOJSON (Rabobank GT data)\n",
    "\n",
    "trainPolygons = gpd.read_file(\"../../data/TrainingData_Tan.geojson\")"
   ]
  },
  {
   "cell_type": "code",
   "execution_count": 3,
   "id": "f197ff99",
   "metadata": {
    "scrolled": true
   },
   "outputs": [
    {
     "data": {
      "text/html": [
       "<div>\n",
       "<style scoped>\n",
       "    .dataframe tbody tr th:only-of-type {\n",
       "        vertical-align: middle;\n",
       "    }\n",
       "\n",
       "    .dataframe tbody tr th {\n",
       "        vertical-align: top;\n",
       "    }\n",
       "\n",
       "    .dataframe thead th {\n",
       "        text-align: right;\n",
       "    }\n",
       "</style>\n",
       "<table border=\"1\" class=\"dataframe\">\n",
       "  <thead>\n",
       "    <tr style=\"text-align: right;\">\n",
       "      <th></th>\n",
       "      <th>field</th>\n",
       "      <th>Area</th>\n",
       "      <th>Plot no</th>\n",
       "      <th>Rabo_Plot_AGB_kg</th>\n",
       "      <th>Collection_Date</th>\n",
       "      <th>geometry</th>\n",
       "    </tr>\n",
       "  </thead>\n",
       "  <tbody>\n",
       "    <tr>\n",
       "      <th>0</th>\n",
       "      <td>T_AM_10</td>\n",
       "      <td>0.511</td>\n",
       "      <td>16</td>\n",
       "      <td>26462.310790</td>\n",
       "      <td>April/May 2021</td>\n",
       "      <td>MULTIPOLYGON (((31.17330 -1.49430, 31.17280 -1...</td>\n",
       "    </tr>\n",
       "    <tr>\n",
       "      <th>1</th>\n",
       "      <td>T_AM_11</td>\n",
       "      <td>0.960</td>\n",
       "      <td>17</td>\n",
       "      <td>28090.515190</td>\n",
       "      <td>April/May 2021</td>\n",
       "      <td>MULTIPOLYGON (((31.17260 -1.49420, 31.17200 -1...</td>\n",
       "    </tr>\n",
       "    <tr>\n",
       "      <th>2</th>\n",
       "      <td>T_AM_13</td>\n",
       "      <td>0.492</td>\n",
       "      <td>19</td>\n",
       "      <td>25882.468100</td>\n",
       "      <td>April/May 2021</td>\n",
       "      <td>MULTIPOLYGON (((31.16930 -1.59660, 31.16870 -1...</td>\n",
       "    </tr>\n",
       "    <tr>\n",
       "      <th>3</th>\n",
       "      <td>T_AM_16</td>\n",
       "      <td>0.277</td>\n",
       "      <td>22</td>\n",
       "      <td>4444.892561</td>\n",
       "      <td>April/May 2021</td>\n",
       "      <td>MULTIPOLYGON (((31.17580 -1.54520, 31.17590 -1...</td>\n",
       "    </tr>\n",
       "    <tr>\n",
       "      <th>4</th>\n",
       "      <td>T_AM_20</td>\n",
       "      <td>1.218</td>\n",
       "      <td>42</td>\n",
       "      <td>25108.496230</td>\n",
       "      <td>April/May 2021</td>\n",
       "      <td>MULTIPOLYGON (((31.17610 -1.54380, 31.17450 -1...</td>\n",
       "    </tr>\n",
       "  </tbody>\n",
       "</table>\n",
       "</div>"
      ],
      "text/plain": [
       "     field   Area  Plot no  Rabo_Plot_AGB_kg Collection_Date  \\\n",
       "0  T_AM_10  0.511       16      26462.310790  April/May 2021   \n",
       "1  T_AM_11  0.960       17      28090.515190  April/May 2021   \n",
       "2  T_AM_13  0.492       19      25882.468100  April/May 2021   \n",
       "3  T_AM_16  0.277       22       4444.892561  April/May 2021   \n",
       "4  T_AM_20  1.218       42      25108.496230  April/May 2021   \n",
       "\n",
       "                                            geometry  \n",
       "0  MULTIPOLYGON (((31.17330 -1.49430, 31.17280 -1...  \n",
       "1  MULTIPOLYGON (((31.17260 -1.49420, 31.17200 -1...  \n",
       "2  MULTIPOLYGON (((31.16930 -1.59660, 31.16870 -1...  \n",
       "3  MULTIPOLYGON (((31.17580 -1.54520, 31.17590 -1...  \n",
       "4  MULTIPOLYGON (((31.17610 -1.54380, 31.17450 -1...  "
      ]
     },
     "execution_count": 3,
     "metadata": {},
     "output_type": "execute_result"
    }
   ],
   "source": [
    "trainPolygons.head()"
   ]
  },
  {
   "cell_type": "code",
   "execution_count": null,
   "id": "e408fdfd",
   "metadata": {},
   "outputs": [],
   "source": []
  },
  {
   "cell_type": "markdown",
   "id": "b7c04d02",
   "metadata": {},
   "source": [
    "# 2. Get X data: airborne Lidar"
   ]
  },
  {
   "cell_type": "code",
   "execution_count": 6,
   "id": "ab9bc4d6",
   "metadata": {
    "scrolled": false
   },
   "outputs": [
    {
     "data": {
      "text/plain": [
       "['../../data/CHM\\\\Kituntu_Tanzania_01.tif',\n",
       " '../../data/CHM\\\\Kituntu_Tanzania_02.tif',\n",
       " '../../data/CHM\\\\Kituntu_Tanzania_03.tif',\n",
       " '../../data/CHM\\\\Kituntu_Tanzania_04.tif',\n",
       " '../../data/CHM\\\\Kituntu_Tanzania_05.tif',\n",
       " '../../data/CHM\\\\Kituntu_Tanzania_06.tif',\n",
       " '../../data/CHM\\\\Kituntu_Tanzania_07.tif',\n",
       " '../../data/CHM\\\\Kituntu_Tanzania_08.tif',\n",
       " '../../data/CHM\\\\Kituntu_Tanzania_09.tif',\n",
       " '../../data/CHM\\\\Kituntu_Tanzania_10.tif',\n",
       " '../../data/CHM\\\\Kituntu_Tanzania_11.tif',\n",
       " '../../data/CHM\\\\Kituntu_Tanzania_12.tif',\n",
       " '../../data/CHM\\\\Kituntu_Tanzania_13.tif',\n",
       " '../../data/CHM\\\\Kituntu_Tanzania_14.tif',\n",
       " '../../data/CHM\\\\Kituntu_Tanzania_15.tif',\n",
       " '../../data/CHM\\\\Kituntu_Tanzania_16.tif',\n",
       " '../../data/CHM\\\\Kituntu_Tanzania_17.tif',\n",
       " '../../data/CHM\\\\Kituntu_Tanzania_18.tif',\n",
       " '../../data/CHM\\\\Kituntu_Tanzania_19.tif',\n",
       " '../../data/CHM\\\\Kituntu_Tanzania_20.tif',\n",
       " '../../data/CHM\\\\Kituntu_Tanzania_21.tif',\n",
       " '../../data/CHM\\\\Kituntu_Tanzania_22.tif']"
      ]
     },
     "execution_count": 6,
     "metadata": {},
     "output_type": "execute_result"
    }
   ],
   "source": [
    "# the lidar data comes with multiple tif files.\n",
    "# the data is seperated in two areas.\n",
    "# could split the data into two areas (requirement for QGIS), but not necessary in Python\n",
    "\n",
    "lidar_string = glob.glob(\"../../data/CHM/Kituntu*.tif\")\n",
    "lidar_string = lidar_string[:-1] #exclude last tif file (bc. not in study area)\n",
    "lidar_string"
   ]
  },
  {
   "cell_type": "code",
   "execution_count": 7,
   "id": "b4dcd6c7",
   "metadata": {},
   "outputs": [
    {
     "data": {
      "image/png": "[encoded data removed]",
      "text/plain": [
       "<Figure size 432x288 with 1 Axes>"
      ]
     },
     "metadata": {
      "needs_background": "light"
     },
     "output_type": "display_data"
    }
   ],
   "source": [
    "## Merge lidar tif files to get one mosaic\n",
    "# (all tif files need to have the same crs, number of bands and data type)\n",
    " \n",
    "# Merge tif files\n",
    "mosaic, output = merge(lidar_string)\n",
    "\n",
    "# Quick visualization of (the shape of) the lidar areas\n",
    "show(mosaic)\n",
    "\n",
    "# Add metadata (with dimensions and crs etc)\n",
    "with rasterio.open(lidar_string[0]) as src:\n",
    "        out_meta = src.meta.copy()   \n",
    "\n",
    "out_meta.update({\"driver\": \"GTiff\",\n",
    "                 \"height\": mosaic.shape[1],\n",
    "                 \"width\": mosaic.shape[2],\n",
    "                 \"transform\": output})\n",
    "\n",
    "# Save merged tif file\n",
    "with rasterio.open(\"../../data/processed/lidarMergedTest.tif\", 'w', **out_meta) as f:\n",
    "    f.write(mosaic)"
   ]
  },
  {
   "cell_type": "markdown",
   "id": "5876e450",
   "metadata": {},
   "source": [
    "### 2a. Reproject CRS of lidar data "
   ]
  },
  {
   "cell_type": "code",
   "execution_count": 1,
   "id": "b80bb0ad",
   "metadata": {},
   "outputs": [],
   "source": [
    "# Function to reproject CRS of raster file\n",
    "\n",
    "def reproject_raster(in_path, out_path, crs):\n",
    "\n",
    "    # reproject raster to crs\n",
    "    with rasterio.open(in_path) as src:\n",
    "        src_crs = src.crs\n",
    "        transform, width, height = rasterio.warp.calculate_default_transform(src_crs, crs, src.width, src.height, *src.bounds)\n",
    "        kwargs = src.meta.copy()\n",
    "\n",
    "        kwargs.update({\n",
    "            'crs': crs,\n",
    "            'transform': transform,\n",
    "            'width': width,\n",
    "            'height': height})\n",
    "\n",
    "        with rasterio.open(out_path, 'w', **kwargs) as dst:\n",
    "            for i in range(1, src.count + 1):\n",
    "                rasterio.warp.reproject(\n",
    "                    source=rasterio.band(src, i),\n",
    "                    destination=rasterio.band(dst, i),\n",
    "                    src_transform=src.transform,\n",
    "                    src_crs=src.crs,\n",
    "                    dst_transform=transform,\n",
    "                    dst_crs=crs,\n",
    "                    resampling=rasterio.warp.Resampling.nearest)\n",
    "    return(out_path)"
   ]
  },
  {
   "cell_type": "code",
   "execution_count": 9,
   "id": "e44a4835",
   "metadata": {},
   "outputs": [
    {
     "data": {
      "text/plain": [
       "'../../data/processed/lidarMergedTestCRS.tif'"
      ]
     },
     "execution_count": 9,
     "metadata": {},
     "output_type": "execute_result"
    }
   ],
   "source": [
    "## Reproject lidar rasters to CRS of training plots\n",
    "\n",
    "#trainPolygons.crs\n",
    "crs = \"EPSG:4326\"\n",
    "\n",
    "# Change crs\n",
    "in_path = \"../../data/processed/lidarMergedTest.tif\"\n",
    "out_path = \"../../data/processed/lidarMergedTestCRS.tif\"\n",
    "reproject_raster(in_path, out_path, crs) # autocreates tif file with new crs\n"
   ]
  },
  {
   "cell_type": "markdown",
   "id": "c43db79d",
   "metadata": {},
   "source": [
    "### 2b. Perform zonal statistics"
   ]
  },
  {
   "cell_type": "code",
   "execution_count": 4,
   "id": "8f72c11f",
   "metadata": {},
   "outputs": [],
   "source": [
    "## Perform zonal statistics\n",
    "# Join Rabobank GT data (trainPolygons) with Zonal statistics\n",
    "\n",
    "# Statistics to compute\n",
    "stats=['min','max','mean','std','sum',\n",
    "       'percentile_20','percentile_30','percentile_40',\n",
    "       'percentile_50','percentile_60','percentile_70',\n",
    "       'percentile_75','percentile_80','percentile_85',\n",
    "       'percentile_90','percentile_95']\n",
    "\n",
    "# Zonal stats\n",
    "gdf = trainPolygons.join(\n",
    "    pd.DataFrame(\n",
    "        zonal_stats(\n",
    "            vectors=trainPolygons['geometry'], \n",
    "            raster=\"../../data/processed/lidarMergedTestCRS.tif\", \n",
    "            stats=stats\n",
    "        )\n",
    "    ),\n",
    "    how='left'\n",
    ")"
   ]
  },
  {
   "cell_type": "code",
   "execution_count": 6,
   "id": "3f12dca7",
   "metadata": {},
   "outputs": [],
   "source": [
    "# Write zonal statitsics layer\n",
    "\n",
    "gdf.to_file(\"../../data/processed/lidarZonalstats.geojson\", driver='GeoJSON')\n",
    "#gdf.to_file(\"../../data/processed/lidarZonalstats.gpkg\", layer='lidarZonalStats', driver=\"GPKG\")"
   ]
  },
  {
   "cell_type": "code",
   "execution_count": null,
   "id": "866a94b3",
   "metadata": {},
   "outputs": [],
   "source": []
  },
  {
   "cell_type": "code",
   "execution_count": null,
   "id": "3a4564e7",
   "metadata": {},
   "outputs": [],
   "source": []
  }
 ],
 "metadata": {
  "kernelspec": {
   "display_name": "Python 3",
   "language": "python",
   "name": "python3"
  },
  "language_info": {
   "codemirror_mode": {
    "name": "ipython",
    "version": 3
   },
   "file_extension": ".py",
   "mimetype": "text/x-python",
   "name": "python",
   "nbconvert_exporter": "python",
   "pygments_lexer": "ipython3",
   "version": "3.8.8"
  }
 },
 "nbformat": 4,
 "nbformat_minor": 5
}
