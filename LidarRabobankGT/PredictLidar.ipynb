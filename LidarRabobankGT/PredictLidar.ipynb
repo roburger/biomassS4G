{
 "cells": [
  {
   "cell_type": "markdown",
   "id": "9fc346c2",
   "metadata": {},
   "source": [
    "# Code\n",
    "### Airborne lidar data analysis + AGB prediction\n",
    "\n",
    "-----\n",
    "\n",
    ">Rob Burger\n",
    "\n",
    ">Space4Good\n",
    "\n",
    ">Biomass estimation in Tanzania\n",
    "\n",
    "-----"
   ]
  },
  {
   "cell_type": "code",
   "execution_count": null,
   "id": "e565cb58",
   "metadata": {},
   "outputs": [],
   "source": []
  },
  {
   "cell_type": "code",
   "execution_count": 1,
   "id": "3e1e190d",
   "metadata": {},
   "outputs": [
    {
     "name": "stderr",
     "output_type": "stream",
     "text": [
      "C:\\Users\\robur\\anaconda3\\lib\\site-packages\\scipy\\__init__.py:138: UserWarning: A NumPy version >=1.16.5 and <1.23.0 is required for this version of SciPy (detected version 1.23.3)\n",
      "  warnings.warn(f\"A NumPy version >={np_minversion} and <{np_maxversion} is required for this version of \"\n"
     ]
    }
   ],
   "source": [
    "import fiona\n",
    "import geopandas as gpd\n",
    "import pandas as pd\n",
    "import seaborn as sns\n",
    "import matplotlib.pyplot as plt\n",
    "import numpy as np\n",
    "from collections import Counter\n",
    "\n",
    "from sklearn.ensemble import RandomForestRegressor\n",
    "from sklearn.model_selection import KFold, StratifiedKFold\n",
    "from sklearn.model_selection import train_test_split\n",
    "from sklearn.metrics import r2_score\n",
    "from sklearn.metrics import mean_squared_error\n",
    "from sklearn.metrics import mean_absolute_percentage_error\n",
    "from sklearn.utils import resample"
   ]
  },
  {
   "cell_type": "code",
   "execution_count": 2,
   "id": "d15f1622",
   "metadata": {},
   "outputs": [],
   "source": [
    "# Read in Training data GEOJSON (Rabobank GT data)\n",
    "\n",
    "trainPolygons = gpd.read_file(\"../../../data/TrainingData_Tan.geojson\")"
   ]
  },
  {
   "cell_type": "code",
   "execution_count": 3,
   "id": "372c5130",
   "metadata": {},
   "outputs": [],
   "source": [
    "# Read in zonal statistics GEOJSON of Training plots\n",
    "\n",
    "gdf = gpd.read_file(\"../../../data/processed/lidarZonalstats.geojson\")"
   ]
  },
  {
   "cell_type": "markdown",
   "id": "5f475178",
   "metadata": {},
   "source": [
    "# Data exploration + cleaning"
   ]
  },
  {
   "cell_type": "code",
   "execution_count": 4,
   "id": "5a119d5c",
   "metadata": {},
   "outputs": [],
   "source": [
    "# Zonal statistics\n",
    "stats=['min','max','mean','std','sum',\n",
    "       'percentile_20','percentile_30','percentile_40',\n",
    "       'percentile_50','percentile_60','percentile_70',\n",
    "       'percentile_75','percentile_80','percentile_85',\n",
    "       'percentile_90','percentile_95']"
   ]
  },
  {
   "cell_type": "code",
   "execution_count": 5,
   "id": "a7ff9a89",
   "metadata": {
    "scrolled": false
   },
   "outputs": [
    {
     "name": "stdout",
     "output_type": "stream",
     "text": [
      "Number of samples: 45 out of 105 total field samples\n"
     ]
    },
    {
     "data": {
      "text/html": [
       "<div>\n",
       "<style scoped>\n",
       "    .dataframe tbody tr th:only-of-type {\n",
       "        vertical-align: middle;\n",
       "    }\n",
       "\n",
       "    .dataframe tbody tr th {\n",
       "        vertical-align: top;\n",
       "    }\n",
       "\n",
       "    .dataframe thead th {\n",
       "        text-align: right;\n",
       "    }\n",
       "</style>\n",
       "<table border=\"1\" class=\"dataframe\">\n",
       "  <thead>\n",
       "    <tr style=\"text-align: right;\">\n",
       "      <th></th>\n",
       "      <th>field</th>\n",
       "      <th>Rabo_Plot_AGB_kg</th>\n",
       "      <th>Area</th>\n",
       "      <th>min</th>\n",
       "      <th>max</th>\n",
       "      <th>mean</th>\n",
       "      <th>std</th>\n",
       "      <th>sum</th>\n",
       "      <th>percentile_20</th>\n",
       "      <th>percentile_30</th>\n",
       "      <th>percentile_40</th>\n",
       "      <th>percentile_50</th>\n",
       "      <th>percentile_60</th>\n",
       "      <th>percentile_70</th>\n",
       "      <th>percentile_75</th>\n",
       "      <th>percentile_80</th>\n",
       "      <th>percentile_85</th>\n",
       "      <th>percentile_90</th>\n",
       "      <th>percentile_95</th>\n",
       "    </tr>\n",
       "  </thead>\n",
       "  <tbody>\n",
       "    <tr>\n",
       "      <th>99</th>\n",
       "      <td>T_BD_10</td>\n",
       "      <td>1595.997444</td>\n",
       "      <td>0.664</td>\n",
       "      <td>-0.000</td>\n",
       "      <td>6.640</td>\n",
       "      <td>1.769665</td>\n",
       "      <td>1.361052</td>\n",
       "      <td>46841.250000</td>\n",
       "      <td>0.1890</td>\n",
       "      <td>0.7440</td>\n",
       "      <td>1.293</td>\n",
       "      <td>1.7300</td>\n",
       "      <td>2.1840</td>\n",
       "      <td>2.6050</td>\n",
       "      <td>2.8140</td>\n",
       "      <td>3.0560</td>\n",
       "      <td>3.31700</td>\n",
       "      <td>3.6242</td>\n",
       "      <td>4.041600</td>\n",
       "    </tr>\n",
       "    <tr>\n",
       "      <th>11</th>\n",
       "      <td>T_BD_20</td>\n",
       "      <td>3158.669218</td>\n",
       "      <td>0.547</td>\n",
       "      <td>-0.002</td>\n",
       "      <td>14.085</td>\n",
       "      <td>2.062659</td>\n",
       "      <td>1.949186</td>\n",
       "      <td>44937.082031</td>\n",
       "      <td>0.0790</td>\n",
       "      <td>0.6170</td>\n",
       "      <td>1.263</td>\n",
       "      <td>1.8280</td>\n",
       "      <td>2.3970</td>\n",
       "      <td>2.9640</td>\n",
       "      <td>3.2660</td>\n",
       "      <td>3.5790</td>\n",
       "      <td>3.89400</td>\n",
       "      <td>4.2820</td>\n",
       "      <td>4.926000</td>\n",
       "    </tr>\n",
       "    <tr>\n",
       "      <th>62</th>\n",
       "      <td>T_JK_26</td>\n",
       "      <td>3879.673041</td>\n",
       "      <td>0.255</td>\n",
       "      <td>-0.000</td>\n",
       "      <td>24.921</td>\n",
       "      <td>5.890038</td>\n",
       "      <td>5.433901</td>\n",
       "      <td>59795.664062</td>\n",
       "      <td>1.3822</td>\n",
       "      <td>2.4962</td>\n",
       "      <td>3.233</td>\n",
       "      <td>3.9075</td>\n",
       "      <td>4.7662</td>\n",
       "      <td>7.6382</td>\n",
       "      <td>9.5880</td>\n",
       "      <td>11.4110</td>\n",
       "      <td>12.57135</td>\n",
       "      <td>13.8010</td>\n",
       "      <td>16.438149</td>\n",
       "    </tr>\n",
       "    <tr>\n",
       "      <th>102</th>\n",
       "      <td>T_JK_31</td>\n",
       "      <td>3919.073630</td>\n",
       "      <td>0.248</td>\n",
       "      <td>-0.005</td>\n",
       "      <td>17.770</td>\n",
       "      <td>4.943701</td>\n",
       "      <td>4.994389</td>\n",
       "      <td>48853.648438</td>\n",
       "      <td>0.6802</td>\n",
       "      <td>1.5613</td>\n",
       "      <td>2.222</td>\n",
       "      <td>2.8520</td>\n",
       "      <td>3.7850</td>\n",
       "      <td>5.9740</td>\n",
       "      <td>8.4515</td>\n",
       "      <td>10.4458</td>\n",
       "      <td>12.22395</td>\n",
       "      <td>13.6840</td>\n",
       "      <td>14.926900</td>\n",
       "    </tr>\n",
       "    <tr>\n",
       "      <th>21</th>\n",
       "      <td>T_BD_31</td>\n",
       "      <td>4411.427471</td>\n",
       "      <td>0.446</td>\n",
       "      <td>-0.000</td>\n",
       "      <td>12.730</td>\n",
       "      <td>2.319425</td>\n",
       "      <td>1.705514</td>\n",
       "      <td>41267.207031</td>\n",
       "      <td>0.1372</td>\n",
       "      <td>1.2450</td>\n",
       "      <td>2.181</td>\n",
       "      <td>2.5820</td>\n",
       "      <td>2.9350</td>\n",
       "      <td>3.2750</td>\n",
       "      <td>3.4670</td>\n",
       "      <td>3.6740</td>\n",
       "      <td>3.92100</td>\n",
       "      <td>4.1990</td>\n",
       "      <td>4.593450</td>\n",
       "    </tr>\n",
       "  </tbody>\n",
       "</table>\n",
       "</div>"
      ],
      "text/plain": [
       "       field  Rabo_Plot_AGB_kg   Area    min     max      mean       std  \\\n",
       "99   T_BD_10       1595.997444  0.664 -0.000   6.640  1.769665  1.361052   \n",
       "11   T_BD_20       3158.669218  0.547 -0.002  14.085  2.062659  1.949186   \n",
       "62   T_JK_26       3879.673041  0.255 -0.000  24.921  5.890038  5.433901   \n",
       "102  T_JK_31       3919.073630  0.248 -0.005  17.770  4.943701  4.994389   \n",
       "21   T_BD_31       4411.427471  0.446 -0.000  12.730  2.319425  1.705514   \n",
       "\n",
       "              sum  percentile_20  percentile_30  percentile_40  percentile_50  \\\n",
       "99   46841.250000         0.1890         0.7440          1.293         1.7300   \n",
       "11   44937.082031         0.0790         0.6170          1.263         1.8280   \n",
       "62   59795.664062         1.3822         2.4962          3.233         3.9075   \n",
       "102  48853.648438         0.6802         1.5613          2.222         2.8520   \n",
       "21   41267.207031         0.1372         1.2450          2.181         2.5820   \n",
       "\n",
       "     percentile_60  percentile_70  percentile_75  percentile_80  \\\n",
       "99          2.1840         2.6050         2.8140         3.0560   \n",
       "11          2.3970         2.9640         3.2660         3.5790   \n",
       "62          4.7662         7.6382         9.5880        11.4110   \n",
       "102         3.7850         5.9740         8.4515        10.4458   \n",
       "21          2.9350         3.2750         3.4670         3.6740   \n",
       "\n",
       "     percentile_85  percentile_90  percentile_95  \n",
       "99         3.31700         3.6242       4.041600  \n",
       "11         3.89400         4.2820       4.926000  \n",
       "62        12.57135        13.8010      16.438149  \n",
       "102       12.22395        13.6840      14.926900  \n",
       "21         3.92100         4.1990       4.593450  "
      ]
     },
     "execution_count": 5,
     "metadata": {},
     "output_type": "execute_result"
    }
   ],
   "source": [
    "# df = gdf[[\"Rabo_Plot_AGB_kg\",\"Area\",\"max\",\"mean\",\"std\",\"sum\",\n",
    "#           'percentile_20','percentile_30','percentile_40','percentile_50','percentile_60',\n",
    "#           'percentile_70','percentile_75','percentile_80','percentile_85',\n",
    "#           'percentile_90','percentile_95']].dropna().sort_values(\"Rabo_Plot_AGB_kg\")\n",
    "df = gdf[[\"field\",\"Rabo_Plot_AGB_kg\",\"Area\",*(stats)]].dropna().sort_values(\"Rabo_Plot_AGB_kg\")\n",
    "\n",
    "print(\"Number of samples:\", len(df), \"out of\", len(trainPolygons),\"total field samples\")\n",
    "df.head()"
   ]
  },
  {
   "cell_type": "code",
   "execution_count": 6,
   "id": "3f698253",
   "metadata": {
    "scrolled": true
   },
   "outputs": [
    {
     "data": {
      "text/plain": [
       "Rabo_Plot_AGB_kg    1.000000\n",
       "Area                0.174120\n",
       "min                -0.243515\n",
       "max                 0.054902\n",
       "mean                0.167287\n",
       "std                 0.238395\n",
       "sum                 0.314001\n",
       "percentile_20      -0.014112\n",
       "percentile_30      -0.037187\n",
       "percentile_40       0.028099\n",
       "percentile_50       0.099131\n",
       "percentile_60       0.181912\n",
       "percentile_70       0.198958\n",
       "percentile_75       0.187254\n",
       "percentile_80       0.180943\n",
       "percentile_85       0.174220\n",
       "percentile_90       0.202116\n",
       "percentile_95       0.220160\n",
       "Name: Rabo_Plot_AGB_kg, dtype: float64"
      ]
     },
     "execution_count": 6,
     "metadata": {},
     "output_type": "execute_result"
    }
   ],
   "source": [
    "# Check initial correlations of features with AGB (0=low, 1=high correlation)\n",
    "\n",
    "df.corr()['Rabo_Plot_AGB_kg'][:]"
   ]
  },
  {
   "cell_type": "code",
   "execution_count": 7,
   "id": "1ffcc260",
   "metadata": {
    "scrolled": true
   },
   "outputs": [
    {
     "data": {
      "text/plain": [
       "<seaborn.axisgrid.PairGrid at 0x1ed74c9c820>"
      ]
     },
     "execution_count": 7,
     "metadata": {},
     "output_type": "execute_result"
    },
    {
     "data": {
      "image/png": "[encoded data removed]",
      "text/plain": [
       "<Figure size 3420x180 with 20 Axes>"
      ]
     },
     "metadata": {
      "needs_background": "light"
     },
     "output_type": "display_data"
    }
   ],
   "source": [
    "# Explore data distribution of features with target feature\n",
    "\n",
    "sns.pairplot(df, y_vars=\"Rabo_Plot_AGB_kg\", x_vars=df.columns.values)\n",
    "\n",
    "# (double-click on graphs to expand size)\n",
    "# there seems to be one large outlier (with very high biomass)"
   ]
  },
  {
   "cell_type": "code",
   "execution_count": null,
   "id": "ae2d5a8d",
   "metadata": {},
   "outputs": [],
   "source": []
  },
  {
   "cell_type": "code",
   "execution_count": 8,
   "id": "ec2c6f33",
   "metadata": {},
   "outputs": [
    {
     "data": {
      "text/html": [
       "<div>\n",
       "<style scoped>\n",
       "    .dataframe tbody tr th:only-of-type {\n",
       "        vertical-align: middle;\n",
       "    }\n",
       "\n",
       "    .dataframe tbody tr th {\n",
       "        vertical-align: top;\n",
       "    }\n",
       "\n",
       "    .dataframe thead th {\n",
       "        text-align: right;\n",
       "    }\n",
       "</style>\n",
       "<table border=\"1\" class=\"dataframe\">\n",
       "  <thead>\n",
       "    <tr style=\"text-align: right;\">\n",
       "      <th></th>\n",
       "      <th>field</th>\n",
       "      <th>AGBperArea</th>\n",
       "      <th>Rabo_Plot_AGB_kg</th>\n",
       "      <th>Area</th>\n",
       "      <th>SUMperArea</th>\n",
       "      <th>min</th>\n",
       "      <th>max</th>\n",
       "      <th>mean</th>\n",
       "      <th>std</th>\n",
       "      <th>sum</th>\n",
       "      <th>...</th>\n",
       "      <th>percentile_30</th>\n",
       "      <th>percentile_40</th>\n",
       "      <th>percentile_50</th>\n",
       "      <th>percentile_60</th>\n",
       "      <th>percentile_70</th>\n",
       "      <th>percentile_75</th>\n",
       "      <th>percentile_80</th>\n",
       "      <th>percentile_85</th>\n",
       "      <th>percentile_90</th>\n",
       "      <th>percentile_95</th>\n",
       "    </tr>\n",
       "  </thead>\n",
       "  <tbody>\n",
       "    <tr>\n",
       "      <th>99</th>\n",
       "      <td>T_BD_10</td>\n",
       "      <td>2403.610608</td>\n",
       "      <td>1595.997444</td>\n",
       "      <td>0.664</td>\n",
       "      <td>70544.051205</td>\n",
       "      <td>-0.000</td>\n",
       "      <td>6.640</td>\n",
       "      <td>1.769665</td>\n",
       "      <td>1.361052</td>\n",
       "      <td>46841.250000</td>\n",
       "      <td>...</td>\n",
       "      <td>0.7440</td>\n",
       "      <td>1.293</td>\n",
       "      <td>1.7300</td>\n",
       "      <td>2.1840</td>\n",
       "      <td>2.6050</td>\n",
       "      <td>2.8140</td>\n",
       "      <td>3.0560</td>\n",
       "      <td>3.31700</td>\n",
       "      <td>3.6242</td>\n",
       "      <td>4.041600</td>\n",
       "    </tr>\n",
       "    <tr>\n",
       "      <th>11</th>\n",
       "      <td>T_BD_20</td>\n",
       "      <td>5774.532391</td>\n",
       "      <td>3158.669218</td>\n",
       "      <td>0.547</td>\n",
       "      <td>82151.886712</td>\n",
       "      <td>-0.002</td>\n",
       "      <td>14.085</td>\n",
       "      <td>2.062659</td>\n",
       "      <td>1.949186</td>\n",
       "      <td>44937.082031</td>\n",
       "      <td>...</td>\n",
       "      <td>0.6170</td>\n",
       "      <td>1.263</td>\n",
       "      <td>1.8280</td>\n",
       "      <td>2.3970</td>\n",
       "      <td>2.9640</td>\n",
       "      <td>3.2660</td>\n",
       "      <td>3.5790</td>\n",
       "      <td>3.89400</td>\n",
       "      <td>4.2820</td>\n",
       "      <td>4.926000</td>\n",
       "    </tr>\n",
       "    <tr>\n",
       "      <th>62</th>\n",
       "      <td>T_JK_26</td>\n",
       "      <td>15214.404082</td>\n",
       "      <td>3879.673041</td>\n",
       "      <td>0.255</td>\n",
       "      <td>234492.800245</td>\n",
       "      <td>-0.000</td>\n",
       "      <td>24.921</td>\n",
       "      <td>5.890038</td>\n",
       "      <td>5.433901</td>\n",
       "      <td>59795.664062</td>\n",
       "      <td>...</td>\n",
       "      <td>2.4962</td>\n",
       "      <td>3.233</td>\n",
       "      <td>3.9075</td>\n",
       "      <td>4.7662</td>\n",
       "      <td>7.6382</td>\n",
       "      <td>9.5880</td>\n",
       "      <td>11.4110</td>\n",
       "      <td>12.57135</td>\n",
       "      <td>13.8010</td>\n",
       "      <td>16.438149</td>\n",
       "    </tr>\n",
       "    <tr>\n",
       "      <th>102</th>\n",
       "      <td>T_JK_31</td>\n",
       "      <td>15802.716250</td>\n",
       "      <td>3919.073630</td>\n",
       "      <td>0.248</td>\n",
       "      <td>196990.517893</td>\n",
       "      <td>-0.005</td>\n",
       "      <td>17.770</td>\n",
       "      <td>4.943701</td>\n",
       "      <td>4.994389</td>\n",
       "      <td>48853.648438</td>\n",
       "      <td>...</td>\n",
       "      <td>1.5613</td>\n",
       "      <td>2.222</td>\n",
       "      <td>2.8520</td>\n",
       "      <td>3.7850</td>\n",
       "      <td>5.9740</td>\n",
       "      <td>8.4515</td>\n",
       "      <td>10.4458</td>\n",
       "      <td>12.22395</td>\n",
       "      <td>13.6840</td>\n",
       "      <td>14.926900</td>\n",
       "    </tr>\n",
       "    <tr>\n",
       "      <th>21</th>\n",
       "      <td>T_BD_31</td>\n",
       "      <td>9891.092984</td>\n",
       "      <td>4411.427471</td>\n",
       "      <td>0.446</td>\n",
       "      <td>92527.370025</td>\n",
       "      <td>-0.000</td>\n",
       "      <td>12.730</td>\n",
       "      <td>2.319425</td>\n",
       "      <td>1.705514</td>\n",
       "      <td>41267.207031</td>\n",
       "      <td>...</td>\n",
       "      <td>1.2450</td>\n",
       "      <td>2.181</td>\n",
       "      <td>2.5820</td>\n",
       "      <td>2.9350</td>\n",
       "      <td>3.2750</td>\n",
       "      <td>3.4670</td>\n",
       "      <td>3.6740</td>\n",
       "      <td>3.92100</td>\n",
       "      <td>4.1990</td>\n",
       "      <td>4.593450</td>\n",
       "    </tr>\n",
       "  </tbody>\n",
       "</table>\n",
       "<p>5 rows × 21 columns</p>\n",
       "</div>"
      ],
      "text/plain": [
       "       field    AGBperArea  Rabo_Plot_AGB_kg   Area     SUMperArea    min  \\\n",
       "99   T_BD_10   2403.610608       1595.997444  0.664   70544.051205 -0.000   \n",
       "11   T_BD_20   5774.532391       3158.669218  0.547   82151.886712 -0.002   \n",
       "62   T_JK_26  15214.404082       3879.673041  0.255  234492.800245 -0.000   \n",
       "102  T_JK_31  15802.716250       3919.073630  0.248  196990.517893 -0.005   \n",
       "21   T_BD_31   9891.092984       4411.427471  0.446   92527.370025 -0.000   \n",
       "\n",
       "        max      mean       std           sum  ...  percentile_30  \\\n",
       "99    6.640  1.769665  1.361052  46841.250000  ...         0.7440   \n",
       "11   14.085  2.062659  1.949186  44937.082031  ...         0.6170   \n",
       "62   24.921  5.890038  5.433901  59795.664062  ...         2.4962   \n",
       "102  17.770  4.943701  4.994389  48853.648438  ...         1.5613   \n",
       "21   12.730  2.319425  1.705514  41267.207031  ...         1.2450   \n",
       "\n",
       "     percentile_40  percentile_50  percentile_60  percentile_70  \\\n",
       "99           1.293         1.7300         2.1840         2.6050   \n",
       "11           1.263         1.8280         2.3970         2.9640   \n",
       "62           3.233         3.9075         4.7662         7.6382   \n",
       "102          2.222         2.8520         3.7850         5.9740   \n",
       "21           2.181         2.5820         2.9350         3.2750   \n",
       "\n",
       "     percentile_75  percentile_80  percentile_85  percentile_90  percentile_95  \n",
       "99          2.8140         3.0560        3.31700         3.6242       4.041600  \n",
       "11          3.2660         3.5790        3.89400         4.2820       4.926000  \n",
       "62          9.5880        11.4110       12.57135        13.8010      16.438149  \n",
       "102         8.4515        10.4458       12.22395        13.6840      14.926900  \n",
       "21          3.4670         3.6740        3.92100         4.1990       4.593450  \n",
       "\n",
       "[5 rows x 21 columns]"
      ]
     },
     "execution_count": 8,
     "metadata": {},
     "output_type": "execute_result"
    }
   ],
   "source": [
    "# Recaluclate Biomass: from Total Biomass to Biomass per Area (hectares)\n",
    "\n",
    "# Divide AGB by Area column\n",
    "df[['AGBperArea']] = df[['Rabo_Plot_AGB_kg']].div(df['Area'].values,axis=0)\n",
    "\n",
    "# Put AGBperArea as first column (after field)\n",
    "newcol = df.pop('AGBperArea')\n",
    "df.insert(1, 'AGBperArea', newcol)\n",
    "df.head()\n",
    "\n",
    "## Change Sum to Sum/Area\n",
    "df[['SUMperArea']] = df[['sum']].div(df['Area'].values,axis=0)\n",
    "newcol = df.pop('SUMperArea')\n",
    "df.insert(4, 'SUMperArea', newcol)\n",
    "df.head()"
   ]
  },
  {
   "cell_type": "code",
   "execution_count": 9,
   "id": "46f6b885",
   "metadata": {},
   "outputs": [
    {
     "name": "stdout",
     "output_type": "stream",
     "text": [
      "Rabo_Plot_AGB_kg    0.902365\n",
      "Area               -0.175367\n",
      "SUMperArea          0.101750\n",
      "min                -0.082090\n",
      "max                -0.116583\n",
      "mean                0.101872\n",
      "std                 0.165877\n",
      "sum                -0.076971\n",
      "percentile_20      -0.003793\n",
      "percentile_30      -0.064382\n",
      "percentile_40      -0.044682\n",
      "percentile_50      -0.000568\n",
      "percentile_60       0.089755\n",
      "percentile_70       0.130004\n",
      "percentile_75       0.140090\n",
      "percentile_80       0.147225\n",
      "percentile_85       0.147606\n",
      "percentile_90       0.170283\n",
      "percentile_95       0.174505\n",
      "dtype: float64\n"
     ]
    }
   ],
   "source": [
    "# (Re)calculate correlations of zonal stats with AGBperArea\n",
    "\n",
    "print(df.loc[:, df.columns != 'AGBperArea'].corrwith(df['AGBperArea']))\n"
   ]
  },
  {
   "cell_type": "code",
   "execution_count": 10,
   "id": "bd1bb9f4",
   "metadata": {},
   "outputs": [
    {
     "data": {
      "text/plain": [
       "<seaborn.axisgrid.PairGrid at 0x170f3416af0>"
      ]
     },
     "execution_count": 10,
     "metadata": {},
     "output_type": "execute_result"
    },
    {
     "data": {
      "image/png": "[encoded data removed]",
      "text/plain": [
       "<Figure size 3780x180 with 22 Axes>"
      ]
     },
     "metadata": {
      "needs_background": "light"
     },
     "output_type": "display_data"
    }
   ],
   "source": [
    "# Check scatterplots of data\n",
    "\n",
    "sns.pairplot(df, y_vars=\"AGBperArea\", x_vars=df.columns.values)\n",
    "\n",
    "# (double-click on graphs to expand size)\n",
    "# as percentile_95 seems to be the highest correlated, check this scatterplot...\n",
    "# there seems to be this one large outlier again (with very high biomass)"
   ]
  },
  {
   "cell_type": "code",
   "execution_count": 10,
   "id": "c9adda67",
   "metadata": {},
   "outputs": [
    {
     "name": "stdout",
     "output_type": "stream",
     "text": [
      "44 plots\n"
     ]
    },
    {
     "data": {
      "image/png": "[encoded data removed]",
      "text/plain": [
       "<Figure size 432x288 with 1 Axes>"
      ]
     },
     "metadata": {
      "needs_background": "light"
     },
     "output_type": "display_data"
    }
   ],
   "source": [
    "# Let's remove this outlier and check the boxplot\n",
    "df.boxplot(column='AGBperArea', return_type='axes');\n",
    "\n",
    "df_filtered = df[df.AGBperArea <= 700000]\n",
    "print(len(df_filtered), \"plots\") # 45 -> 44 plots\n"
   ]
  },
  {
   "cell_type": "code",
   "execution_count": 11,
   "id": "64d50f5d",
   "metadata": {},
   "outputs": [
    {
     "data": {
      "image/png": "[encoded data removed]",
      "text/plain": [
       "<Figure size 432x288 with 1 Axes>"
      ]
     },
     "metadata": {
      "needs_background": "light"
     },
     "output_type": "display_data"
    }
   ],
   "source": [
    "# Recheck the boxplot\n",
    "df_filtered.boxplot(column='AGBperArea', return_type='axes');\n",
    "\n",
    "# this looks better..."
   ]
  },
  {
   "cell_type": "code",
   "execution_count": 12,
   "id": "2d4ee94a",
   "metadata": {
    "scrolled": true
   },
   "outputs": [
    {
     "name": "stdout",
     "output_type": "stream",
     "text": [
      "Rabo_Plot_AGB_kg    0.667333\n",
      "Area               -0.201852\n",
      "SUMperArea          0.456431\n",
      "min                -0.215295\n",
      "max                 0.344083\n",
      "mean                0.456769\n",
      "std                 0.584349\n",
      "sum                 0.060849\n",
      "percentile_20       0.187866\n",
      "percentile_30       0.135279\n",
      "percentile_40       0.201114\n",
      "percentile_50       0.257591\n",
      "percentile_60       0.400925\n",
      "percentile_70       0.441786\n",
      "percentile_75       0.460337\n",
      "percentile_80       0.473641\n",
      "percentile_85       0.482742\n",
      "percentile_90       0.523336\n",
      "percentile_95       0.566749\n",
      "dtype: float64\n"
     ]
    }
   ],
   "source": [
    "# Calculate correlations of stats with AGB/ha\n",
    "print(df_filtered.loc[:, df_filtered.columns != 'AGBperArea'].corrwith(df_filtered['AGBperArea']))\n",
    "\n",
    "# this gives way better correlations!\n",
    "\n",
    "# features to remove: total AGB, Area, Min, Sum"
   ]
  },
  {
   "cell_type": "code",
   "execution_count": 13,
   "id": "bc53d774",
   "metadata": {
    "scrolled": true
   },
   "outputs": [
    {
     "data": {
      "text/html": [
       "<div>\n",
       "<style scoped>\n",
       "    .dataframe tbody tr th:only-of-type {\n",
       "        vertical-align: middle;\n",
       "    }\n",
       "\n",
       "    .dataframe tbody tr th {\n",
       "        vertical-align: top;\n",
       "    }\n",
       "\n",
       "    .dataframe thead th {\n",
       "        text-align: right;\n",
       "    }\n",
       "</style>\n",
       "<table border=\"1\" class=\"dataframe\">\n",
       "  <thead>\n",
       "    <tr style=\"text-align: right;\">\n",
       "      <th></th>\n",
       "      <th>field</th>\n",
       "      <th>AGBperArea</th>\n",
       "      <th>SUMperArea</th>\n",
       "      <th>max</th>\n",
       "      <th>mean</th>\n",
       "      <th>std</th>\n",
       "      <th>percentile_20</th>\n",
       "      <th>percentile_30</th>\n",
       "      <th>percentile_40</th>\n",
       "      <th>percentile_50</th>\n",
       "      <th>percentile_60</th>\n",
       "      <th>percentile_70</th>\n",
       "      <th>percentile_75</th>\n",
       "      <th>percentile_80</th>\n",
       "      <th>percentile_85</th>\n",
       "      <th>percentile_90</th>\n",
       "      <th>percentile_95</th>\n",
       "    </tr>\n",
       "  </thead>\n",
       "  <tbody>\n",
       "    <tr>\n",
       "      <th>20</th>\n",
       "      <td>T_BD_30</td>\n",
       "      <td>45243.708045</td>\n",
       "      <td>114452.830395</td>\n",
       "      <td>16.830999</td>\n",
       "      <td>2.870542</td>\n",
       "      <td>2.868148</td>\n",
       "      <td>0.2590</td>\n",
       "      <td>1.1900</td>\n",
       "      <td>2.1032</td>\n",
       "      <td>2.6080</td>\n",
       "      <td>2.9620</td>\n",
       "      <td>3.3560</td>\n",
       "      <td>3.61975</td>\n",
       "      <td>3.9390</td>\n",
       "      <td>4.399000</td>\n",
       "      <td>5.518100</td>\n",
       "      <td>9.905350</td>\n",
       "    </tr>\n",
       "    <tr>\n",
       "      <th>61</th>\n",
       "      <td>T_JK_25</td>\n",
       "      <td>47045.203694</td>\n",
       "      <td>243569.552951</td>\n",
       "      <td>19.658001</td>\n",
       "      <td>6.108753</td>\n",
       "      <td>4.772478</td>\n",
       "      <td>1.5576</td>\n",
       "      <td>2.5809</td>\n",
       "      <td>3.3720</td>\n",
       "      <td>4.9175</td>\n",
       "      <td>7.2574</td>\n",
       "      <td>8.9822</td>\n",
       "      <td>10.00950</td>\n",
       "      <td>11.1820</td>\n",
       "      <td>12.158000</td>\n",
       "      <td>13.204800</td>\n",
       "      <td>14.443050</td>\n",
       "    </tr>\n",
       "    <tr>\n",
       "      <th>31</th>\n",
       "      <td>T_BD_51</td>\n",
       "      <td>49391.695655</td>\n",
       "      <td>116843.007396</td>\n",
       "      <td>23.228001</td>\n",
       "      <td>2.931953</td>\n",
       "      <td>4.175291</td>\n",
       "      <td>0.0000</td>\n",
       "      <td>0.2950</td>\n",
       "      <td>1.0244</td>\n",
       "      <td>1.8600</td>\n",
       "      <td>2.5850</td>\n",
       "      <td>3.1730</td>\n",
       "      <td>3.55600</td>\n",
       "      <td>4.1280</td>\n",
       "      <td>4.938000</td>\n",
       "      <td>6.533000</td>\n",
       "      <td>12.192800</td>\n",
       "    </tr>\n",
       "    <tr>\n",
       "      <th>19</th>\n",
       "      <td>T_BD_3</td>\n",
       "      <td>55029.139082</td>\n",
       "      <td>101827.706473</td>\n",
       "      <td>16.548000</td>\n",
       "      <td>2.555580</td>\n",
       "      <td>2.764215</td>\n",
       "      <td>0.0290</td>\n",
       "      <td>0.6800</td>\n",
       "      <td>1.3870</td>\n",
       "      <td>1.9200</td>\n",
       "      <td>2.5320</td>\n",
       "      <td>3.3190</td>\n",
       "      <td>3.74200</td>\n",
       "      <td>4.1914</td>\n",
       "      <td>4.682000</td>\n",
       "      <td>5.408000</td>\n",
       "      <td>8.848600</td>\n",
       "    </tr>\n",
       "    <tr>\n",
       "      <th>33</th>\n",
       "      <td>T_BD_53</td>\n",
       "      <td>81624.322500</td>\n",
       "      <td>126568.680613</td>\n",
       "      <td>14.818000</td>\n",
       "      <td>3.176757</td>\n",
       "      <td>2.568600</td>\n",
       "      <td>0.6722</td>\n",
       "      <td>1.5300</td>\n",
       "      <td>2.2340</td>\n",
       "      <td>2.8730</td>\n",
       "      <td>3.6990</td>\n",
       "      <td>4.4017</td>\n",
       "      <td>4.69300</td>\n",
       "      <td>5.0320</td>\n",
       "      <td>5.378000</td>\n",
       "      <td>5.886800</td>\n",
       "      <td>8.018800</td>\n",
       "    </tr>\n",
       "    <tr>\n",
       "      <th>64</th>\n",
       "      <td>T_JK_30</td>\n",
       "      <td>92162.773416</td>\n",
       "      <td>404288.054696</td>\n",
       "      <td>26.039000</td>\n",
       "      <td>10.144891</td>\n",
       "      <td>6.118271</td>\n",
       "      <td>2.6080</td>\n",
       "      <td>6.4535</td>\n",
       "      <td>9.8060</td>\n",
       "      <td>11.9555</td>\n",
       "      <td>13.3480</td>\n",
       "      <td>14.5250</td>\n",
       "      <td>15.08800</td>\n",
       "      <td>15.6170</td>\n",
       "      <td>16.240749</td>\n",
       "      <td>17.051001</td>\n",
       "      <td>18.291500</td>\n",
       "    </tr>\n",
       "    <tr>\n",
       "      <th>35</th>\n",
       "      <td>T_BD_57</td>\n",
       "      <td>105217.669275</td>\n",
       "      <td>101168.120257</td>\n",
       "      <td>17.099001</td>\n",
       "      <td>2.539696</td>\n",
       "      <td>3.310195</td>\n",
       "      <td>0.0000</td>\n",
       "      <td>0.0810</td>\n",
       "      <td>0.6110</td>\n",
       "      <td>1.4840</td>\n",
       "      <td>2.3860</td>\n",
       "      <td>3.2040</td>\n",
       "      <td>3.64900</td>\n",
       "      <td>4.1698</td>\n",
       "      <td>4.845000</td>\n",
       "      <td>6.468200</td>\n",
       "      <td>10.031850</td>\n",
       "    </tr>\n",
       "    <tr>\n",
       "      <th>27</th>\n",
       "      <td>T_BD_44</td>\n",
       "      <td>141208.170778</td>\n",
       "      <td>179314.098523</td>\n",
       "      <td>18.638000</td>\n",
       "      <td>4.504270</td>\n",
       "      <td>4.915291</td>\n",
       "      <td>0.0150</td>\n",
       "      <td>0.4859</td>\n",
       "      <td>1.8690</td>\n",
       "      <td>2.7490</td>\n",
       "      <td>3.5200</td>\n",
       "      <td>5.4426</td>\n",
       "      <td>8.06175</td>\n",
       "      <td>10.3256</td>\n",
       "      <td>11.663100</td>\n",
       "      <td>12.914700</td>\n",
       "      <td>13.996350</td>\n",
       "    </tr>\n",
       "    <tr>\n",
       "      <th>23</th>\n",
       "      <td>T_BD_4</td>\n",
       "      <td>170000.368163</td>\n",
       "      <td>154585.551016</td>\n",
       "      <td>22.052000</td>\n",
       "      <td>3.883507</td>\n",
       "      <td>4.841845</td>\n",
       "      <td>1.0360</td>\n",
       "      <td>1.4290</td>\n",
       "      <td>1.7300</td>\n",
       "      <td>2.1320</td>\n",
       "      <td>2.6504</td>\n",
       "      <td>3.4800</td>\n",
       "      <td>4.02200</td>\n",
       "      <td>4.6472</td>\n",
       "      <td>6.444200</td>\n",
       "      <td>11.572800</td>\n",
       "      <td>16.865001</td>\n",
       "    </tr>\n",
       "    <tr>\n",
       "      <th>25</th>\n",
       "      <td>T_BD_41</td>\n",
       "      <td>216828.989155</td>\n",
       "      <td>231496.932078</td>\n",
       "      <td>22.983000</td>\n",
       "      <td>5.809641</td>\n",
       "      <td>6.135070</td>\n",
       "      <td>0.0000</td>\n",
       "      <td>0.3626</td>\n",
       "      <td>1.6930</td>\n",
       "      <td>3.2390</td>\n",
       "      <td>7.0752</td>\n",
       "      <td>8.9950</td>\n",
       "      <td>9.92000</td>\n",
       "      <td>11.1866</td>\n",
       "      <td>12.447200</td>\n",
       "      <td>14.845000</td>\n",
       "      <td>18.941000</td>\n",
       "    </tr>\n",
       "  </tbody>\n",
       "</table>\n",
       "</div>"
      ],
      "text/plain": [
       "      field     AGBperArea     SUMperArea        max       mean       std  \\\n",
       "20  T_BD_30   45243.708045  114452.830395  16.830999   2.870542  2.868148   \n",
       "61  T_JK_25   47045.203694  243569.552951  19.658001   6.108753  4.772478   \n",
       "31  T_BD_51   49391.695655  116843.007396  23.228001   2.931953  4.175291   \n",
       "19   T_BD_3   55029.139082  101827.706473  16.548000   2.555580  2.764215   \n",
       "33  T_BD_53   81624.322500  126568.680613  14.818000   3.176757  2.568600   \n",
       "64  T_JK_30   92162.773416  404288.054696  26.039000  10.144891  6.118271   \n",
       "35  T_BD_57  105217.669275  101168.120257  17.099001   2.539696  3.310195   \n",
       "27  T_BD_44  141208.170778  179314.098523  18.638000   4.504270  4.915291   \n",
       "23   T_BD_4  170000.368163  154585.551016  22.052000   3.883507  4.841845   \n",
       "25  T_BD_41  216828.989155  231496.932078  22.983000   5.809641  6.135070   \n",
       "\n",
       "    percentile_20  percentile_30  percentile_40  percentile_50  percentile_60  \\\n",
       "20         0.2590         1.1900         2.1032         2.6080         2.9620   \n",
       "61         1.5576         2.5809         3.3720         4.9175         7.2574   \n",
       "31         0.0000         0.2950         1.0244         1.8600         2.5850   \n",
       "19         0.0290         0.6800         1.3870         1.9200         2.5320   \n",
       "33         0.6722         1.5300         2.2340         2.8730         3.6990   \n",
       "64         2.6080         6.4535         9.8060        11.9555        13.3480   \n",
       "35         0.0000         0.0810         0.6110         1.4840         2.3860   \n",
       "27         0.0150         0.4859         1.8690         2.7490         3.5200   \n",
       "23         1.0360         1.4290         1.7300         2.1320         2.6504   \n",
       "25         0.0000         0.3626         1.6930         3.2390         7.0752   \n",
       "\n",
       "    percentile_70  percentile_75  percentile_80  percentile_85  percentile_90  \\\n",
       "20         3.3560        3.61975         3.9390       4.399000       5.518100   \n",
       "61         8.9822       10.00950        11.1820      12.158000      13.204800   \n",
       "31         3.1730        3.55600         4.1280       4.938000       6.533000   \n",
       "19         3.3190        3.74200         4.1914       4.682000       5.408000   \n",
       "33         4.4017        4.69300         5.0320       5.378000       5.886800   \n",
       "64        14.5250       15.08800        15.6170      16.240749      17.051001   \n",
       "35         3.2040        3.64900         4.1698       4.845000       6.468200   \n",
       "27         5.4426        8.06175        10.3256      11.663100      12.914700   \n",
       "23         3.4800        4.02200         4.6472       6.444200      11.572800   \n",
       "25         8.9950        9.92000        11.1866      12.447200      14.845000   \n",
       "\n",
       "    percentile_95  \n",
       "20       9.905350  \n",
       "61      14.443050  \n",
       "31      12.192800  \n",
       "19       8.848600  \n",
       "33       8.018800  \n",
       "64      18.291500  \n",
       "35      10.031850  \n",
       "27      13.996350  \n",
       "23      16.865001  \n",
       "25      18.941000  "
      ]
     },
     "execution_count": 13,
     "metadata": {},
     "output_type": "execute_result"
    }
   ],
   "source": [
    "# Remove uncorrelated features\n",
    "\n",
    "df = df_filtered.drop(columns=[\"Rabo_Plot_AGB_kg\", \"Area\", \"min\" ,\"sum\"], axis=1)\n",
    "df.sort_values(\"AGBperArea\").tail(10)"
   ]
  },
  {
   "cell_type": "code",
   "execution_count": 15,
   "id": "b6f3eae8",
   "metadata": {},
   "outputs": [
    {
     "data": {
      "text/plain": [
       "AGBperArea       1.000000\n",
       "SUMperArea       0.481043\n",
       "max              0.291473\n",
       "mean             0.481466\n",
       "std              0.535025\n",
       "percentile_20    0.081882\n",
       "percentile_30    0.166197\n",
       "percentile_40    0.220586\n",
       "percentile_50    0.299225\n",
       "percentile_60    0.373784\n",
       "percentile_70    0.443129\n",
       "percentile_75    0.478365\n",
       "percentile_80    0.483439\n",
       "percentile_85    0.498661\n",
       "percentile_90    0.541790\n",
       "percentile_95    0.557153\n",
       "Name: AGBperArea, dtype: float64"
      ]
     },
     "execution_count": 15,
     "metadata": {},
     "output_type": "execute_result"
    }
   ],
   "source": [
    "df.corr(\"spearman\")[\"AGBperArea\"][:]"
   ]
  },
  {
   "cell_type": "code",
   "execution_count": 15,
   "id": "c0b018a1",
   "metadata": {
    "scrolled": true
   },
   "outputs": [
    {
     "data": {
      "text/plain": [
       "<seaborn.axisgrid.PairGrid at 0x170f4f0a2e0>"
      ]
     },
     "execution_count": 15,
     "metadata": {},
     "output_type": "execute_result"
    },
    {
     "data": {
      "image/png": "[encoded data removed]",
      "text/plain": [
       "<Figure size 3060x180 with 18 Axes>"
      ]
     },
     "metadata": {
      "needs_background": "light"
     },
     "output_type": "display_data"
    }
   ],
   "source": [
    "sns.pairplot(df, y_vars=\"AGBperArea\", x_vars=df.columns.values)"
   ]
  },
  {
   "cell_type": "code",
   "execution_count": null,
   "id": "05a71f14",
   "metadata": {},
   "outputs": [],
   "source": []
  },
  {
   "cell_type": "code",
   "execution_count": 16,
   "id": "04a9659b",
   "metadata": {
    "scrolled": false
   },
   "outputs": [
    {
     "name": "stdout",
     "output_type": "stream",
     "text": [
      "AGBperArea       0.861770\n",
      "SUMperArea       0.463970\n",
      "max              0.425590\n",
      "mean             0.464207\n",
      "std              0.580234\n",
      "percentile_20    0.264077\n",
      "percentile_30    0.213867\n",
      "percentile_40    0.261243\n",
      "percentile_50    0.304123\n",
      "percentile_60    0.390063\n",
      "percentile_70    0.414454\n",
      "percentile_75    0.426128\n",
      "percentile_80    0.434699\n",
      "percentile_85    0.449144\n",
      "percentile_90    0.489667\n",
      "percentile_95    0.582117\n",
      "logy             1.000000\n",
      "Name: logy, dtype: float64\n"
     ]
    },
    {
     "data": {
      "image/png": "[encoded data removed]",
      "text/plain": [
       "<Figure size 3240x180 with 19 Axes>"
      ]
     },
     "metadata": {
      "needs_background": "light"
     },
     "output_type": "display_data"
    }
   ],
   "source": [
    "df[\"logy\"] = np.log(df[\"AGBperArea\"])\n",
    "print(df.corr()['logy'][:])\n",
    "sns.pairplot(df, y_vars=\"logy\", x_vars=df.columns.values)\n",
    "df = df.drop(\"logy\", axis=1)"
   ]
  },
  {
   "cell_type": "code",
   "execution_count": 17,
   "id": "2e3a856b",
   "metadata": {},
   "outputs": [
    {
     "data": {
      "text/plain": [
       "<AxesSubplot:xlabel='percentile_95', ylabel='AGBperArea'>"
      ]
     },
     "execution_count": 17,
     "metadata": {},
     "output_type": "execute_result"
    },
    {
     "data": {
      "image/png": "[encoded data removed]",
      "text/plain": [
       "<Figure size 432x288 with 1 Axes>"
      ]
     },
     "metadata": {
      "needs_background": "light"
     },
     "output_type": "display_data"
    }
   ],
   "source": [
    "df[df.AGBperArea < 100000].plot.scatter(\"percentile_95\",\"AGBperArea\")"
   ]
  },
  {
   "cell_type": "code",
   "execution_count": 18,
   "id": "706dab89",
   "metadata": {},
   "outputs": [
    {
     "data": {
      "text/plain": [
       "AGBperArea       1.000000\n",
       "SUMperArea       0.542445\n",
       "max              0.399375\n",
       "mean             0.542932\n",
       "std              0.704996\n",
       "percentile_20    0.227064\n",
       "percentile_30    0.167623\n",
       "percentile_40    0.232641\n",
       "percentile_50    0.287493\n",
       "percentile_60    0.433778\n",
       "percentile_70    0.510097\n",
       "percentile_75    0.565599\n",
       "percentile_80    0.605989\n",
       "percentile_85    0.628181\n",
       "percentile_90    0.658498\n",
       "percentile_95    0.673693\n",
       "Name: AGBperArea, dtype: float64"
      ]
     },
     "execution_count": 18,
     "metadata": {},
     "output_type": "execute_result"
    },
    {
     "data": {
      "image/png": "[encoded data removed]",
      "text/plain": [
       "<Figure size 432x288 with 1 Axes>"
      ]
     },
     "metadata": {
      "needs_background": "light"
     },
     "output_type": "display_data"
    }
   ],
   "source": [
    "temp = df[~((df[\"AGBperArea\"] < 20000) & (df[\"percentile_95\"] > 14))]\n",
    "temp[temp.AGBperArea < 40000].plot.scatter(\"percentile_95\",\"AGBperArea\")\n",
    "temp.corr()[\"AGBperArea\"][:]\n"
   ]
  },
  {
   "cell_type": "code",
   "execution_count": null,
   "id": "98a6f6a4",
   "metadata": {},
   "outputs": [],
   "source": []
  },
  {
   "cell_type": "code",
   "execution_count": 19,
   "id": "791e1383",
   "metadata": {},
   "outputs": [
    {
     "data": {
      "text/plain": [
       "AGBperArea       1.000000\n",
       "SUMperArea       0.575994\n",
       "max              0.431638\n",
       "mean             0.576503\n",
       "std              0.773853\n",
       "percentile_20    0.254594\n",
       "percentile_30    0.201580\n",
       "percentile_40    0.257178\n",
       "percentile_50    0.300986\n",
       "percentile_60    0.439776\n",
       "percentile_70    0.514996\n",
       "percentile_75    0.571318\n",
       "percentile_80    0.614821\n",
       "percentile_85    0.662031\n",
       "percentile_90    0.740321\n",
       "percentile_95    0.784118\n",
       "Name: AGBperArea, dtype: float64"
      ]
     },
     "execution_count": 19,
     "metadata": {},
     "output_type": "execute_result"
    },
    {
     "data": {
      "image/png": "[encoded data removed]",
      "text/plain": [
       "<Figure size 432x288 with 1 Axes>"
      ]
     },
     "metadata": {
      "needs_background": "light"
     },
     "output_type": "display_data"
    }
   ],
   "source": [
    "temp = temp[~((temp[\"AGBperArea\"] < 25000) & (temp[\"percentile_95\"] > 10))]\n",
    "temp[temp.AGBperArea < 40000].plot.scatter(\"percentile_95\",\"AGBperArea\")\n",
    "temp.corr()[\"AGBperArea\"][:]\n"
   ]
  },
  {
   "cell_type": "code",
   "execution_count": null,
   "id": "80a10063",
   "metadata": {},
   "outputs": [],
   "source": []
  },
  {
   "cell_type": "code",
   "execution_count": 20,
   "id": "3d7859b4",
   "metadata": {},
   "outputs": [
    {
     "data": {
      "text/plain": [
       "<AxesSubplot:xlabel='percentile_95', ylabel='AGBperArea'>"
      ]
     },
     "execution_count": 20,
     "metadata": {},
     "output_type": "execute_result"
    },
    {
     "data": {
      "image/png": "[encoded data removed]",
      "text/plain": [
       "<Figure size 432x288 with 1 Axes>"
      ]
     },
     "metadata": {
      "needs_background": "light"
     },
     "output_type": "display_data"
    }
   ],
   "source": [
    "df = temp\n",
    "df[df.AGBperArea < 200000].plot.scatter(\"percentile_95\",\"AGBperArea\")"
   ]
  },
  {
   "cell_type": "code",
   "execution_count": null,
   "id": "5abaeaf9",
   "metadata": {},
   "outputs": [],
   "source": []
  },
  {
   "cell_type": "code",
   "execution_count": null,
   "id": "1f8cfc50",
   "metadata": {},
   "outputs": [],
   "source": []
  },
  {
   "cell_type": "markdown",
   "id": "d3a11587",
   "metadata": {},
   "source": [
    "# Machine Learning"
   ]
  },
  {
   "cell_type": "code",
   "execution_count": 21,
   "id": "be930b91",
   "metadata": {},
   "outputs": [],
   "source": [
    "def plot_predictions(ytest,ypred):\n",
    "    \n",
    "    plt.figure(figsize=(10,10))\n",
    "    plt.scatter(ytest, ypred, c='crimson')\n",
    "    plt.grid()\n",
    "    plt.xticks([0,20,40,60,80,100,120,140,160,180,200,220], fontsize=16)\n",
    "    plt.yticks([0,20,40,60,80,100,120,140,160,180,200,220], fontsize=16)\n",
    "    # plt.yscale('log')\n",
    "    # plt.xscale('log')\n",
    "\n",
    "    p1 = max(max(ypred), max(ytest))\n",
    "    p2 = min(min(ypred), min(ytest))\n",
    "    plt.plot([p1, p2], [p1, p2], 'b-')\n",
    "    plt.xlabel('Reference biomass (Mg/ha)', fontsize=22, labelpad=10)\n",
    "    plt.ylabel('Predicted biomass (Mg/ha)', fontsize=22, labelpad=10)\n",
    "    \n",
    "    plt.axis('equal')\n",
    "    \n",
    "    z = np.polyfit(ytest, ypred, 1)\n",
    "    y_hat = np.poly1d(z)(ytest)\n",
    "    plt.plot(ytest, y_hat, \"r--\", lw=1)\n",
    "    plt.legend([\"Ideal trend\",\"Predicted trend\"], loc=\"upper left\", bbox_to_anchor=(1, 0.5), fontsize=12)\n",
    "    plt.show()"
   ]
  },
  {
   "cell_type": "code",
   "execution_count": 22,
   "id": "51ca1f70",
   "metadata": {},
   "outputs": [
    {
     "data": {
      "text/plain": [
       "Index(['field', 'AGBperArea', 'SUMperArea', 'max', 'mean', 'std',\n",
       "       'percentile_20', 'percentile_30', 'percentile_40', 'percentile_50',\n",
       "       'percentile_60', 'percentile_70', 'percentile_75', 'percentile_80',\n",
       "       'percentile_85', 'percentile_90', 'percentile_95'],\n",
       "      dtype='object')"
      ]
     },
     "execution_count": 22,
     "metadata": {},
     "output_type": "execute_result"
    }
   ],
   "source": [
    "df.columns"
   ]
  },
  {
   "cell_type": "code",
   "execution_count": 284,
   "id": "62237d63",
   "metadata": {},
   "outputs": [],
   "source": [
    "x = df.drop([\"field\",\"AGBperArea\"], axis=1)\n",
    "y = df[\"AGBperArea\"]\n",
    "logy = np.log(y)"
   ]
  },
  {
   "cell_type": "code",
   "execution_count": null,
   "id": "1901e81a",
   "metadata": {},
   "outputs": [],
   "source": []
  },
  {
   "cell_type": "markdown",
   "id": "e9ed66de",
   "metadata": {},
   "source": [
    "### First model run\n",
    "\n",
    "Original model run serving as baseline\n",
    "\n",
    "No log-transformation, no stratification, no tuning, no feature selection"
   ]
  },
  {
   "cell_type": "code",
   "execution_count": 200,
   "id": "b62e18af",
   "metadata": {},
   "outputs": [
    {
     "name": "stdout",
     "output_type": "stream",
     "text": [
      "Iteration:  1  out of  5\n",
      "Iteration:  2  out of  5\n",
      "Iteration:  3  out of  5\n",
      "Iteration:  4  out of  5\n",
      "Iteration:  5  out of  5\n",
      "Training\n",
      "All R2:         [0.93, 0.9, 0.91, 0.9, 0.89]\n",
      "All RMSE:       [13945.6, 13127.6, 15264.1, 15761.4, 15166.1]\n",
      "All MAPE:       [33.4, 38.0, 30.1, 36.6, 34.2]\n",
      "Avg R2:         0.91\n",
      "Avg RMSE:       14652.95\n",
      "Avg MAPE:       34.45\n",
      "\n",
      "Test\n",
      "All R2:         [-3.77, 0.63, 0.3, 0.55, 0.24]\n",
      "All RMSE:       [56367.2, 42175.4, 25919.9, 30039.4, 47499.6]\n",
      "All MAPE:       [100.5, 88.4, 95.9, 83.1, 53.3]\n",
      "Avg R2:         -0.41\n",
      "Avg RMSE:       40400.29\n",
      "Avg MAPE:       84.26\n"
     ]
    }
   ],
   "source": [
    "# Random Forest\n",
    "# Original\n",
    "# Y, Unstratified, No Tuning, No Feat.Selection\n",
    "\n",
    "i = 0\n",
    "\n",
    "r2_train_scores = []\n",
    "rmse_train_scores = []\n",
    "mape_train_scores = []\n",
    "\n",
    "r2_scores = []\n",
    "rmse_scores = []\n",
    "mape_scores = []\n",
    "\n",
    "rf = RandomForestRegressor(random_state=3)\n",
    "# rf = RandomForestRegressor(n_estimators=25, min_samples_split=3, min_samples_leaf=5, \n",
    "#                            max_features=3, max_depth=3, bootstrap=False, random_state=3)\n",
    "\n",
    "# Set-up k-fold cross-validation\n",
    "k = 5\n",
    "kf = KFold(n_splits=k, shuffle=True, random_state=12)\n",
    "# kf = KFold(n_splits=k, shuffle=True)\n",
    "\n",
    "# Loop k (5) times and calculate average of the statistics\n",
    "for train_index, test_index in kf.split(x,y):\n",
    "    \n",
    "    i += 1\n",
    "    print(\"Iteration: \", i, \" out of \", k)\n",
    "    \n",
    "    xtrain, xtest = x.iloc[train_index,:], x.iloc[test_index,:]\n",
    "    ytrain, ytest = y.iloc[train_index] , y.iloc[test_index]\n",
    "    \n",
    "    # Fit RF-regression model on training data\n",
    "    rf.fit(xtrain,ytrain)\n",
    "    \n",
    "    ## Predict on train set\n",
    "    ytrain_pred = rf.predict(xtrain)\n",
    "    \n",
    "#     # Un-log\n",
    "#     ytrain_pred = np.exp(ytrain_pred)\n",
    "#     ytrain = np.exp(ytrain)\n",
    "\n",
    "    # Save scores\n",
    "    r2_train_scores.append(r2_score(ytrain, ytrain_pred))\n",
    "    rmse_train_scores.append(mean_squared_error(ytrain, ytrain_pred, squared=False))\n",
    "    mape_train_scores.append(mean_absolute_percentage_error(ytrain, ytrain_pred))\n",
    "\n",
    "    ## Predict on test set\n",
    "    ypred = rf.predict(xtest)\n",
    " \n",
    "    # Un-log\n",
    "#     ypred = np.exp(ypred)\n",
    "#     ytest = np.exp(ytest)\n",
    "\n",
    "    # Save scores\n",
    "    r2_scores.append(r2_score(ytest, ypred))\n",
    "    rmse_scores.append(mean_squared_error(ytest, ypred, squared=False))\n",
    "    mape_scores.append(mean_absolute_percentage_error(ytest, ypred))\n",
    "    \n",
    "    \n",
    "print(\"Training\")\n",
    "print(\"All R2:        \",[round(score,2) for score in r2_train_scores])\n",
    "print(\"All RMSE:      \",[round(score,1) for score in rmse_train_scores])\n",
    "print(\"All MAPE:      \",[round(100*score,1) for score in mape_train_scores])\n",
    "\n",
    "print(\"Avg R2:        \",str(round(sum(r2_train_scores)/k,2)))\n",
    "print(\"Avg RMSE:      \",str(round(sum(rmse_train_scores)/k,2)))\n",
    "print(\"Avg MAPE:      \",str(round(100*sum(mape_train_scores)/k,2)))\n",
    "\n",
    "print(\"\\nTest\")\n",
    "print(\"All R2:        \",[round(score,2) for score in r2_scores])\n",
    "print(\"All RMSE:      \",[round(score,1) for score in rmse_scores])\n",
    "print(\"All MAPE:      \",[round(100*score,1) for score in mape_scores])\n",
    "\n",
    "print(\"Avg R2:        \",str(round(sum(r2_scores)/k,2)))\n",
    "print(\"Avg RMSE:      \",str(round(sum(rmse_scores)/k,2)))\n",
    "print(\"Avg MAPE:      \",str(round(100*sum(mape_scores)/k,2)))"
   ]
  },
  {
   "cell_type": "code",
   "execution_count": null,
   "id": "85b45470",
   "metadata": {},
   "outputs": [],
   "source": []
  },
  {
   "cell_type": "markdown",
   "id": "d1db3a6a",
   "metadata": {},
   "source": [
    "### Stratified split on Log-Y\n",
    "First, use pandas qcut function to split numerical data into bins\n",
    "\n",
    "Then, use Stratified k-fold cross-validation to split data into similar train and test sets"
   ]
  },
  {
   "cell_type": "code",
   "execution_count": 300,
   "id": "b202c155",
   "metadata": {},
   "outputs": [
    {
     "name": "stdout",
     "output_type": "stream",
     "text": [
      "0    6\n",
      "1    6\n",
      "2    6\n",
      "4    6\n",
      "5    6\n",
      "3    5\n",
      "Name: bin, dtype: int64\n"
     ]
    },
    {
     "data": {
      "text/plain": [
       "array([ 7.8,  9.2,  9.7, 10. , 10.6, 11. , 12.3])"
      ]
     },
     "execution_count": 300,
     "metadata": {},
     "output_type": "execute_result"
    }
   ],
   "source": [
    "cat= pd.DataFrame()\n",
    "# Store continuous and discrete output in dataframe test\n",
    "cat[\"y\"] = logy\n",
    "\n",
    "# Categorize with qcut()\n",
    "results, bin_edges = pd.qcut(logy, q=6, labels=False, precision=0, retbins=True)\n",
    "\n",
    "# Store continuous output in dataframe test\n",
    "cat[\"bin\"] = results\n",
    "\n",
    "# Print number of samples per bin, should be equally-sized\n",
    "print(cat.bin.value_counts())\n",
    "\n",
    "# Print all bin edges/thresholds to get a good overview of the bins\n",
    "np.set_printoptions(suppress=True)\n",
    "np.round(bin_edges,1)\n"
   ]
  },
  {
   "cell_type": "code",
   "execution_count": 285,
   "id": "737f875d",
   "metadata": {
    "scrolled": true
   },
   "outputs": [
    {
     "name": "stdout",
     "output_type": "stream",
     "text": [
      "Iteration:  1  out of  5\n",
      "Iteration:  2  out of  5\n",
      "Iteration:  3  out of  5\n",
      "Iteration:  4  out of  5\n",
      "Iteration:  5  out of  5\n",
      "Training\n",
      "All R2:         [0.49, 0.65, 0.65, 0.61, 0.52]\n",
      "All RMSE:       [36647.9, 30392.6, 30998.3, 29584.3, 25147.3]\n",
      "All MAPE:       [38.7, 43.7, 44.2, 39.2, 46.2]\n",
      "Avg R2:         0.58\n",
      "Avg RMSE:       30554.06\n",
      "Avg MAPE:       42.41\n",
      "\n",
      "Test\n",
      "All R2:         [0.72, 0.15, 0.2, 0.19, 0.1]\n",
      "All RMSE:       [15411.8, 28966.3, 21105.1, 46779.1, 69533.0]\n",
      "All MAPE:       [103.7, 42.8, 49.1, 65.2, 44.9]\n",
      "Avg R2:         0.27\n",
      "Avg RMSE:       36359.06\n",
      "Avg MAPE:       61.13\n"
     ]
    }
   ],
   "source": [
    "# Set-up stratified k-fold cross-validation\n",
    "k = 5\n",
    "kf = StratifiedKFold(n_splits=k, shuffle=True, random_state=8)\n",
    "\n",
    "# Define splits beforehand based on sample bin\n",
    "splits = kf.split(x,cat[\"bin\"])\n",
    "\n",
    "i = 0\n",
    "\n",
    "r2_train_scores = []\n",
    "rmse_train_scores = []\n",
    "mape_train_scores = []\n",
    "\n",
    "r2_scores = []\n",
    "rmse_scores = []\n",
    "mape_scores = []\n",
    "\n",
    "rf = RandomForestRegressor(n_estimators=25, min_samples_split=3, min_samples_leaf=5, \n",
    "                           max_features=3, max_depth=3, bootstrap=False, random_state=3)\n",
    "\n",
    "# Loop k times and split into train and test sets\n",
    "for n,(train_index,test_index) in enumerate(splits):\n",
    "\n",
    "    i += 1\n",
    "    print(\"Iteration: \", i, \" out of \", k)\n",
    "    \n",
    "    xtrain_strat, xtest_strat = x.iloc[train_index,:], x.iloc[test_index,:]\n",
    "    ytrain_strat, ytest_strat = logy.iloc[train_index] , logy.iloc[test_index]\n",
    "    \n",
    "    # Fit RF-regression model on training data\n",
    "    rf.fit(xtrain_strat,ytrain_strat)\n",
    "    \n",
    "    ## Predict on train set\n",
    "    ytrain_pred = pd.Series(rf.predict(xtrain_strat))\n",
    "    \n",
    "    # Un-log\n",
    "    ytrain_pred = np.exp(ytrain_pred)\n",
    "    ytrain_strat = np.exp(ytrain_strat)\n",
    "  \n",
    "    # Save scores\n",
    "    r2_train_scores.append(r2_score(ytrain_strat, ytrain_pred))\n",
    "    rmse_train_scores.append(mean_squared_error(ytrain_strat, ytrain_pred, squared=False))\n",
    "    mape_train_scores.append(mean_absolute_percentage_error(ytrain_strat, ytrain_pred))\n",
    "\n",
    "    ## Predict on test set\n",
    "    ypred = pd.Series(rf.predict(xtest_strat))\n",
    " \n",
    "    # Un-log\n",
    "    ypred = np.exp(ypred)\n",
    "    ytest_strat = np.exp(ytest_strat)\n",
    "    \n",
    "    # Save scores\n",
    "    r2_scores.append(r2_score(ytest_strat, ypred))\n",
    "    rmse_scores.append(mean_squared_error(ytest_strat, ypred, squared=False))\n",
    "    mape_scores.append(mean_absolute_percentage_error(ytest_strat, ypred))\n",
    "    \n",
    "\n",
    "print(\"Training\")\n",
    "print(\"All R2:        \",[round(score,2) for score in r2_train_scores])\n",
    "print(\"All RMSE:      \",[round(score,1) for score in rmse_train_scores])\n",
    "print(\"All MAPE:      \",[round(100*score,1) for score in mape_train_scores])\n",
    "\n",
    "print(\"Avg R2:        \",str(round(sum(r2_train_scores)/k,2)))\n",
    "print(\"Avg RMSE:      \",str(round(sum(rmse_train_scores)/k,2)))\n",
    "print(\"Avg MAPE:      \",str(round(100*sum(mape_train_scores)/k,2)))\n",
    "\n",
    "print(\"\\nTest\")\n",
    "print(\"All R2:        \",[round(score,2) for score in r2_scores])\n",
    "print(\"All RMSE:      \",[round(score,1) for score in rmse_scores])\n",
    "print(\"All MAPE:      \",[round(100*score,1) for score in mape_scores])\n",
    "\n",
    "print(\"Avg R2:        \",str(round(sum(r2_scores)/k,2)))\n",
    "print(\"Avg RMSE:      \",str(round(sum(rmse_scores)/k,2)))\n",
    "print(\"Avg MAPE:      \",str(round(100*sum(mape_scores)/k,2)))"
   ]
  },
  {
   "cell_type": "code",
   "execution_count": null,
   "id": "6ad7048b",
   "metadata": {},
   "outputs": [],
   "source": []
  },
  {
   "cell_type": "markdown",
   "id": "e8c7327f",
   "metadata": {},
   "source": [
    "#### Simple feature selection\n",
    "Based on (spearmans's rank) correlation, feature importance, and by avoiding similar percentiles (within 10%) "
   ]
  },
  {
   "cell_type": "code",
   "execution_count": 273,
   "id": "568949f1",
   "metadata": {},
   "outputs": [
    {
     "data": {
      "text/plain": [
       "AGBperArea       1.000000\n",
       "SUMperArea       0.725490\n",
       "max              0.443417\n",
       "mean             0.725490\n",
       "std              0.776751\n",
       "percentile_20    0.145623\n",
       "percentile_30    0.268142\n",
       "percentile_40    0.401401\n",
       "percentile_50    0.464146\n",
       "percentile_60    0.557983\n",
       "percentile_70    0.649860\n",
       "percentile_75    0.703641\n",
       "percentile_80    0.725770\n",
       "percentile_85    0.777591\n",
       "percentile_90    0.801961\n",
       "percentile_95    0.819328\n",
       "Name: AGBperArea, dtype: float64"
      ]
     },
     "execution_count": 273,
     "metadata": {},
     "output_type": "execute_result"
    }
   ],
   "source": [
    "df.corr(\"spearman\")[\"AGBperArea\"]"
   ]
  },
  {
   "cell_type": "code",
   "execution_count": 274,
   "id": "f97b6727",
   "metadata": {},
   "outputs": [
    {
     "data": {
      "text/plain": [
       "array([0.13903043, 0.00363757, 0.17473757, 0.07998483, 0.02562638,\n",
       "       0.03198802, 0.0470181 , 0.00467084, 0.00752738, 0.05934076,\n",
       "       0.07473195, 0.0688232 , 0.20364539, 0.05246012, 0.02677746])"
      ]
     },
     "execution_count": 274,
     "metadata": {},
     "output_type": "execute_result"
    }
   ],
   "source": [
    "rf.feature_importances_"
   ]
  },
  {
   "cell_type": "code",
   "execution_count": 207,
   "id": "162f111d",
   "metadata": {},
   "outputs": [
    {
     "data": {
      "text/plain": [
       "Index(['SUMperArea', 'max', 'mean', 'std', 'percentile_20', 'percentile_30',\n",
       "       'percentile_40', 'percentile_50', 'percentile_60', 'percentile_70',\n",
       "       'percentile_75', 'percentile_80', 'percentile_85', 'percentile_90',\n",
       "       'percentile_95'],\n",
       "      dtype='object')"
      ]
     },
     "execution_count": 207,
     "metadata": {},
     "output_type": "execute_result"
    }
   ],
   "source": [
    "x.columns"
   ]
  },
  {
   "cell_type": "code",
   "execution_count": 286,
   "id": "3e48b5a2",
   "metadata": {},
   "outputs": [],
   "source": [
    "selected = [\"std\",\"percentile_50\",\"percentile_70\",\"percentile_85\",\"percentile_95\"]\n",
    "x = x[selected]"
   ]
  },
  {
   "cell_type": "markdown",
   "id": "fa431c5c",
   "metadata": {},
   "source": [
    "#### Parameter tuning\n",
    "Parameters have been manually tuned by running code below and checking train and test scores.\n",
    "\n",
    "Best scoring parameters have been used in the end "
   ]
  },
  {
   "cell_type": "code",
   "execution_count": 293,
   "id": "f1cc69d9",
   "metadata": {
    "scrolled": true
   },
   "outputs": [
    {
     "name": "stdout",
     "output_type": "stream",
     "text": [
      "Iteration:  1  out of  5\n",
      "Iteration:  2  out of  5\n",
      "Iteration:  3  out of  5\n",
      "Iteration:  4  out of  5\n",
      "Iteration:  5  out of  5\n",
      "Training\n",
      "All R2:         [0.55, 0.68, 0.65, 0.6, 0.57]\n",
      "All RMSE:       [34635.0, 28939.4, 30691.2, 29679.0, 23831.0]\n",
      "All MAPE:       [39.0, 43.8, 40.7, 41.1, 46.0]\n",
      "Avg R2:         0.61\n",
      "Avg RMSE:       29555.11\n",
      "Avg MAPE:       42.11\n",
      "\n",
      "Test\n",
      "All R2:         [0.42, 0.26, -0.17, 0.24, 0.19]\n",
      "All RMSE:       [22212.2, 26886.8, 25454.1, 45279.5, 65913.0]\n",
      "All MAPE:       [133.6, 45.0, 56.0, 59.3, 48.6]\n",
      "Avg R2:         0.19\n",
      "Avg RMSE:       37149.13\n",
      "Avg MAPE:       68.48\n"
     ]
    }
   ],
   "source": [
    "# Set-up stratified k-fold cross-validation\n",
    "k = 5\n",
    "kf = StratifiedKFold(n_splits=k, shuffle=True, random_state=8)\n",
    "\n",
    "# Define splits beforehand based on sample bin\n",
    "splits = kf.split(x,cat[\"bin\"])\n",
    "\n",
    "i = 0\n",
    "\n",
    "r2_train_scores = []\n",
    "rmse_train_scores = []\n",
    "mape_train_scores = []\n",
    "\n",
    "r2_scores = []\n",
    "rmse_scores = []\n",
    "mape_scores = []\n",
    "\n",
    "rf = RandomForestRegressor(n_estimators=25, min_samples_split=3, min_samples_leaf=5, \n",
    "                           max_features=3, max_depth=3, bootstrap=False, random_state=3)\n",
    "\n",
    "# Loop k times and split into train and test sets\n",
    "for n,(train_index,test_index) in enumerate(splits):\n",
    "\n",
    "    i += 1\n",
    "    print(\"Iteration: \", i, \" out of \", k)\n",
    "    \n",
    "    xtrain_strat, xtest_strat = x.iloc[train_index,:], x.iloc[test_index,:]\n",
    "    ytrain_strat, ytest_strat = logy.iloc[train_index] , logy.iloc[test_index]\n",
    "    \n",
    "    # Fit RF-regression model on training data\n",
    "    rf.fit(xtrain_strat,ytrain_strat)\n",
    "    \n",
    "    ## Predict on train set\n",
    "    ytrain_pred = pd.Series(rf.predict(xtrain_strat))\n",
    "    \n",
    "    # Un-log\n",
    "    ytrain_pred = np.exp(ytrain_pred)\n",
    "    ytrain_strat = np.exp(ytrain_strat)\n",
    "  \n",
    "    # Save scores\n",
    "    r2_train_scores.append(r2_score(ytrain_strat, ytrain_pred))\n",
    "    rmse_train_scores.append(mean_squared_error(ytrain_strat, ytrain_pred, squared=False))\n",
    "    mape_train_scores.append(mean_absolute_percentage_error(ytrain_strat, ytrain_pred))\n",
    "\n",
    "    ## Predict on test set\n",
    "    ypred = pd.Series(rf.predict(xtest_strat))\n",
    " \n",
    "    # Un-log\n",
    "    ypred = np.exp(ypred)\n",
    "    ytest_strat = np.exp(ytest_strat)\n",
    "    \n",
    "    # Save scores\n",
    "    r2_scores.append(r2_score(ytest_strat, ypred))\n",
    "    rmse_scores.append(mean_squared_error(ytest_strat, ypred, squared=False))\n",
    "    mape_scores.append(mean_absolute_percentage_error(ytest_strat, ypred))\n",
    "    \n",
    "\n",
    "print(\"Training\")\n",
    "print(\"All R2:        \",[round(score,2) for score in r2_train_scores])\n",
    "print(\"All RMSE:      \",[round(score,1) for score in rmse_train_scores])\n",
    "print(\"All MAPE:      \",[round(100*score,1) for score in mape_train_scores])\n",
    "\n",
    "print(\"Avg R2:        \",str(round(sum(r2_train_scores)/k,2)))\n",
    "print(\"Avg RMSE:      \",str(round(sum(rmse_train_scores)/k,2)))\n",
    "print(\"Avg MAPE:      \",str(round(100*sum(mape_train_scores)/k,2)))\n",
    "\n",
    "print(\"\\nTest\")\n",
    "print(\"All R2:        \",[round(score,2) for score in r2_scores])\n",
    "print(\"All RMSE:      \",[round(score,1) for score in rmse_scores])\n",
    "print(\"All MAPE:      \",[round(100*score,1) for score in mape_scores])\n",
    "\n",
    "print(\"Avg R2:        \",str(round(sum(r2_scores)/k,2)))\n",
    "print(\"Avg RMSE:      \",str(round(sum(rmse_scores)/k,2)))\n",
    "print(\"Avg MAPE:      \",str(round(100*sum(mape_scores)/k,2)))"
   ]
  },
  {
   "cell_type": "code",
   "execution_count": 294,
   "id": "e560e59e",
   "metadata": {},
   "outputs": [
    {
     "data": {
      "image/png": "[encoded data removed]",
      "text/plain": [
       "<Figure size 720x720 with 1 Axes>"
      ]
     },
     "metadata": {
      "needs_background": "light"
     },
     "output_type": "display_data"
    }
   ],
   "source": [
    "plot_predictions(ytest_strat/1000,ypred/1000)"
   ]
  },
  {
   "cell_type": "code",
   "execution_count": null,
   "id": "dd3977bb",
   "metadata": {},
   "outputs": [],
   "source": []
  },
  {
   "cell_type": "code",
   "execution_count": null,
   "id": "b3aee006",
   "metadata": {},
   "outputs": [],
   "source": []
  },
  {
   "cell_type": "markdown",
   "id": "99c0bbab",
   "metadata": {},
   "source": [
    "## XGBoost algorithm"
   ]
  },
  {
   "cell_type": "code",
   "execution_count": 301,
   "id": "fdd96078",
   "metadata": {},
   "outputs": [],
   "source": [
    "from xgboost import XGBRegressor"
   ]
  },
  {
   "cell_type": "code",
   "execution_count": 421,
   "id": "6bce0561",
   "metadata": {},
   "outputs": [
    {
     "name": "stdout",
     "output_type": "stream",
     "text": [
      "Iteration:  1  out of  5\n",
      "Iteration:  2  out of  5\n",
      "Iteration:  3  out of  5\n",
      "Iteration:  4  out of  5\n",
      "Iteration:  5  out of  5\n",
      "Training\n",
      "All R2:         [1.0, 1.0, 1.0, 1.0, 1.0]\n",
      "All RMSE:       [68.8, 65.2, 58.6, 61.7, 61.8]\n",
      "All MAPE:       [0.1, 0.1, 0.1, 0.1, 0.0]\n",
      "Avg R2:         1.0\n",
      "Avg RMSE:       63.21\n",
      "Avg MAPE:       0.06\n",
      "\n",
      "Test\n",
      "All R2:         [0.74, 0.57, 0.06, -0.12, -0.47]\n",
      "All RMSE:       [22400.6, 45516.6, 51508.6, 25300.7, 44636.3]\n",
      "All MAPE:       [65.8, 63.8, 90.5, 47.4, 116.3]\n",
      "Avg R2:         0.16\n",
      "Avg RMSE:       37872.54\n",
      "Avg MAPE:       76.77\n"
     ]
    }
   ],
   "source": [
    "# Set-up stratified k-fold cross-validation\n",
    "k = 5\n",
    "kf = StratifiedKFold(n_splits=k, shuffle=True, random_state=18)\n",
    "\n",
    "# Define splits beforehand based on sample bin\n",
    "splits = kf.split(x,cat[\"bin\"])\n",
    "\n",
    "i = 0\n",
    "\n",
    "r2_train_scores = []\n",
    "rmse_train_scores = []\n",
    "mape_train_scores = []\n",
    "\n",
    "r2_scores = []\n",
    "rmse_scores = []\n",
    "mape_scores = []\n",
    "\n",
    "xgb = XGBRegressor(random_state=3)\n",
    "\n",
    "# Loop k times and split into train and test sets\n",
    "for n,(train_index,test_index) in enumerate(splits):\n",
    "\n",
    "    i += 1\n",
    "    print(\"Iteration: \", i, \" out of \", k)\n",
    "    \n",
    "    xtrain_strat, xtest_strat = x.iloc[train_index,:], x.iloc[test_index,:]\n",
    "    ytrain_strat, ytest_strat = logy.iloc[train_index] , logy.iloc[test_index]\n",
    "    \n",
    "    # Fit RF-regression model on training data\n",
    "    xgb.fit(xtrain_strat,ytrain_strat)\n",
    "    \n",
    "    ## Predict on train set\n",
    "    ytrain_pred = pd.Series(xgb.predict(xtrain_strat))\n",
    "    \n",
    "    # Un-log\n",
    "    ytrain_pred = np.exp(ytrain_pred)\n",
    "    ytrain_strat = np.exp(ytrain_strat)\n",
    "  \n",
    "    # Save scores\n",
    "    r2_train_scores.append(r2_score(ytrain_strat, ytrain_pred))\n",
    "    rmse_train_scores.append(mean_squared_error(ytrain_strat, ytrain_pred, squared=False))\n",
    "    mape_train_scores.append(mean_absolute_percentage_error(ytrain_strat, ytrain_pred))\n",
    "\n",
    "    ## Predict on test set\n",
    "    ypred = pd.Series(xgb.predict(xtest_strat))\n",
    " \n",
    "    # Un-log\n",
    "    ypred = np.exp(ypred)\n",
    "    ytest_strat = np.exp(ytest_strat)\n",
    "    \n",
    "    # Save scores\n",
    "    r2_scores.append(r2_score(ytest_strat, ypred))\n",
    "    rmse_scores.append(mean_squared_error(ytest_strat, ypred, squared=False))\n",
    "    mape_scores.append(mean_absolute_percentage_error(ytest_strat, ypred))\n",
    "    \n",
    "\n",
    "print(\"Training\")\n",
    "print(\"All R2:        \",[round(score,2) for score in r2_train_scores])\n",
    "print(\"All RMSE:      \",[round(score,1) for score in rmse_train_scores])\n",
    "print(\"All MAPE:      \",[round(100*score,1) for score in mape_train_scores])\n",
    "\n",
    "print(\"Avg R2:        \",str(round(sum(r2_train_scores)/k,2)))\n",
    "print(\"Avg RMSE:      \",str(round(sum(rmse_train_scores)/k,2)))\n",
    "print(\"Avg MAPE:      \",str(round(100*sum(mape_train_scores)/k,2)))\n",
    "\n",
    "print(\"\\nTest\")\n",
    "print(\"All R2:        \",[round(score,2) for score in r2_scores])\n",
    "print(\"All RMSE:      \",[round(score,1) for score in rmse_scores])\n",
    "print(\"All MAPE:      \",[round(100*score,1) for score in mape_scores])\n",
    "\n",
    "print(\"Avg R2:        \",str(round(sum(r2_scores)/k,2)))\n",
    "print(\"Avg RMSE:      \",str(round(sum(rmse_scores)/k,2)))\n",
    "print(\"Avg MAPE:      \",str(round(100*sum(mape_scores)/k,2)))"
   ]
  },
  {
   "cell_type": "code",
   "execution_count": null,
   "id": "44ff9ccb",
   "metadata": {},
   "outputs": [],
   "source": []
  },
  {
   "cell_type": "markdown",
   "id": "e219bc6f",
   "metadata": {},
   "source": [
    "### Hyperparameter tuning XGB"
   ]
  },
  {
   "cell_type": "code",
   "execution_count": 329,
   "id": "1f0ca6da",
   "metadata": {},
   "outputs": [],
   "source": [
    "n_estimators = 50\n",
    "max_depth = 5\n",
    "subsample = 0.8\n",
    "colsample_bytree = 0.2\n",
    "learning_rate = 0.05\n",
    "\n",
    "parameters = {'n_estimators': n_estimators,\n",
    "               'max_depth': max_depth,\n",
    "               'subsample': subsample,\n",
    "               'colsample_bytree': colsample_bytree,\n",
    "               'learning_rate': learning_rate}"
   ]
  },
  {
   "cell_type": "code",
   "execution_count": 332,
   "id": "c7f6e31f",
   "metadata": {},
   "outputs": [],
   "source": [
    "seed = 3\n",
    "xtrain, xtest, ytrain, ytest = train_test_split(x, np.log(y/1000), test_size=0.3, random_state=seed,\n",
    "                                               stratify = cat[\"bin\"])"
   ]
  },
  {
   "cell_type": "code",
   "execution_count": 347,
   "id": "964026df",
   "metadata": {},
   "outputs": [],
   "source": [
    "from sklearn.metrics import make_scorer\n",
    "from sklearn.model_selection import GridSearchCV \n",
    "\n",
    "# Create custom-made metrics\n",
    "\n",
    "def rsquared(gt, pred):\n",
    "    r2 = r2_score(np.exp(gt), np.exp(pred))\n",
    "    return r2\n",
    "\n",
    "def rmse_calc(gt, pred):\n",
    "    rmse = mean_squared_error(np.exp(gt), np.exp(pred), squared=False)\n",
    "    return rmse"
   ]
  },
  {
   "cell_type": "code",
   "execution_count": 348,
   "id": "a7d0de0e",
   "metadata": {
    "scrolled": true
   },
   "outputs": [
    {
     "name": "stdout",
     "output_type": "stream",
     "text": [
      "Fitting 5 folds for each of 12 candidates, totalling 60 fits\n",
      "[CV] END ........................................max_depth=1; total time=   0.0s\n",
      "[CV] END ........................................max_depth=1; total time=   0.0s\n",
      "[CV] END ........................................max_depth=1; total time=   0.0s\n",
      "[CV] END ........................................max_depth=1; total time=   0.0s\n",
      "[CV] END ........................................max_depth=1; total time=   0.0s\n",
      "[CV] END ........................................max_depth=2; total time=   0.0s\n",
      "[CV] END ........................................max_depth=2; total time=   0.0s\n",
      "[CV] END ........................................max_depth=2; total time=   0.0s\n",
      "[CV] END ........................................max_depth=2; total time=   0.0s\n",
      "[CV] END ........................................max_depth=2; total time=   0.0s\n",
      "[CV] END ........................................max_depth=4; total time=   0.0s\n",
      "[CV] END ........................................max_depth=4; total time=   0.0s\n",
      "[CV] END ........................................max_depth=4; total time=   0.0s\n",
      "[CV] END ........................................max_depth=4; total time=   0.0s\n",
      "[CV] END ........................................max_depth=4; total time=   0.0s\n",
      "[CV] END ........................................max_depth=6; total time=   0.0s\n",
      "[CV] END ........................................max_depth=6; total time=   0.0s\n",
      "[CV] END ........................................max_depth=6; total time=   0.0s\n",
      "[CV] END ........................................max_depth=6; total time=   0.0s\n",
      "[CV] END ........................................max_depth=6; total time=   0.0s\n",
      "[CV] END ........................................max_depth=8; total time=   0.0s\n",
      "[CV] END ........................................max_depth=8; total time=   0.0s\n",
      "[CV] END ........................................max_depth=8; total time=   0.0s\n",
      "[CV] END ........................................max_depth=8; total time=   0.0s\n",
      "[CV] END ........................................max_depth=8; total time=   0.0s\n",
      "[CV] END .......................................max_depth=10; total time=   0.0s\n",
      "[CV] END .......................................max_depth=10; total time=   0.0s\n",
      "[CV] END .......................................max_depth=10; total time=   0.0s\n",
      "[CV] END .......................................max_depth=10; total time=   0.0s\n",
      "[CV] END .......................................max_depth=10; total time=   0.0s\n",
      "[CV] END .......................................max_depth=12; total time=   0.0s\n",
      "[CV] END .......................................max_depth=12; total time=   0.0s\n",
      "[CV] END .......................................max_depth=12; total time=   0.0s\n",
      "[CV] END .......................................max_depth=12; total time=   0.0s\n",
      "[CV] END .......................................max_depth=12; total time=   0.0s\n",
      "[CV] END .......................................max_depth=15; total time=   0.0s\n",
      "[CV] END .......................................max_depth=15; total time=   0.0s\n",
      "[CV] END .......................................max_depth=15; total time=   0.0s\n",
      "[CV] END .......................................max_depth=15; total time=   0.0s\n",
      "[CV] END .......................................max_depth=15; total time=   0.0s\n",
      "[CV] END .......................................max_depth=18; total time=   0.0s\n",
      "[CV] END .......................................max_depth=18; total time=   0.0s\n",
      "[CV] END .......................................max_depth=18; total time=   0.0s\n",
      "[CV] END .......................................max_depth=18; total time=   0.0s\n",
      "[CV] END .......................................max_depth=18; total time=   0.0s\n",
      "[CV] END .......................................max_depth=20; total time=   0.0s\n",
      "[CV] END .......................................max_depth=20; total time=   0.0s\n",
      "[CV] END .......................................max_depth=20; total time=   0.0s\n",
      "[CV] END .......................................max_depth=20; total time=   0.0s\n",
      "[CV] END .......................................max_depth=20; total time=   0.0s\n",
      "[CV] END .......................................max_depth=25; total time=   0.0s\n",
      "[CV] END .......................................max_depth=25; total time=   0.0s\n",
      "[CV] END .......................................max_depth=25; total time=   0.0s\n",
      "[CV] END .......................................max_depth=25; total time=   0.0s\n",
      "[CV] END .......................................max_depth=25; total time=   0.0s\n",
      "[CV] END .......................................max_depth=30; total time=   0.0s\n",
      "[CV] END .......................................max_depth=30; total time=   0.0s\n",
      "[CV] END .......................................max_depth=30; total time=   0.0s\n",
      "[CV] END .......................................max_depth=30; total time=   0.0s\n",
      "[CV] END .......................................max_depth=30; total time=   0.0s\n",
      "Best parameters {'max_depth': 8}\n",
      "Best score -0.04008939304524635\n"
     ]
    }
   ],
   "source": [
    "cv_params = {'max_depth': [1,2,4,6,8,10,12,15,18,20,25,30],\n",
    "            }\n",
    "\n",
    "r2 = make_scorer(rsquared)\n",
    "rmse = make_scorer(rmse_calc)\n",
    "scoring = {\"r2\": r2, \"rmse\": rmse}\n",
    "\n",
    "model = GridSearchCV(XGBRegressor(\n",
    "                                        random_state = seed,\n",
    "                                        n_estimators = n_estimators,\n",
    "                                        max_depth = max_depth,\n",
    "                                        subsample = subsample,\n",
    "                                        colsample_bytree = colsample_bytree,\n",
    "                                        learning_rate = learning_rate\n",
    "                                    ),\n",
    "                    \n",
    "                    param_grid = cv_params,\n",
    "                    scoring = scoring,\n",
    "                    refit=\"r2\",\n",
    "                    cv = 5,\n",
    "                    verbose = 2,\n",
    "                    return_train_score=True\n",
    ")\n",
    "\n",
    "model.fit(xtrain,ytrain)\n",
    "print (\"Best parameters %s\" %model.best_params_)\n",
    "print (\"Best score %s\" %model.best_score_)"
   ]
  },
  {
   "cell_type": "code",
   "execution_count": 349,
   "id": "1c034e1c",
   "metadata": {},
   "outputs": [
    {
     "data": {
      "text/plain": [
       "{'mean_fit_time': array([0.03411493, 0.0249979 , 0.02772007, 0.02767453, 0.03230753,\n",
       "        0.02879586, 0.02528572, 0.02652726, 0.02528496, 0.02883577,\n",
       "        0.02880692, 0.02883401]),\n",
       " 'std_fit_time': array([0.00295107, 0.00210011, 0.0042331 , 0.00298773, 0.00235192,\n",
       "        0.00228193, 0.00165647, 0.002354  , 0.00108139, 0.0040965 ,\n",
       "        0.00343376, 0.00224994]),\n",
       " 'mean_score_time': array([0.00479922, 0.00406971, 0.00319853, 0.00407891, 0.00344105,\n",
       "        0.00374813, 0.00402312, 0.00473828, 0.00400205, 0.00405474,\n",
       "        0.00544252, 0.00329127]),\n",
       " 'std_score_time': array([0.00293561, 0.00016015, 0.00159928, 0.00019402, 0.00176636,\n",
       "        0.00111574, 0.00157222, 0.00090693, 0.00003537, 0.00235769,\n",
       "        0.00345078, 0.00347849]),\n",
       " 'param_max_depth': masked_array(data=[1, 2, 4, 6, 8, 10, 12, 15, 18, 20, 25, 30],\n",
       "              mask=[False, False, False, False, False, False, False, False,\n",
       "                    False, False, False, False],\n",
       "        fill_value='?',\n",
       "             dtype=object),\n",
       " 'params': [{'max_depth': 1},\n",
       "  {'max_depth': 2},\n",
       "  {'max_depth': 4},\n",
       "  {'max_depth': 6},\n",
       "  {'max_depth': 8},\n",
       "  {'max_depth': 10},\n",
       "  {'max_depth': 12},\n",
       "  {'max_depth': 15},\n",
       "  {'max_depth': 18},\n",
       "  {'max_depth': 20},\n",
       "  {'max_depth': 25},\n",
       "  {'max_depth': 30}],\n",
       " 'split0_test_r2': array([-0.0921371 , -0.09448959, -0.08912069, -0.08911603, -0.08911603,\n",
       "        -0.08911603, -0.08911603, -0.08911603, -0.08911603, -0.08911603,\n",
       "        -0.08911603, -0.08911603]),\n",
       " 'split1_test_r2': array([0.64550871, 0.63818371, 0.68341057, 0.68587412, 0.68587412,\n",
       "        0.68587412, 0.68587412, 0.68587412, 0.68587412, 0.68587412,\n",
       "        0.68587412, 0.68587412]),\n",
       " 'split2_test_r2': array([0.24602885, 0.23198476, 0.23696464, 0.23692195, 0.23775726,\n",
       "        0.23775726, 0.23775726, 0.23775726, 0.23775726, 0.23775726,\n",
       "        0.23775726, 0.23775726]),\n",
       " 'split3_test_r2': array([-0.24633409, -0.30184796, -0.29236598, -0.29250944, -0.29250944,\n",
       "        -0.29250944, -0.29250944, -0.29250944, -0.29250944, -0.29250944,\n",
       "        -0.29250944, -0.29250944]),\n",
       " 'split4_test_r2': array([-1.45066945, -0.74940062, -0.77569149, -0.74245288, -0.74245288,\n",
       "        -0.74245288, -0.74245288, -0.74245288, -0.74245288, -0.74245288,\n",
       "        -0.74245288, -0.74245288]),\n",
       " 'mean_test_r2': array([-0.17952062, -0.05511394, -0.04736059, -0.04025646, -0.04008939,\n",
       "        -0.04008939, -0.04008939, -0.04008939, -0.04008939, -0.04008939,\n",
       "        -0.04008939, -0.04008939]),\n",
       " 'std_test_r2': array([0.70564651, 0.47064836, 0.49134606, 0.48232606, 0.48242217,\n",
       "        0.48242217, 0.48242217, 0.48242217, 0.48242217, 0.48242217,\n",
       "        0.48242217, 0.48242217]),\n",
       " 'rank_test_r2': array([12, 11, 10,  9,  1,  1,  1,  1,  1,  1,  1,  1]),\n",
       " 'split0_train_r2': array([0.24025096, 0.25376211, 0.25827844, 0.2583853 , 0.2583853 ,\n",
       "        0.2583853 , 0.2583853 , 0.2583853 , 0.2583853 , 0.2583853 ,\n",
       "        0.2583853 , 0.2583853 ]),\n",
       " 'split1_train_r2': array([0.24734524, 0.26116168, 0.26447776, 0.26452983, 0.26452983,\n",
       "        0.26452983, 0.26452983, 0.26452983, 0.26452983, 0.26452983,\n",
       "        0.26452983, 0.26452983]),\n",
       " 'split2_train_r2': array([0.28087281, 0.28165596, 0.2869443 , 0.28709943, 0.28711065,\n",
       "        0.28711065, 0.28711065, 0.28711065, 0.28711065, 0.28711065,\n",
       "        0.28711065, 0.28711065]),\n",
       " 'split3_train_r2': array([0.20612377, 0.23105782, 0.23723332, 0.23727524, 0.23727524,\n",
       "        0.23727524, 0.23727524, 0.23727524, 0.23727524, 0.23727524,\n",
       "        0.23727524, 0.23727524]),\n",
       " 'split4_train_r2': array([0.24552997, 0.25754195, 0.26295781, 0.26157247, 0.26157247,\n",
       "        0.26157247, 0.26157247, 0.26157247, 0.26157247, 0.26157247,\n",
       "        0.26157247, 0.26157247]),\n",
       " 'mean_train_r2': array([0.24402455, 0.2570359 , 0.26197832, 0.26177245, 0.2617747 ,\n",
       "        0.2617747 , 0.2617747 , 0.2617747 , 0.2617747 , 0.2617747 ,\n",
       "        0.2617747 , 0.2617747 ]),\n",
       " 'std_train_r2': array([0.02375625, 0.01618026, 0.01585252, 0.01587883, 0.0158824 ,\n",
       "        0.0158824 , 0.0158824 , 0.0158824 , 0.0158824 , 0.0158824 ,\n",
       "        0.0158824 , 0.0158824 ]),\n",
       " 'split0_test_rmse': array([82.0264855 , 82.1147812 , 81.91313119, 81.91295577, 81.91295577,\n",
       "        81.91295577, 81.91295577, 81.91295577, 81.91295577, 81.91295577,\n",
       "        81.91295577, 81.91295577]),\n",
       " 'split1_test_rmse': array([6.0425151 , 6.10462537, 5.71035577, 5.68809468, 5.68809468,\n",
       "        5.68809468, 5.68809468, 5.68809468, 5.68809468, 5.68809468,\n",
       "        5.68809468, 5.68809468]),\n",
       " 'split2_test_rmse': array([19.20111996, 19.37912282, 19.31619257, 19.316733  , 19.30615745,\n",
       "        19.30615745, 19.30615745, 19.30615745, 19.30615745, 19.30615745,\n",
       "        19.30615745, 19.30615745]),\n",
       " 'split3_test_rmse': array([66.92437456, 68.39860077, 68.14905577, 68.15283802, 68.15283802,\n",
       "        68.15283802, 68.15283802, 68.15283802, 68.15283802, 68.15283802,\n",
       "        68.15283802, 68.15283802]),\n",
       " 'split4_test_rmse': array([7.31898341, 6.18376579, 6.23005887, 6.17147418, 6.17147418,\n",
       "        6.17147418, 6.17147418, 6.17147418, 6.17147418, 6.17147418,\n",
       "        6.17147418, 6.17147418]),\n",
       " 'mean_test_rmse': array([36.3026957 , 36.43617919, 36.26375884, 36.24841913, 36.24630402,\n",
       "        36.24630402, 36.24630402, 36.24630402, 36.24630402, 36.24630402,\n",
       "        36.24630402, 36.24630402]),\n",
       " 'std_test_rmse': array([31.86392999, 32.35517245, 32.32117241, 32.33691357, 32.3380213 ,\n",
       "        32.3380213 , 32.3380213 , 32.3380213 , 32.3380213 , 32.3380213 ,\n",
       "        32.3380213 , 32.3380213 ]),\n",
       " 'rank_test_rmse': array([2, 1, 3, 4, 5, 5, 5, 5, 5, 5, 5, 5]),\n",
       " 'split0_train_rmse': array([32.69295229, 32.40094743, 32.30275131, 32.30042429, 32.30042429,\n",
       "        32.30042429, 32.30042429, 32.30042429, 32.30042429, 32.30042429,\n",
       "        32.30042429, 32.30042429]),\n",
       " 'split1_train_rmse': array([47.95677375, 47.51456494, 47.40781682, 47.40613868, 47.40613868,\n",
       "        47.40613868, 47.40613868, 47.40613868, 47.40613868, 47.40613868,\n",
       "        47.40613868, 47.40613868]),\n",
       " 'split2_train_rmse': array([47.33980273, 47.31401857, 47.13953741, 47.13440929, 47.1340385 ,\n",
       "        47.1340385 , 47.1340385 , 47.1340385 , 47.1340385 , 47.1340385 ,\n",
       "        47.1340385 , 47.1340385 ]),\n",
       " 'split3_train_rmse': array([42.60105166, 41.92670788, 41.75800842, 41.75686087, 41.75686087,\n",
       "        41.75686087, 41.75686087, 41.75686087, 41.75686087, 41.75686087,\n",
       "        41.75686087, 41.75686087]),\n",
       " 'split4_train_rmse': array([46.93590432, 46.56076998, 46.3906406 , 46.43421791, 46.43421791,\n",
       "        46.43421791, 46.43421791, 46.43421791, 46.43421791, 46.43421791,\n",
       "        46.43421791, 46.43421791]),\n",
       " 'mean_train_rmse': array([43.50529695, 43.14340176, 42.99975091, 43.00641021, 43.00633605,\n",
       "        43.00633605, 43.00633605, 43.00633605, 43.00633605, 43.00633605,\n",
       "        43.00633605, 43.00633605]),\n",
       " 'std_train_rmse': array([5.72734849, 5.74561027, 5.72773489, 5.73284154, 5.73278815,\n",
       "        5.73278815, 5.73278815, 5.73278815, 5.73278815, 5.73278815,\n",
       "        5.73278815, 5.73278815])}"
      ]
     },
     "execution_count": 349,
     "metadata": {},
     "output_type": "execute_result"
    }
   ],
   "source": [
    "model.cv_results_"
   ]
  },
  {
   "cell_type": "code",
   "execution_count": 350,
   "id": "0ce82888",
   "metadata": {},
   "outputs": [],
   "source": [
    "parameters[\"max_depth\"]=8"
   ]
  },
  {
   "cell_type": "code",
   "execution_count": 353,
   "id": "afe8fa3e",
   "metadata": {
    "scrolled": true
   },
   "outputs": [
    {
     "name": "stdout",
     "output_type": "stream",
     "text": [
      "Fitting 5 folds for each of 11 candidates, totalling 55 fits\n",
      "[CV] END ....................................n_estimators=10; total time=   0.0s\n",
      "[CV] END ....................................n_estimators=10; total time=   0.0s\n",
      "[CV] END ....................................n_estimators=10; total time=   0.0s\n",
      "[CV] END ....................................n_estimators=10; total time=   0.0s\n",
      "[CV] END ....................................n_estimators=10; total time=   0.0s\n",
      "[CV] END ....................................n_estimators=15; total time=   0.0s\n",
      "[CV] END ....................................n_estimators=15; total time=   0.0s\n",
      "[CV] END ....................................n_estimators=15; total time=   0.0s\n",
      "[CV] END ....................................n_estimators=15; total time=   0.0s\n",
      "[CV] END ....................................n_estimators=15; total time=   0.0s\n",
      "[CV] END ....................................n_estimators=20; total time=   0.0s\n",
      "[CV] END ....................................n_estimators=20; total time=   0.0s\n",
      "[CV] END ....................................n_estimators=20; total time=   0.0s\n",
      "[CV] END ....................................n_estimators=20; total time=   0.0s\n",
      "[CV] END ....................................n_estimators=20; total time=   0.0s\n",
      "[CV] END ....................................n_estimators=30; total time=   0.0s\n",
      "[CV] END ....................................n_estimators=30; total time=   0.0s\n",
      "[CV] END ....................................n_estimators=30; total time=   0.0s\n",
      "[CV] END ....................................n_estimators=30; total time=   0.0s\n",
      "[CV] END ....................................n_estimators=30; total time=   0.0s\n",
      "[CV] END ....................................n_estimators=50; total time=   0.0s\n",
      "[CV] END ....................................n_estimators=50; total time=   0.0s\n",
      "[CV] END ....................................n_estimators=50; total time=   0.0s\n",
      "[CV] END ....................................n_estimators=50; total time=   0.0s\n",
      "[CV] END ....................................n_estimators=50; total time=   0.0s\n",
      "[CV] END ....................................n_estimators=70; total time=   0.0s\n",
      "[CV] END ....................................n_estimators=70; total time=   0.0s\n",
      "[CV] END ....................................n_estimators=70; total time=   0.0s\n",
      "[CV] END ....................................n_estimators=70; total time=   0.0s\n",
      "[CV] END ....................................n_estimators=70; total time=   0.0s\n",
      "[CV] END ....................................n_estimators=90; total time=   0.0s\n",
      "[CV] END ....................................n_estimators=90; total time=   0.0s\n",
      "[CV] END ....................................n_estimators=90; total time=   0.0s\n",
      "[CV] END ....................................n_estimators=90; total time=   0.0s\n",
      "[CV] END ....................................n_estimators=90; total time=   0.0s\n",
      "[CV] END ...................................n_estimators=100; total time=   0.0s\n",
      "[CV] END ...................................n_estimators=100; total time=   0.0s\n",
      "[CV] END ...................................n_estimators=100; total time=   0.0s\n",
      "[CV] END ...................................n_estimators=100; total time=   0.0s\n",
      "[CV] END ...................................n_estimators=100; total time=   0.0s\n",
      "[CV] END ...................................n_estimators=150; total time=   0.0s\n",
      "[CV] END ...................................n_estimators=150; total time=   0.0s\n",
      "[CV] END ...................................n_estimators=150; total time=   0.0s\n",
      "[CV] END ...................................n_estimators=150; total time=   0.0s\n",
      "[CV] END ...................................n_estimators=150; total time=   0.0s\n",
      "[CV] END ...................................n_estimators=200; total time=   0.0s\n",
      "[CV] END ...................................n_estimators=200; total time=   0.0s\n",
      "[CV] END ...................................n_estimators=200; total time=   0.0s\n",
      "[CV] END ...................................n_estimators=200; total time=   0.0s\n",
      "[CV] END ...................................n_estimators=200; total time=   0.0s\n",
      "[CV] END ...................................n_estimators=400; total time=   0.1s\n",
      "[CV] END ...................................n_estimators=400; total time=   0.1s\n",
      "[CV] END ...................................n_estimators=400; total time=   0.1s\n",
      "[CV] END ...................................n_estimators=400; total time=   0.1s\n",
      "[CV] END ...................................n_estimators=400; total time=   0.1s\n",
      "Best parameters {'n_estimators': 70}\n",
      "Best score 2.3244463075422493e-05\n"
     ]
    }
   ],
   "source": [
    "cv_params = {'n_estimators': [10,15,20,30,50,70,90,100,150,200,400],\n",
    "            }\n",
    "\n",
    "r2 = make_scorer(rsquared)\n",
    "rmse = make_scorer(rmse_calc)\n",
    "scoring = {\"r2\": r2, \"rmse\": rmse}\n",
    "\n",
    "model = GridSearchCV(XGBRegressor(\n",
    "                                        random_state = seed,\n",
    "                                        n_estimators = n_estimators,\n",
    "                                        max_depth = parameters[\"max_depth\"],\n",
    "                                        subsample = subsample,\n",
    "                                        colsample_bytree = colsample_bytree,\n",
    "                                        learning_rate = learning_rate\n",
    "                                    ),\n",
    "                    \n",
    "                    param_grid = cv_params,\n",
    "                    scoring = scoring,\n",
    "                    refit=\"r2\",\n",
    "                    cv = 5,\n",
    "                    verbose = 2,\n",
    "                    return_train_score=True\n",
    ")\n",
    "\n",
    "model.fit(xtrain,ytrain)\n",
    "print (\"Best parameters %s\" %model.best_params_)\n",
    "print (\"Best score %s\" %model.best_score_)"
   ]
  },
  {
   "cell_type": "code",
   "execution_count": 354,
   "id": "b4504beb",
   "metadata": {},
   "outputs": [
    {
     "data": {
      "text/plain": [
       "{'mean_fit_time': array([0.01084876, 0.0121799 , 0.01687374, 0.02043447, 0.02879634,\n",
       "        0.03533573, 0.04739428, 0.047335  , 0.07813725, 0.09902725,\n",
       "        0.18978467]),\n",
       " 'std_fit_time': array([0.00270788, 0.00640727, 0.00414644, 0.00125569, 0.00124463,\n",
       "        0.00108474, 0.00539293, 0.00344625, 0.00585943, 0.0067288 ,\n",
       "        0.01108618]),\n",
       " 'mean_score_time': array([0.0046967 , 0.00474429, 0.00507298, 0.00205665, 0.00441446,\n",
       "        0.0039947 , 0.00499697, 0.00416846, 0.00506797, 0.00587611,\n",
       "        0.00509396]),\n",
       " 'std_score_time': array([0.0026028 , 0.00574571, 0.00442763, 0.00186721, 0.00409921,\n",
       "        0.00115781, 0.00089975, 0.00035448, 0.00257138, 0.00138615,\n",
       "        0.00271596]),\n",
       " 'param_n_estimators': masked_array(data=[10, 15, 20, 30, 50, 70, 90, 100, 150, 200, 400],\n",
       "              mask=[False, False, False, False, False, False, False, False,\n",
       "                    False, False, False],\n",
       "        fill_value='?',\n",
       "             dtype=object),\n",
       " 'params': [{'n_estimators': 10},\n",
       "  {'n_estimators': 15},\n",
       "  {'n_estimators': 20},\n",
       "  {'n_estimators': 30},\n",
       "  {'n_estimators': 50},\n",
       "  {'n_estimators': 70},\n",
       "  {'n_estimators': 90},\n",
       "  {'n_estimators': 100},\n",
       "  {'n_estimators': 150},\n",
       "  {'n_estimators': 200},\n",
       "  {'n_estimators': 400}],\n",
       " 'split0_test_r2': array([-0.65986166, -0.60379798, -0.53492074, -0.39395102, -0.08911603,\n",
       "         0.11666361,  0.22000932,  0.26075743,  0.30198385,  0.31036639,\n",
       "         0.31110199]),\n",
       " 'split1_test_r2': array([-1.84486878, -1.29613671, -0.73550037,  0.23783536,  0.68587412,\n",
       "         0.27843171, -0.06486152, -0.1576792 , -0.43453686, -0.62281626,\n",
       "        -0.77892723]),\n",
       " 'split2_test_r2': array([-4.1720381 , -3.61849573, -2.92947715, -1.70365119,  0.23775726,\n",
       "         0.30983316, -1.07143268, -1.99517454, -5.41315378, -7.26771943,\n",
       "        -8.22789931]),\n",
       " 'split3_test_r2': array([-0.63909544, -0.59504487, -0.54913581, -0.45297127, -0.29250944,\n",
       "        -0.21727256, -0.19084722, -0.18062029, -0.16611269, -0.16238178,\n",
       "        -0.16270095]),\n",
       " 'split4_test_r2': array([-5.29461121, -4.20572097, -3.05443307, -1.80448785, -0.74245288,\n",
       "        -0.4875397 , -0.4584441 , -0.43742788, -0.54453442, -0.63623913,\n",
       "        -0.69138598]),\n",
       " 'mean_test_r2': array([-2.52209504, -2.06383925, -1.56069343, -0.82344519, -0.04008939,\n",
       "         0.00002324, -0.31311524, -0.5020289 , -1.25127078, -1.67575804,\n",
       "        -1.9099623 ]),\n",
       " 'std_test_r2': array([1.89110518, 1.54162633, 1.17142895, 0.79815285, 0.48242217,\n",
       "        0.30725674, 0.43748531, 0.77940752, 2.10133142, 2.81759884,\n",
       "        3.18328589]),\n",
       " 'rank_test_r2': array([11, 10,  7,  5,  2,  1,  3,  4,  6,  8,  9]),\n",
       " 'split0_train_r2': array([-0.6400187 , -0.53398131, -0.41008651, -0.16798865,  0.2583853 ,\n",
       "         0.5933222 ,  0.76530653,  0.83422957,  0.96673188,  0.99439265,\n",
       "         0.9999954 ]),\n",
       " 'split1_train_r2': array([-0.59663584, -0.5101865 , -0.4007238 , -0.18929006,  0.26452983,\n",
       "         0.61008474,  0.79602007,  0.8525603 ,  0.96719522,  0.99421545,\n",
       "         0.99999215]),\n",
       " 'split2_train_r2': array([-0.3922883 , -0.33390297, -0.25678617, -0.10347547,  0.28711065,\n",
       "         0.62930433,  0.81633125,  0.87743332,  0.97979701,  0.99732694,\n",
       "         0.99999805]),\n",
       " 'split3_train_r2': array([-0.51343006, -0.43234695, -0.33591749, -0.15996621,  0.23727524,\n",
       "         0.5573411 ,  0.7663673 ,  0.83483324,  0.96725671,  0.99483885,\n",
       "         0.99999485]),\n",
       " 'split4_train_r2': array([-0.60454118, -0.51742064, -0.41550833, -0.16697265,  0.26157247,\n",
       "         0.58123371,  0.77060622,  0.8367562 ,  0.97429728,  0.99557313,\n",
       "         0.99999323]),\n",
       " 'mean_train_r2': array([-0.54938282, -0.46556767, -0.36380446, -0.15753861,  0.2617747 ,\n",
       "         0.59425722,  0.78292627,  0.84716252,  0.97105562,  0.99526941,\n",
       "         0.99999474]),\n",
       " 'std_train_r2': array([0.08883856, 0.07456434, 0.06067776, 0.02875787, 0.0158824 ,\n",
       "        0.02454423, 0.02011854, 0.01657119, 0.00519518, 0.00113054,\n",
       "        0.00000202]),\n",
       " 'split0_test_rmse': array([101.12335498,  99.40090871,  97.24303402,  92.67002482,\n",
       "         81.91295577,  73.76979628,  69.32026726,  67.48527292,\n",
       "         65.57650357,  65.18155759,  65.14678507]),\n",
       " 'split1_test_rmse': array([17.11772639, 15.37849483, 13.36987404,  8.86011502,  5.68809468,\n",
       "         8.6209213 , 10.47276909, 10.919659  , 12.1554437 , 12.92854452,\n",
       "        13.5361155 ]),\n",
       " 'split2_test_rmse': array([50.28981681, 47.52252073, 43.83455271, 36.36005456, 19.30615745,\n",
       "        18.37072265, 31.82618684, 38.27015873, 55.99961262, 63.58315311,\n",
       "        67.17390864]),\n",
       " 'split3_test_rmse': array([76.7483778 , 75.71005045, 74.61254098, 72.25960733, 68.15283802,\n",
       "        66.13951401, 65.41767528, 65.13616809, 64.73473055, 64.63109004,\n",
       "        64.63996283]),\n",
       " 'split4_test_rmse': array([11.72986057, 10.66716068,  9.41398413,  7.82952068,  6.17147418,\n",
       "         5.70220303,  5.64616139,  5.6053331 ,  5.8104155 ,  5.98042132,\n",
       "         6.08036651]),\n",
       " 'mean_test_rmse': array([51.40182731, 49.73582708, 47.69479718, 43.59586448, 36.24630402,\n",
       "        34.52063146, 36.53661197, 37.48331837, 40.85534119, 42.46095332,\n",
       "        43.31542771]),\n",
       " 'std_test_rmse': array([34.24961029, 34.21393374, 34.17049952, 33.96481695, 32.3380213 ,\n",
       "        29.333827  , 26.70062104, 26.02787135, 26.31555052, 27.04396616,\n",
       "        27.47299872]),\n",
       " 'rank_test_rmse': array([ 1,  2,  3,  4, 10, 11,  9,  8,  7,  6,  5]),\n",
       " 'split0_train_rmse': array([48.03341467, 46.45463963, 44.53915166, 40.53576499, 32.30042429,\n",
       "        23.91907014, 18.17061235, 15.27118014,  6.84121454,  2.80865128,\n",
       "         0.08041259]),\n",
       " 'split1_train_rmse': array([69.84816303, 67.93089602, 65.42267625, 60.28315115, 47.40613868,\n",
       "        34.51732779, 24.96581606, 21.22556581, 10.01199448,  4.20423195,\n",
       "         0.15492354]),\n",
       " 'split2_train_rmse': array([65.87007775, 64.47416233, 62.58269842, 58.64148108, 47.1340385 ,\n",
       "        33.98852729, 23.92440947, 19.54383564,  7.93471712,  2.88621134,\n",
       "         0.07796289]),\n",
       " 'split3_train_rmse': array([58.82001044, 57.22265894, 55.26290843, 51.49518101, 41.75686087,\n",
       "        31.81108776, 23.1105739 , 19.43145154,  8.65177226,  3.43492323,\n",
       "         0.10848622]),\n",
       " 'split4_train_rmse': array([68.44782122, 66.56365905, 64.28955352, 58.37333862, 46.43421791,\n",
       "        34.96794035, 25.88064031, 21.8324532 ,  8.66310867,  3.59527813,\n",
       "         0.14059683]),\n",
       " 'mean_train_rmse': array([62.20389742, 60.5292032 , 58.41939765, 53.86578337, 43.00633605,\n",
       "        31.84079067, 23.21041042, 19.46089727,  8.42056141,  3.38585918,\n",
       "         0.11247641]),\n",
       " 'std_train_rmse': array([8.03884982, 7.94718807, 7.79053743, 7.31597017, 5.73278815,\n",
       "        4.1063421 , 2.68815562, 2.29346062, 1.03685371, 0.5096694 ,\n",
       "        0.03107317])}"
      ]
     },
     "execution_count": 354,
     "metadata": {},
     "output_type": "execute_result"
    }
   ],
   "source": [
    "model.cv_results_"
   ]
  },
  {
   "cell_type": "code",
   "execution_count": 355,
   "id": "ff0b58b7",
   "metadata": {},
   "outputs": [],
   "source": [
    "parameters[\"n_estimators\"]=70"
   ]
  },
  {
   "cell_type": "code",
   "execution_count": 356,
   "id": "5c713c23",
   "metadata": {
    "scrolled": true
   },
   "outputs": [
    {
     "name": "stdout",
     "output_type": "stream",
     "text": [
      "Fitting 5 folds for each of 10 candidates, totalling 50 fits\n",
      "[CV] END ......................................subsample=0.1; total time=   0.0s\n",
      "[CV] END ......................................subsample=0.1; total time=   0.0s\n",
      "[CV] END ......................................subsample=0.1; total time=   0.0s\n",
      "[CV] END ......................................subsample=0.1; total time=   0.0s\n",
      "[CV] END ......................................subsample=0.1; total time=   0.0s\n",
      "[CV] END ......................................subsample=0.2; total time=   0.0s\n",
      "[CV] END ......................................subsample=0.2; total time=   0.0s\n",
      "[CV] END ......................................subsample=0.2; total time=   0.0s\n",
      "[CV] END ......................................subsample=0.2; total time=   0.0s\n",
      "[CV] END ......................................subsample=0.2; total time=   0.0s\n",
      "[CV] END ......................................subsample=0.3; total time=   0.0s\n",
      "[CV] END ......................................subsample=0.3; total time=   0.0s\n",
      "[CV] END ......................................subsample=0.3; total time=   0.0s\n",
      "[CV] END ......................................subsample=0.3; total time=   0.0s\n",
      "[CV] END ......................................subsample=0.3; total time=   0.0s\n",
      "[CV] END ......................................subsample=0.4; total time=   0.0s\n",
      "[CV] END ......................................subsample=0.4; total time=   0.0s\n",
      "[CV] END ......................................subsample=0.4; total time=   0.0s\n",
      "[CV] END ......................................subsample=0.4; total time=   0.0s\n",
      "[CV] END ......................................subsample=0.4; total time=   0.0s\n",
      "[CV] END ......................................subsample=0.5; total time=   0.0s\n",
      "[CV] END ......................................subsample=0.5; total time=   0.0s\n",
      "[CV] END ......................................subsample=0.5; total time=   0.0s\n",
      "[CV] END ......................................subsample=0.5; total time=   0.0s\n",
      "[CV] END ......................................subsample=0.5; total time=   0.0s\n",
      "[CV] END ......................................subsample=0.6; total time=   0.0s\n",
      "[CV] END ......................................subsample=0.6; total time=   0.0s\n",
      "[CV] END ......................................subsample=0.6; total time=   0.0s\n",
      "[CV] END ......................................subsample=0.6; total time=   0.0s\n",
      "[CV] END ......................................subsample=0.6; total time=   0.0s\n",
      "[CV] END ......................................subsample=0.7; total time=   0.0s\n",
      "[CV] END ......................................subsample=0.7; total time=   0.0s\n",
      "[CV] END ......................................subsample=0.7; total time=   0.0s\n",
      "[CV] END ......................................subsample=0.7; total time=   0.0s\n",
      "[CV] END ......................................subsample=0.7; total time=   0.0s\n",
      "[CV] END ......................................subsample=0.8; total time=   0.0s\n",
      "[CV] END ......................................subsample=0.8; total time=   0.0s\n",
      "[CV] END ......................................subsample=0.8; total time=   0.0s\n",
      "[CV] END ......................................subsample=0.8; total time=   0.0s\n",
      "[CV] END ......................................subsample=0.8; total time=   0.0s\n",
      "[CV] END ......................................subsample=0.9; total time=   0.0s\n",
      "[CV] END ......................................subsample=0.9; total time=   0.0s\n",
      "[CV] END ......................................subsample=0.9; total time=   0.0s\n",
      "[CV] END ......................................subsample=0.9; total time=   0.0s\n",
      "[CV] END ......................................subsample=0.9; total time=   0.0s\n",
      "[CV] END ........................................subsample=1; total time=   0.0s\n",
      "[CV] END ........................................subsample=1; total time=   0.0s\n",
      "[CV] END ........................................subsample=1; total time=   0.0s\n",
      "[CV] END ........................................subsample=1; total time=   0.0s\n",
      "[CV] END ........................................subsample=1; total time=   0.0s\n",
      "Best parameters {'subsample': 0.6}\n",
      "Best score 0.1590142120708213\n"
     ]
    }
   ],
   "source": [
    "cv_params = {'subsample': [.1,.2,.3,.4,.5,.6,.7,.8,.9,1],\n",
    "            }\n",
    "\n",
    "r2 = make_scorer(rsquared)\n",
    "rmse = make_scorer(rmse_calc)\n",
    "scoring = {\"r2\": r2, \"rmse\": rmse}\n",
    "\n",
    "model = GridSearchCV(XGBRegressor(\n",
    "                                        random_state = seed,\n",
    "                                        n_estimators = parameters[\"n_estimators\"],\n",
    "                                        max_depth = parameters[\"max_depth\"],\n",
    "                                        subsample = parameters[\"subsample\"],\n",
    "                                        colsample_bytree = parameters[\"colsample_bytree\"],\n",
    "                                        learning_rate = parameters[\"learning_rate\"]\n",
    "                                    ),\n",
    "                    \n",
    "                    param_grid = cv_params,\n",
    "                    scoring = scoring,\n",
    "                    refit=\"r2\",\n",
    "                    cv = 5,\n",
    "                    verbose = 2,\n",
    "                    return_train_score=True\n",
    ")\n",
    "\n",
    "model.fit(xtrain,ytrain)\n",
    "print (\"Best parameters %s\" %model.best_params_)\n",
    "print (\"Best score %s\" %model.best_score_)"
   ]
  },
  {
   "cell_type": "code",
   "execution_count": 357,
   "id": "6bb6f973",
   "metadata": {
    "scrolled": true
   },
   "outputs": [
    {
     "data": {
      "text/plain": [
       "{'mean_fit_time': array([0.04114485, 0.03986478, 0.03943787, 0.04045801, 0.03778791,\n",
       "        0.03501329, 0.03277388, 0.03306947, 0.04121485, 0.03712707]),\n",
       " 'std_fit_time': array([0.00408693, 0.00141494, 0.00329649, 0.00465012, 0.00274722,\n",
       "        0.00127273, 0.00177253, 0.00119786, 0.00233695, 0.00321885]),\n",
       " 'mean_score_time': array([0.00607429, 0.00422029, 0.00467677, 0.00394635, 0.00578613,\n",
       "        0.0026001 , 0.00404649, 0.00441661, 0.0044807 , 0.00540829]),\n",
       " 'std_score_time': array([0.00328   , 0.00383927, 0.00352791, 0.00274583, 0.00142466,\n",
       "        0.00149906, 0.00007851, 0.0005403 , 0.00069945, 0.00186749]),\n",
       " 'param_subsample': masked_array(data=[0.1, 0.2, 0.3, 0.4, 0.5, 0.6, 0.7, 0.8, 0.9, 1],\n",
       "              mask=[False, False, False, False, False, False, False, False,\n",
       "                    False, False],\n",
       "        fill_value='?',\n",
       "             dtype=object),\n",
       " 'params': [{'subsample': 0.1},\n",
       "  {'subsample': 0.2},\n",
       "  {'subsample': 0.3},\n",
       "  {'subsample': 0.4},\n",
       "  {'subsample': 0.5},\n",
       "  {'subsample': 0.6},\n",
       "  {'subsample': 0.7},\n",
       "  {'subsample': 0.8},\n",
       "  {'subsample': 0.9},\n",
       "  {'subsample': 1}],\n",
       " 'split0_test_r2': array([-0.41158173, -0.24135637, -0.09607394, -0.08238915,  0.00603281,\n",
       "         0.06627848,  0.0897175 ,  0.11666361,  0.12110741,  0.1658054 ]),\n",
       " 'split1_test_r2': array([0.40108878, 0.70362322, 0.74260471, 0.537594  , 0.17070962,\n",
       "        0.09702373, 0.18183551, 0.27843171, 0.4271337 , 0.4883037 ]),\n",
       " 'split2_test_r2': array([-1.96427302, -0.66864715,  0.04644165,  0.36068237,  0.60230007,\n",
       "         0.68713745,  0.49521356,  0.30983316,  0.24042982, -0.29503854]),\n",
       " 'split3_test_r2': array([-0.35865523, -0.21541436, -0.2381989 , -0.1966065 , -0.28835663,\n",
       "        -0.21186024, -0.25067688, -0.21727256, -0.21415785, -0.17746905]),\n",
       " 'split4_test_r2': array([-0.40408122, -0.83451922, -0.90742509, -1.00866121, -0.06475957,\n",
       "         0.15649164, -0.35389062, -0.4875397 , -0.36930597, -0.44893726]),\n",
       " 'mean_test_r2': array([-0.54750048, -0.25126277, -0.09053032, -0.0778761 ,  0.08518526,\n",
       "         0.15901421,  0.03243982,  0.00002324,  0.04104142, -0.05346715]),\n",
       " 'std_test_r2': array([0.7722398 , 0.53433853, 0.52953359, 0.53881633, 0.29765895,\n",
       "        0.29288602, 0.30632193, 0.30725674, 0.29282937, 0.33814965]),\n",
       " 'rank_test_r2': array([10,  9,  8,  7,  2,  1,  4,  5,  3,  6]),\n",
       " 'split0_train_r2': array([-0.19940108, -0.00639454,  0.15506566,  0.28265848,  0.3675238 ,\n",
       "         0.48240955,  0.57309519,  0.5933222 ,  0.61227073,  0.6396647 ]),\n",
       " 'split1_train_r2': array([-0.1834319 ,  0.02303893,  0.21020483,  0.33604591,  0.45125971,\n",
       "         0.54021599,  0.59268782,  0.61008474,  0.62677199,  0.67244835]),\n",
       " 'split2_train_r2': array([-0.13870551,  0.05180751,  0.17181513,  0.29318886,  0.41199398,\n",
       "         0.5362997 ,  0.60602605,  0.62930433,  0.66862149,  0.72742566]),\n",
       " 'split3_train_r2': array([-0.15516294,  0.1202368 ,  0.28556771,  0.3389114 ,  0.3880415 ,\n",
       "         0.4737248 ,  0.51545468,  0.5573411 ,  0.59534514,  0.63895202]),\n",
       " 'split4_train_r2': array([-0.1821227 ,  0.05583859,  0.13422   ,  0.28678922,  0.37746514,\n",
       "         0.42300295,  0.49953732,  0.58123371,  0.60649529,  0.68147959]),\n",
       " 'mean_train_r2': array([-0.17176483,  0.04890546,  0.19137467,  0.30751877,  0.39925682,\n",
       "         0.4911306 ,  0.55736021,  0.59425722,  0.62190093,  0.67199406]),\n",
       " 'std_train_r2': array([0.02179775, 0.04212319, 0.05328129, 0.02470785, 0.02991381,\n",
       "        0.04352015, 0.04234042, 0.02454423, 0.025463  , 0.03255705]),\n",
       " 'split0_test_rmse': array([93.2542295 , 87.4507948 , 82.17419332, 81.65959819, 78.25309931,\n",
       "        75.84452019, 74.88651479, 73.76979628, 73.58400567, 71.68845331]),\n",
       " 'split1_test_rmse': array([7.85409561, 5.52506061, 5.14890954, 6.901233  , 9.24204916,\n",
       "        9.64390957, 9.1798434 , 8.6209213 , 7.68142153, 7.2597405 ]),\n",
       " 'split2_test_rmse': array([38.0722283 , 28.56481735, 21.59348969, 17.68102898, 13.94527079,\n",
       "        12.36875493, 15.71097128, 18.37072265, 19.27228231, 25.16462957]),\n",
       " 'split3_test_rmse': array([69.87498317, 66.08901282, 66.70559924, 65.57567398, 68.04326293,\n",
       "        65.99231321, 67.04087038, 66.13951401, 66.05484229, 65.0491811 ]),\n",
       " 'split4_test_rmse': array([5.53993296, 6.33241731, 6.45702013, 6.62615729, 4.8242985 ,\n",
       "        4.2939115 , 5.44001609, 5.70220303, 5.47089834, 5.6277291 ]),\n",
       " 'mean_test_rmse': array([42.91909391, 38.79242058, 36.41584238, 35.68873829, 34.86159614,\n",
       "        33.62868188, 34.45164319, 34.52063146, 34.41269003, 34.95794672]),\n",
       " 'std_test_rmse': array([34.38166292, 32.79546996, 31.95669041, 31.63599391, 31.55927332,\n",
       "        30.71600295, 30.09514155, 29.333827  , 29.38379736, 28.20628957]),\n",
       " 'rank_test_rmse': array([ 1,  2,  3,  4,  6, 10,  8,  7,  9,  5]),\n",
       " 'split0_train_rmse': array([41.07724227, 37.62731227, 34.47708531, 31.76742748, 29.82916907,\n",
       "        26.98436405, 24.50668594, 23.91907014, 23.35518735, 22.51502665]),\n",
       " 'split1_train_rmse': array([60.13449779, 54.63748251, 49.12576075, 45.04235388, 40.94826237,\n",
       "        37.48253736, 35.27895829, 34.51732779, 33.77063012, 31.63675611]),\n",
       " 'split2_train_rmse': array([59.57023328, 54.35904824, 50.80275161, 46.93267207, 42.80696889,\n",
       "        38.01388692, 35.03945496, 33.98852729, 32.13555144, 29.14513515]),\n",
       " 'split3_train_rmse': array([51.388453  , 44.84632041, 40.41331314, 38.87530007, 37.40286801,\n",
       "        34.68569278, 33.28213084, 31.81108776, 30.4148934 , 28.72938845]),\n",
       " 'split4_train_rmse': array([58.75102837, 52.50580439, 50.27915482, 45.63448402, 42.63497692,\n",
       "        41.0460143 , 38.22698472, 34.96794035, 33.89683616, 30.49669839]),\n",
       " 'mean_train_rmse': array([54.18429094, 48.79519356, 45.01961313, 41.65044751, 38.72444905,\n",
       "        35.64249908, 33.26684295, 31.84079067, 30.71461969, 28.50460095]),\n",
       " 'std_train_rmse': array([7.27845948, 6.62076466, 6.4858432 , 5.6684213 , 4.85339313,\n",
       "        4.77673484, 4.65906326, 4.1063421 , 3.89193599, 3.16590151])}"
      ]
     },
     "execution_count": 357,
     "metadata": {},
     "output_type": "execute_result"
    }
   ],
   "source": [
    "model.cv_results_"
   ]
  },
  {
   "cell_type": "code",
   "execution_count": 358,
   "id": "90410715",
   "metadata": {},
   "outputs": [],
   "source": [
    "parameters[\"subsample\"]=0.6"
   ]
  },
  {
   "cell_type": "code",
   "execution_count": 359,
   "id": "16567ad4",
   "metadata": {
    "scrolled": true
   },
   "outputs": [
    {
     "name": "stdout",
     "output_type": "stream",
     "text": [
      "Fitting 5 folds for each of 8 candidates, totalling 40 fits\n",
      "[CV] END ...............................colsample_bytree=0.2; total time=   0.0s\n",
      "[CV] END ...............................colsample_bytree=0.2; total time=   0.0s\n",
      "[CV] END ...............................colsample_bytree=0.2; total time=   0.0s\n",
      "[CV] END ...............................colsample_bytree=0.2; total time=   0.0s\n",
      "[CV] END ...............................colsample_bytree=0.2; total time=   0.0s\n",
      "[CV] END ...............................colsample_bytree=0.3; total time=   0.0s\n",
      "[CV] END ...............................colsample_bytree=0.3; total time=   0.0s\n",
      "[CV] END ...............................colsample_bytree=0.3; total time=   0.0s\n",
      "[CV] END ...............................colsample_bytree=0.3; total time=   0.0s\n",
      "[CV] END ...............................colsample_bytree=0.3; total time=   0.0s\n",
      "[CV] END ...............................colsample_bytree=0.5; total time=   0.0s\n",
      "[CV] END ...............................colsample_bytree=0.5; total time=   0.0s\n",
      "[CV] END ...............................colsample_bytree=0.5; total time=   0.0s\n",
      "[CV] END ...............................colsample_bytree=0.5; total time=   0.0s\n",
      "[CV] END ...............................colsample_bytree=0.5; total time=   0.0s\n",
      "[CV] END ...............................colsample_bytree=0.6; total time=   0.0s\n",
      "[CV] END ...............................colsample_bytree=0.6; total time=   0.0s\n",
      "[CV] END ...............................colsample_bytree=0.6; total time=   0.0s\n",
      "[CV] END ...............................colsample_bytree=0.6; total time=   0.0s\n",
      "[CV] END ...............................colsample_bytree=0.6; total time=   0.0s\n",
      "[CV] END ...............................colsample_bytree=0.7; total time=   0.0s\n",
      "[CV] END ...............................colsample_bytree=0.7; total time=   0.0s\n",
      "[CV] END ...............................colsample_bytree=0.7; total time=   0.0s\n",
      "[CV] END ...............................colsample_bytree=0.7; total time=   0.0s\n",
      "[CV] END ...............................colsample_bytree=0.7; total time=   0.0s\n",
      "[CV] END ...............................colsample_bytree=0.8; total time=   0.0s\n",
      "[CV] END ...............................colsample_bytree=0.8; total time=   0.0s\n",
      "[CV] END ...............................colsample_bytree=0.8; total time=   0.0s\n",
      "[CV] END ...............................colsample_bytree=0.8; total time=   0.0s\n",
      "[CV] END ...............................colsample_bytree=0.8; total time=   0.0s\n",
      "[CV] END ...............................colsample_bytree=0.9; total time=   0.0s\n",
      "[CV] END ...............................colsample_bytree=0.9; total time=   0.0s\n",
      "[CV] END ...............................colsample_bytree=0.9; total time=   0.0s\n",
      "[CV] END ...............................colsample_bytree=0.9; total time=   0.0s\n",
      "[CV] END ...............................colsample_bytree=0.9; total time=   0.0s\n",
      "[CV] END .................................colsample_bytree=1; total time=   0.0s\n",
      "[CV] END .................................colsample_bytree=1; total time=   0.0s\n",
      "[CV] END .................................colsample_bytree=1; total time=   0.0s\n",
      "[CV] END .................................colsample_bytree=1; total time=   0.0s\n",
      "[CV] END .................................colsample_bytree=1; total time=   0.0s\n",
      "Best parameters {'colsample_bytree': 0.2}\n",
      "Best score 0.1590142120708213\n"
     ]
    }
   ],
   "source": [
    "cv_params = {'colsample_bytree': [.2,.3,.5,.6,.7,.8,.9,1],\n",
    "            }\n",
    "\n",
    "r2 = make_scorer(rsquared)\n",
    "rmse = make_scorer(rmse_calc)\n",
    "scoring = {\"r2\": r2, \"rmse\": rmse}\n",
    "\n",
    "model = GridSearchCV(XGBRegressor(\n",
    "                                        random_state = seed,\n",
    "                                        n_estimators = parameters[\"n_estimators\"],\n",
    "                                        max_depth = parameters[\"max_depth\"],\n",
    "                                        subsample = parameters[\"subsample\"],\n",
    "                                        colsample_bytree = parameters[\"colsample_bytree\"],\n",
    "                                        learning_rate = parameters[\"learning_rate\"]\n",
    "                                    ),\n",
    "                    \n",
    "                    param_grid = cv_params,\n",
    "                    scoring = scoring,\n",
    "                    refit=\"r2\",\n",
    "                    cv = 5,\n",
    "                    verbose = 2,\n",
    "                    return_train_score=True\n",
    ")\n",
    "\n",
    "model.fit(xtrain,ytrain)\n",
    "print (\"Best parameters %s\" %model.best_params_)\n",
    "print (\"Best score %s\" %model.best_score_)"
   ]
  },
  {
   "cell_type": "code",
   "execution_count": 360,
   "id": "54af0ae8",
   "metadata": {
    "scrolled": true
   },
   "outputs": [
    {
     "data": {
      "text/plain": [
       "{'mean_fit_time': array([0.04284692, 0.03607383, 0.03582034, 0.03797641, 0.03891854,\n",
       "        0.03499479, 0.03626928, 0.03575687]),\n",
       " 'std_fit_time': array([0.00660327, 0.00433587, 0.00195592, 0.00254869, 0.00306782,\n",
       "        0.00141221, 0.00201185, 0.00189927]),\n",
       " 'mean_score_time': array([0.00554466, 0.00571737, 0.0039607 , 0.00300522, 0.00570135,\n",
       "        0.00395823, 0.00415864, 0.00433445]),\n",
       " 'std_score_time': array([0.00571926, 0.00374214, 0.00251834, 0.00188967, 0.00271326,\n",
       "        0.0001644 , 0.00070812, 0.00363911]),\n",
       " 'param_colsample_bytree': masked_array(data=[0.2, 0.3, 0.5, 0.6, 0.7, 0.8, 0.9, 1],\n",
       "              mask=[False, False, False, False, False, False, False, False],\n",
       "        fill_value='?',\n",
       "             dtype=object),\n",
       " 'params': [{'colsample_bytree': 0.2},\n",
       "  {'colsample_bytree': 0.3},\n",
       "  {'colsample_bytree': 0.5},\n",
       "  {'colsample_bytree': 0.6},\n",
       "  {'colsample_bytree': 0.7},\n",
       "  {'colsample_bytree': 0.8},\n",
       "  {'colsample_bytree': 0.9},\n",
       "  {'colsample_bytree': 1}],\n",
       " 'split0_test_r2': array([0.06627848, 0.06627848, 0.10381843, 0.12869813, 0.12869813,\n",
       "        0.12425275, 0.12425275, 0.11668012]),\n",
       " 'split1_test_r2': array([ 0.09702373,  0.09702373, -0.03207789, -0.08849312, -0.08849312,\n",
       "        -0.19933474, -0.19933474, -0.71496411]),\n",
       " 'split2_test_r2': array([ 0.68713745,  0.68713745,  0.62253171,  0.36150054,  0.36150054,\n",
       "         0.13074809,  0.13074809, -0.20435386]),\n",
       " 'split3_test_r2': array([-0.21186024, -0.21186024, -0.22750556, -0.28674997, -0.28674997,\n",
       "        -0.29209093, -0.29209093, -0.24860073]),\n",
       " 'split4_test_r2': array([ 0.15649164,  0.15649164, -0.25358929, -1.11553545, -1.11553545,\n",
       "        -0.85161147, -0.85161147, -0.9070322 ]),\n",
       " 'mean_test_r2': array([ 0.15901421,  0.15901421,  0.04263548, -0.20011597, -0.20011597,\n",
       "        -0.21760726, -0.21760726, -0.39165416]),\n",
       " 'std_test_r2': array([0.29288602, 0.29288602, 0.31822331, 0.50625878, 0.50625878,\n",
       "        0.35946147, 0.35946147, 0.36989006]),\n",
       " 'rank_test_r2': array([1, 1, 3, 4, 4, 6, 6, 8]),\n",
       " 'split0_train_r2': array([0.48240955, 0.48240955, 0.51627529, 0.5352638 , 0.5352638 ,\n",
       "        0.5465392 , 0.5465392 , 0.54038456]),\n",
       " 'split1_train_r2': array([0.54021599, 0.54021599, 0.5759145 , 0.60263922, 0.60263922,\n",
       "        0.58254443, 0.58254443, 0.58470736]),\n",
       " 'split2_train_r2': array([0.5362997 , 0.5362997 , 0.58708012, 0.5942615 , 0.5942615 ,\n",
       "        0.59350693, 0.59350693, 0.59170389]),\n",
       " 'split3_train_r2': array([0.4737248 , 0.4737248 , 0.49095452, 0.49316147, 0.49316147,\n",
       "        0.49824053, 0.49824053, 0.49776183]),\n",
       " 'split4_train_r2': array([0.42300295, 0.42300295, 0.45344208, 0.46247323, 0.46247323,\n",
       "        0.47735227, 0.47735227, 0.48967003]),\n",
       " 'mean_train_r2': array([0.4911306 , 0.4911306 , 0.5247333 , 0.53755984, 0.53755984,\n",
       "        0.53963667, 0.53963667, 0.54084553]),\n",
       " 'std_train_r2': array([0.04352015, 0.04352015, 0.05059965, 0.0548906 , 0.0548906 ,\n",
       "        0.04557129, 0.04557129, 0.04239288]),\n",
       " 'split0_test_rmse': array([75.84452019, 75.84452019, 74.30422807, 73.2655556 , 73.2655556 ,\n",
       "        73.45221796, 73.45221796, 73.76910677]),\n",
       " 'split1_test_rmse': array([ 9.64390957,  9.64390957, 10.31029751, 10.5883382 , 10.5883382 ,\n",
       "        11.11437811, 11.11437811, 13.29053546]),\n",
       " 'split2_test_rmse': array([12.36875493, 12.36875493, 13.58593195, 17.66971161, 17.66971161,\n",
       "        20.61683632, 20.61683632, 24.26756768]),\n",
       " 'split3_test_rmse': array([65.99231321, 65.99231321, 66.41693317, 68.00082274, 68.00082274,\n",
       "        68.14180328, 68.14180328, 66.98520268]),\n",
       " 'split4_test_rmse': array([4.2939115 , 4.2939115 , 5.2346305 , 6.80015087, 6.80015087,\n",
       "        6.36184855, 6.36184855, 6.45635509]),\n",
       " 'mean_test_rmse': array([33.62868188, 33.62868188, 33.97040424, 35.2649158 , 35.2649158 ,\n",
       "        35.93741684, 35.93741684, 36.95375354]),\n",
       " 'std_test_rmse': array([30.71600295, 30.71600295, 29.93548609, 29.1357367 , 29.1357367 ,\n",
       "        28.87940612, 28.87940612, 27.9579566 ]),\n",
       " 'rank_test_rmse': array([7, 7, 6, 4, 4, 2, 2, 1]),\n",
       " 'split0_train_rmse': array([26.98436405, 26.98436405, 26.08664309, 25.56950462, 25.56950462,\n",
       "        25.25741725, 25.25741725, 25.42824376]),\n",
       " 'split1_train_rmse': array([37.48253736, 37.48253736, 35.99803243, 34.84532756, 34.84532756,\n",
       "        35.71553687, 35.71553687, 35.62289174]),\n",
       " 'split2_train_rmse': array([38.01388692, 38.01388692, 35.87207384, 35.55876758, 35.55876758,\n",
       "        35.59181732, 35.59181732, 35.67066529]),\n",
       " 'split3_train_rmse': array([34.68569278, 34.68569278, 34.11318056, 34.03915197, 34.03915197,\n",
       "        33.86816813, 33.86816813, 33.88432029]),\n",
       " 'split4_train_rmse': array([41.0460143 , 41.0460143 , 39.94866689, 39.61724251, 39.61724251,\n",
       "        39.06508093, 39.06508093, 38.60199321]),\n",
       " 'mean_train_rmse': array([35.64249908, 35.64249908, 34.40371936, 33.92599885, 33.92599885,\n",
       "        33.8996041 , 33.8996041 , 33.84162286]),\n",
       " 'std_train_rmse': array([4.77673484, 4.77673484, 4.57607938, 4.59880752, 4.59880752,\n",
       "        4.6374935 , 4.6374935 , 4.47138037])}"
      ]
     },
     "execution_count": 360,
     "metadata": {},
     "output_type": "execute_result"
    }
   ],
   "source": [
    "model.cv_results_"
   ]
  },
  {
   "cell_type": "code",
   "execution_count": 362,
   "id": "0b36c14b",
   "metadata": {},
   "outputs": [],
   "source": [
    "parameters[\"colsample_bytree\"]=0.2"
   ]
  },
  {
   "cell_type": "code",
   "execution_count": 363,
   "id": "4095b300",
   "metadata": {
    "scrolled": true
   },
   "outputs": [
    {
     "name": "stdout",
     "output_type": "stream",
     "text": [
      "Fitting 5 folds for each of 12 candidates, totalling 60 fits\n",
      "[CV] END ........................................max_depth=1; total time=   0.0s\n",
      "[CV] END ........................................max_depth=1; total time=   0.0s\n",
      "[CV] END ........................................max_depth=1; total time=   0.0s\n",
      "[CV] END ........................................max_depth=1; total time=   0.0s\n",
      "[CV] END ........................................max_depth=1; total time=   0.0s\n",
      "[CV] END ........................................max_depth=2; total time=   0.0s\n",
      "[CV] END ........................................max_depth=2; total time=   0.0s\n",
      "[CV] END ........................................max_depth=2; total time=   0.0s\n",
      "[CV] END ........................................max_depth=2; total time=   0.0s\n",
      "[CV] END ........................................max_depth=2; total time=   0.0s\n",
      "[CV] END ........................................max_depth=4; total time=   0.0s\n",
      "[CV] END ........................................max_depth=4; total time=   0.0s\n",
      "[CV] END ........................................max_depth=4; total time=   0.0s\n",
      "[CV] END ........................................max_depth=4; total time=   0.0s\n",
      "[CV] END ........................................max_depth=4; total time=   0.0s\n",
      "[CV] END ........................................max_depth=6; total time=   0.0s\n",
      "[CV] END ........................................max_depth=6; total time=   0.0s\n",
      "[CV] END ........................................max_depth=6; total time=   0.0s\n",
      "[CV] END ........................................max_depth=6; total time=   0.0s\n",
      "[CV] END ........................................max_depth=6; total time=   0.0s\n",
      "[CV] END ........................................max_depth=8; total time=   0.0s\n",
      "[CV] END ........................................max_depth=8; total time=   0.0s\n",
      "[CV] END ........................................max_depth=8; total time=   0.0s\n",
      "[CV] END ........................................max_depth=8; total time=   0.0s\n",
      "[CV] END ........................................max_depth=8; total time=   0.0s\n",
      "[CV] END .......................................max_depth=10; total time=   0.0s\n",
      "[CV] END .......................................max_depth=10; total time=   0.0s\n",
      "[CV] END .......................................max_depth=10; total time=   0.0s\n",
      "[CV] END .......................................max_depth=10; total time=   0.0s\n",
      "[CV] END .......................................max_depth=10; total time=   0.0s\n",
      "[CV] END .......................................max_depth=12; total time=   0.0s\n",
      "[CV] END .......................................max_depth=12; total time=   0.0s\n",
      "[CV] END .......................................max_depth=12; total time=   0.0s\n",
      "[CV] END .......................................max_depth=12; total time=   0.0s\n",
      "[CV] END .......................................max_depth=12; total time=   0.0s\n",
      "[CV] END .......................................max_depth=15; total time=   0.0s\n",
      "[CV] END .......................................max_depth=15; total time=   0.0s\n",
      "[CV] END .......................................max_depth=15; total time=   0.0s\n",
      "[CV] END .......................................max_depth=15; total time=   0.0s\n",
      "[CV] END .......................................max_depth=15; total time=   0.0s\n",
      "[CV] END .......................................max_depth=18; total time=   0.0s\n",
      "[CV] END .......................................max_depth=18; total time=   0.0s\n",
      "[CV] END .......................................max_depth=18; total time=   0.0s\n",
      "[CV] END .......................................max_depth=18; total time=   0.0s\n",
      "[CV] END .......................................max_depth=18; total time=   0.0s\n",
      "[CV] END .......................................max_depth=20; total time=   0.0s\n",
      "[CV] END .......................................max_depth=20; total time=   0.0s\n",
      "[CV] END .......................................max_depth=20; total time=   0.0s\n",
      "[CV] END .......................................max_depth=20; total time=   0.0s\n",
      "[CV] END .......................................max_depth=20; total time=   0.0s\n",
      "[CV] END .......................................max_depth=25; total time=   0.0s\n",
      "[CV] END .......................................max_depth=25; total time=   0.0s\n",
      "[CV] END .......................................max_depth=25; total time=   0.0s\n",
      "[CV] END .......................................max_depth=25; total time=   0.0s\n",
      "[CV] END .......................................max_depth=25; total time=   0.0s\n",
      "[CV] END .......................................max_depth=30; total time=   0.0s\n",
      "[CV] END .......................................max_depth=30; total time=   0.0s\n",
      "[CV] END .......................................max_depth=30; total time=   0.0s\n",
      "[CV] END .......................................max_depth=30; total time=   0.0s\n",
      "[CV] END .......................................max_depth=30; total time=   0.0s\n",
      "Best parameters {'max_depth': 10}\n",
      "Best score 0.1590524896626685\n"
     ]
    }
   ],
   "source": [
    "cv_params = {'max_depth': [1,2,4,6,8,10,12,15,18,20,25,30],\n",
    "            }\n",
    "\n",
    "r2 = make_scorer(rsquared)\n",
    "rmse = make_scorer(rmse_calc)\n",
    "scoring = {\"r2\": r2, \"rmse\": rmse}\n",
    "\n",
    "model = GridSearchCV(XGBRegressor(\n",
    "                                        random_state = seed,\n",
    "                                        n_estimators = parameters[\"n_estimators\"],\n",
    "                                        max_depth = parameters[\"max_depth\"],\n",
    "                                        subsample = parameters[\"subsample\"],\n",
    "                                        colsample_bytree = parameters[\"colsample_bytree\"],\n",
    "                                        learning_rate = parameters[\"learning_rate\"]\n",
    "                                    ),\n",
    "                    \n",
    "                    param_grid = cv_params,\n",
    "                    scoring = scoring,\n",
    "                    refit=\"r2\",\n",
    "                    cv = 5,\n",
    "                    verbose = 2,\n",
    "                    return_train_score=True\n",
    ")\n",
    "\n",
    "model.fit(xtrain,ytrain)\n",
    "print (\"Best parameters %s\" %model.best_params_)\n",
    "print (\"Best score %s\" %model.best_score_)"
   ]
  },
  {
   "cell_type": "code",
   "execution_count": 366,
   "id": "5f2ab3e9",
   "metadata": {},
   "outputs": [],
   "source": [
    "parameters[\"max_depth\"]=10"
   ]
  },
  {
   "cell_type": "code",
   "execution_count": 368,
   "id": "e5d0c6f0",
   "metadata": {},
   "outputs": [
    {
     "data": {
      "text/plain": [
       "{'n_estimators': 70,\n",
       " 'max_depth': 10,\n",
       " 'subsample': 0.6,\n",
       " 'colsample_bytree': 0.2,\n",
       " 'learning_rate': 0.05}"
      ]
     },
     "execution_count": 368,
     "metadata": {},
     "output_type": "execute_result"
    }
   ],
   "source": [
    "parameters"
   ]
  },
  {
   "cell_type": "code",
   "execution_count": null,
   "id": "9f334d97",
   "metadata": {},
   "outputs": [],
   "source": []
  },
  {
   "cell_type": "code",
   "execution_count": null,
   "id": "804ad177",
   "metadata": {},
   "outputs": [],
   "source": []
  },
  {
   "cell_type": "code",
   "execution_count": 418,
   "id": "9a89c856",
   "metadata": {},
   "outputs": [
    {
     "name": "stdout",
     "output_type": "stream",
     "text": [
      "Iteration:  1  out of  5\n",
      "Iteration:  2  out of  5\n",
      "Iteration:  3  out of  5\n",
      "Iteration:  4  out of  5\n",
      "Iteration:  5  out of  5\n",
      "Training\n",
      "All R2:         [0.15, 0.14, 0.15, 0.16, 0.14]\n",
      "All RMSE:       [45378.9, 37968.2, 43160.2, 47956.8, 47086.2]\n",
      "All MAPE:       [35.3, 34.4, 33.7, 30.5, 33.7]\n",
      "Avg R2:         0.15\n",
      "Avg RMSE:       44310.03\n",
      "Avg MAPE:       33.51\n",
      "\n",
      "Test\n",
      "All R2:         [0.18, -0.01, 0.07, -0.26, -0.08]\n",
      "All RMSE:       [39569.3, 69437.6, 51362.8, 26761.7, 38345.1]\n",
      "All MAPE:       [39.5, 53.6, 40.6, 53.5, 76.8]\n",
      "Avg R2:         -0.02\n",
      "Avg RMSE:       45095.3\n",
      "Avg MAPE:       52.81\n"
     ]
    }
   ],
   "source": [
    "# Set-up stratified k-fold cross-validation\n",
    "k = 5\n",
    "kf = StratifiedKFold(n_splits=k, shuffle=True, random_state=18)\n",
    "\n",
    "# Define splits beforehand based on sample bin\n",
    "splits = kf.split(x,cat[\"bin\"])\n",
    "\n",
    "i = 0\n",
    "\n",
    "r2_train_scores = []\n",
    "rmse_train_scores = []\n",
    "mape_train_scores = []\n",
    "\n",
    "r2_scores = []\n",
    "rmse_scores = []\n",
    "mape_scores = []\n",
    "\n",
    "# xgb = XGBRegressor(random_state=3)\n",
    "xgb = XGBRegressor(n_estimators=70, max_depth=10, subsample=.6, colsample_bytree=0.2, \n",
    "                   learning_rate=0.05, random_state=3)\n",
    "\n",
    "# Loop k times and split into train and test sets\n",
    "for n,(train_index,test_index) in enumerate(splits):\n",
    "\n",
    "    i += 1\n",
    "    print(\"Iteration: \", i, \" out of \", k)\n",
    "    \n",
    "    xtrain_strat, xtest_strat = x.iloc[train_index,:], x.iloc[test_index,:]\n",
    "    ytrain_strat, ytest_strat = logy.iloc[train_index] , logy.iloc[test_index]\n",
    "    \n",
    "    # Fit RF-regression model on training data\n",
    "    xgb.fit(xtrain_strat,ytrain_strat)\n",
    "    \n",
    "    ## Predict on train set\n",
    "    ytrain_pred = pd.Series(xgb.predict(xtrain_strat))\n",
    "    \n",
    "    # Un-log\n",
    "    ytrain_pred = np.exp(ytrain_pred)\n",
    "    ytrain_strat = np.exp(ytrain_strat)\n",
    "  \n",
    "    # Save scores\n",
    "    r2_train_scores.append(r2_score(ytrain_strat, ytrain_pred))\n",
    "    rmse_train_scores.append(mean_squared_error(ytrain_strat, ytrain_pred, squared=False))\n",
    "    mape_train_scores.append(mean_absolute_percentage_error(ytrain_strat, ytrain_pred))\n",
    "\n",
    "    ## Predict on test set\n",
    "    ypred = pd.Series(xgb.predict(xtest_strat))\n",
    " \n",
    "    # Un-log\n",
    "    ypred = np.exp(ypred)\n",
    "    ytest_strat = np.exp(ytest_strat)\n",
    "    \n",
    "    # Save scores\n",
    "    r2_scores.append(r2_score(ytest_strat, ypred))\n",
    "    rmse_scores.append(mean_squared_error(ytest_strat, ypred, squared=False))\n",
    "    mape_scores.append(mean_absolute_percentage_error(ytest_strat, ypred))\n",
    "    \n",
    "\n",
    "print(\"Training\")\n",
    "print(\"All R2:        \",[round(score,2) for score in r2_train_scores])\n",
    "print(\"All RMSE:      \",[round(score,1) for score in rmse_train_scores])\n",
    "print(\"All MAPE:      \",[round(100*score,1) for score in mape_train_scores])\n",
    "\n",
    "print(\"Avg R2:        \",str(round(sum(r2_train_scores)/k,2)))\n",
    "print(\"Avg RMSE:      \",str(round(sum(rmse_train_scores)/k,2)))\n",
    "print(\"Avg MAPE:      \",str(round(100*sum(mape_train_scores)/k,2)))\n",
    "\n",
    "print(\"\\nTest\")\n",
    "print(\"All R2:        \",[round(score,2) for score in r2_scores])\n",
    "print(\"All RMSE:      \",[round(score,1) for score in rmse_scores])\n",
    "print(\"All MAPE:      \",[round(100*score,1) for score in mape_scores])\n",
    "\n",
    "print(\"Avg R2:        \",str(round(sum(r2_scores)/k,2)))\n",
    "print(\"Avg RMSE:      \",str(round(sum(rmse_scores)/k,2)))\n",
    "print(\"Avg MAPE:      \",str(round(100*sum(mape_scores)/k,2)))"
   ]
  },
  {
   "cell_type": "code",
   "execution_count": 419,
   "id": "13d914fe",
   "metadata": {},
   "outputs": [
    {
     "data": {
      "image/png": "[encoded data removed]",
      "text/plain": [
       "<Figure size 720x720 with 1 Axes>"
      ]
     },
     "metadata": {
      "needs_background": "light"
     },
     "output_type": "display_data"
    }
   ],
   "source": [
    "plot_predictions(ytest_strat/1000,ypred/1000)"
   ]
  }
 ],
 "metadata": {
  "kernelspec": {
   "display_name": "Python 3",
   "language": "python",
   "name": "python3"
  },
  "language_info": {
   "codemirror_mode": {
    "name": "ipython",
    "version": 3
   },
   "file_extension": ".py",
   "mimetype": "text/x-python",
   "name": "python",
   "nbconvert_exporter": "python",
   "pygments_lexer": "ipython3",
   "version": "3.8.8"
  }
 },
 "nbformat": 4,
 "nbformat_minor": 5
}
