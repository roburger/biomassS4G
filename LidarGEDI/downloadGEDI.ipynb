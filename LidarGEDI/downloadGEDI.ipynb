{
 "cells": [
  {
   "cell_type": "markdown",
   "id": "cf1d2f0c",
   "metadata": {},
   "source": [
    "# Lidar - GEDI\n",
    "### Download GEDI data script\n",
    "\n",
    "-----\n",
    "\n",
    ">Rob Burger\n",
    "\n",
    ">Space4Good\n",
    "\n",
    ">Biomass estimation in Tanzania"
   ]
  },
  {
   "cell_type": "markdown",
   "id": "6dfed342",
   "metadata": {},
   "source": [
    "Source\n",
    "\n",
    "https://github.com/ornldaac/gedi_tutorials"
   ]
  },
  {
   "cell_type": "code",
   "execution_count": null,
   "id": "b8a66d88",
   "metadata": {},
   "outputs": [],
   "source": [
    "from osgeo import gdal"
   ]
  },
  {
   "cell_type": "code",
   "execution_count": null,
   "id": "76ad20bb",
   "metadata": {},
   "outputs": [],
   "source": [
    "import folium\n",
    "import owslib.wcs as wcs\n",
    "import owslib.wms as wms\n",
    "import pandas as pd\n",
    "import geopandas as gpd\n",
    "import requests as re\n",
    "\n",
    "import rasterio as rio\n",
    "#from osgeo import gdal\n",
    "\n",
    "import numpy as np\n",
    "import matplotlib.pyplot as plt\n",
    "from folium.plugins import FloatImage\n",
    "from rasterstats import zonal_stats\n",
    "from rasterio.plot import show"
   ]
  },
  {
   "cell_type": "code",
   "execution_count": null,
   "id": "32f6ec89",
   "metadata": {},
   "outputs": [],
   "source": [
    "import requests\n",
    "\n",
    "doi = '10.3334/ORNLDAAC/2056'# GEDI L4A DOI \n",
    "\n",
    "# CMR API base url\n",
    "cmrurl='https://cmr.earthdata.nasa.gov/search/' \n",
    "\n",
    "doisearch = cmrurl + 'collections.json?doi=' + doi\n",
    "concept_id = requests.get(doisearch).json()['feed']['entry'][0]['id']\n",
    "print(concept_id)"
   ]
  },
  {
   "cell_type": "code",
   "execution_count": null,
   "id": "0499a7e0",
   "metadata": {},
   "outputs": [],
   "source": []
  },
  {
   "cell_type": "code",
   "execution_count": null,
   "id": "22d53180",
   "metadata": {},
   "outputs": [],
   "source": []
  },
  {
   "cell_type": "markdown",
   "id": "f5de6da8",
   "metadata": {},
   "source": [
    "### Define Study Area\n",
    "\n",
    "Read here the study area for which GEDI data should be downloaded"
   ]
  },
  {
   "cell_type": "code",
   "execution_count": 22,
   "id": "bb41ec94",
   "metadata": {},
   "outputs": [
    {
     "data": {
      "text/html": [
       "<div>\n",
       "<style scoped>\n",
       "    .dataframe tbody tr th:only-of-type {\n",
       "        vertical-align: middle;\n",
       "    }\n",
       "\n",
       "    .dataframe tbody tr th {\n",
       "        vertical-align: top;\n",
       "    }\n",
       "\n",
       "    .dataframe thead th {\n",
       "        text-align: right;\n",
       "    }\n",
       "</style>\n",
       "<table border=\"1\" class=\"dataframe\">\n",
       "  <thead>\n",
       "    <tr style=\"text-align: right;\">\n",
       "      <th></th>\n",
       "      <th>minx</th>\n",
       "      <th>miny</th>\n",
       "      <th>maxx</th>\n",
       "      <th>maxy</th>\n",
       "    </tr>\n",
       "  </thead>\n",
       "  <tbody>\n",
       "    <tr>\n",
       "      <th>0</th>\n",
       "      <td>30.52044</td>\n",
       "      <td>-1.826</td>\n",
       "      <td>31.220396</td>\n",
       "      <td>-1.084886</td>\n",
       "    </tr>\n",
       "  </tbody>\n",
       "</table>\n",
       "</div>"
      ],
      "text/plain": [
       "       minx   miny       maxx      maxy\n",
       "0  30.52044 -1.826  31.220396 -1.084886"
      ]
     },
     "execution_count": 22,
     "metadata": {},
     "output_type": "execute_result"
    },
    {
     "data": {
      "image/png": "[encoded data removed]",
      "text/plain": [
       "<Figure size 432x288 with 1 Axes>"
      ]
     },
     "metadata": {
      "needs_background": "light"
     },
     "output_type": "display_data"
    }
   ],
   "source": [
    "gdf = gpd.read_file(\"../../../data/Tanzania/extentNew2.shp\")\n",
    "xmin, ymin, xmax, ymax = gdf.total_bounds\n",
    "gdf.plot()\n",
    "gdf.geometry.bounds"
   ]
  },
  {
   "cell_type": "code",
   "execution_count": null,
   "id": "fa744b52",
   "metadata": {},
   "outputs": [],
   "source": [
    "# orienting coordinates clockwise\n",
    "from shapely.ops import orient\n",
    "\n",
    "#print(gdf.geometry)\n",
    "gdf.geometry = gdf.geometry.apply(orient, args=(1,))\n",
    "print(gdf.geometry[0:5])"
   ]
  },
  {
   "cell_type": "code",
   "execution_count": null,
   "id": "d97ce6ce",
   "metadata": {},
   "outputs": [],
   "source": [
    "bound = gdf.total_bounds"
   ]
  },
  {
   "cell_type": "code",
   "execution_count": null,
   "id": "2e938647",
   "metadata": {},
   "outputs": [],
   "source": []
  },
  {
   "cell_type": "markdown",
   "id": "dcb46783",
   "metadata": {},
   "source": [
    "### Define Timeframe\n",
    "\n",
    "Define here the desired time period for which GEDI data can be downloaded"
   ]
  },
  {
   "cell_type": "code",
   "execution_count": null,
   "id": "b6a1aec6",
   "metadata": {},
   "outputs": [],
   "source": [
    "import datetime as dt\n",
    "start_date = dt.datetime(2020, 10, 1) # specify your own start date\n",
    "end_date = dt.datetime(2021, 12, 31)  # specify your own end date"
   ]
  },
  {
   "cell_type": "code",
   "execution_count": null,
   "id": "86df02db",
   "metadata": {},
   "outputs": [],
   "source": []
  },
  {
   "cell_type": "markdown",
   "id": "1da6dec4",
   "metadata": {},
   "source": [
    "### Search GEDI database\n",
    "\n",
    "Code below searches for GEDI data (in granules) and outputs the data size\n",
    "\n",
    "NASA's EarthData API is used"
   ]
  },
  {
   "cell_type": "code",
   "execution_count": null,
   "id": "cf55a9fa",
   "metadata": {},
   "outputs": [],
   "source": [
    "import requests\n",
    "from shapely.geometry import MultiPolygon, Polygon\n",
    "import pandas as pd\n",
    "\n",
    "# CMR formatted start and end times\n",
    "dt_format = '%Y-%m-%dT%H:%M:%SZ'\n",
    "temporal_str = start_date.strftime(dt_format) + ',' + end_date.strftime(dt_format)\n",
    "\n",
    "# CMR formatted bounding box\n",
    "bound_str = ','.join(map(str, bound))\n",
    "\n",
    "\n",
    "\n",
    "doi = '10.3334/ORNLDAAC/2056'# GEDI L4A DOI \n",
    "\n",
    "# CMR API base url\n",
    "cmrurl='https://cmr.earthdata.nasa.gov/search/' \n",
    "\n",
    "doisearch = cmrurl + 'collections.json?doi=' + doi\n",
    "concept_id = requests.get(doisearch).json()['feed']['entry'][0]['id']\n",
    "\n",
    "geojson = {\"shapefile\": (\"amapa.geojson\", gdf.geometry.to_json(), \"application/geo+json\")}\n",
    "\n",
    "page_num = 1\n",
    "page_size = 2000 # CMR page size limit\n",
    "\n",
    "granule_arr = []\n",
    "\n",
    "while True:\n",
    "    \n",
    "     # defining parameters\n",
    "    cmr_param = {\n",
    "        \"collection_concept_id\": concept_id, \n",
    "        \"page_size\": page_size,\n",
    "        \"page_num\": page_num,\n",
    "        \"temporal\": temporal_str,\n",
    "        \"bounding_box[]\": bound_str,\n",
    "        \"simplify-shapefile\": 'true' # this is needed to bypass 5000 coordinates limit of CMR\n",
    "    }\n",
    "    \n",
    "    granulesearch = cmrurl + 'granules.json'\n",
    "    response = requests.post(granulesearch, data=cmr_param, files=geojson)\n",
    "#     print(response.json())\n",
    "#     print(geojson)\n",
    "    granules = response.json()['feed']['entry']\n",
    "       \n",
    "    if granules:\n",
    "        for g in granules:\n",
    "            granule_url = ''\n",
    "            granule_poly = ''\n",
    "                       \n",
    "            # read file size\n",
    "            granule_size = float(g['granule_size'])\n",
    "    \n",
    "            # reading bounding geometries\n",
    "            if 'polygons' in g:\n",
    "                polygons= g['polygons']\n",
    "                multipolygons = []\n",
    "                for poly in polygons:\n",
    "                    i=iter(poly[0].split (\" \"))\n",
    "                    ltln = list(map(\" \".join,zip(i,i)))\n",
    "                    multipolygons.append(Polygon([[float(p.split(\" \")[1]), float(p.split(\" \")[0])] for p in ltln]))\n",
    "                granule_poly = MultiPolygon(multipolygons)\n",
    "            \n",
    "            # Get URL to HDF5 files\n",
    "            for links in g['links']:\n",
    "                if 'title' in links and links['title'].startswith('Download') \\\n",
    "                and links['title'].endswith('.h5'):\n",
    "                    granule_url = links['href']\n",
    "            granule_arr.append([granule_url, granule_size, granule_poly])\n",
    "               \n",
    "        page_num += 1\n",
    "    else: \n",
    "        break\n",
    "\n",
    "\n",
    "\n",
    "# adding bound as the last row into the dataframe\n",
    "# we will use this later in the plot\n",
    "granule_arr.append(['gdf', 0, gdf.iloc[0][\"geometry\"]]) \n",
    "\n",
    "# creating a pandas dataframe\n",
    "l4adf = pd.DataFrame(granule_arr, columns=[\"granule_url\", \"granule_size\", \"granule_poly\"])\n",
    "\n",
    "# Drop granules with empty geometry\n",
    "l4adf = l4adf[l4adf['granule_poly'] != '']\n",
    "\n",
    "print (\"Total granules found: \", len(l4adf.index)-1 )\n",
    "print (\"Total file size (MB): \", l4adf['granule_size'].sum())"
   ]
  },
  {
   "cell_type": "code",
   "execution_count": null,
   "id": "ef879524",
   "metadata": {},
   "outputs": [],
   "source": []
  },
  {
   "cell_type": "code",
   "execution_count": null,
   "id": "32eacda6",
   "metadata": {},
   "outputs": [],
   "source": []
  },
  {
   "cell_type": "code",
   "execution_count": null,
   "id": "1680f49f",
   "metadata": {},
   "outputs": [],
   "source": [
    "# Let's plot the GEDI data on top of the Study Area\n",
    "# Just to check if it matches well\n",
    "\n",
    "gdf = geopandas.GeoDataFrame(l4adf, geometry=l4adf.granule_poly)\n",
    "world = geopandas.read_file(geopandas.datasets.get_path('naturalearth_lowres'))\n",
    "base = world.plot(color='white', edgecolor='black', figsize  = (7, 7))\n",
    "\n",
    "# last row contains the bounding box (Red)\n",
    "ax= gdf[-1:].plot(ax=base, color='red', edgecolor='red', alpha=0.2)\n",
    "\n",
    "# all but the last row contains granule bounding geometry (Green)\n",
    "ax= gdf[:-1].plot(ax=base, color='green', edgecolor='green', alpha=0.2)\n",
    "\n",
    "minx, miny, maxx, maxy = gdf[-1:].geometry.total_bounds\n",
    "ax.set_xlim(minx-0.25, maxx+0.25)\n",
    "ax.set_ylim(miny-0.25, maxy+0.25)"
   ]
  },
  {
   "cell_type": "code",
   "execution_count": null,
   "id": "af7f7c74",
   "metadata": {},
   "outputs": [],
   "source": [
    "# Save all the GEDI data granules in txt format\n",
    "# This txt file can be used to download all the GEDI data\n",
    "\n",
    "l4a_granules = l4adf[:-1].drop_duplicates(subset=['granule_url'])\n",
    "l4a_granules.to_csv('../../data/processed/subsets/extentNew/granules.txt', columns = ['granule_url'], index=False, header = False)"
   ]
  },
  {
   "cell_type": "code",
   "execution_count": null,
   "id": "2643cdd2",
   "metadata": {},
   "outputs": [],
   "source": [
    "l4adf[\"granule_url\"]"
   ]
  },
  {
   "cell_type": "code",
   "execution_count": null,
   "id": "a0745bde",
   "metadata": {},
   "outputs": [],
   "source": []
  },
  {
   "cell_type": "code",
   "execution_count": null,
   "id": "be128449",
   "metadata": {},
   "outputs": [],
   "source": []
  },
  {
   "cell_type": "markdown",
   "id": "d8dad0bd",
   "metadata": {},
   "source": [
    "# Downloading the GEDI data\n",
    "\n",
    "To continue the downloading process, switch to the terminal to download all the GEDI granules\n",
    "\n",
    "---\n",
    "\n",
    "#### Next steps according to the tutorial:\n",
    "\n",
    "We recommend using utilities such as cURL or wget to download the files. You will first need to set up NASA Earthdata Login authentication using .netrc file. Please refer to this page for details on setting up such authentication: https://wiki.earthdata.nasa.gov/display/EL/How+To+Access+Data+With+cURL+And+Wget.\n",
    "\n",
    "Once the authentication has been setup (Steps 1-3 on the above page), the GEDI L4a files can be downloaded as follows.\n",
    "\n",
    "Either of the following commands can then be issued from the terminal to download the files.\n",
    "\n",
    "#### wget\n",
    "\n",
    "    wget --load-cookies ~/.urs_cookies --save-cookies ~/.urs_cookies --auth-no-challenge=on --keep-session-cookies --content-disposition -nc -i granules.txt\n",
    "\n",
    "#### curl\n",
    "\n",
    "    cat granules.txt | tr -d '\\r' | xargs -n 1 curl -LJO -n -c ~/.urs_cookies -b ~/.urs_cookies\n",
    "\n",
    "\n",
    "Be aware: \"granules.txt\" file should refer to the correct path\n",
    "\n",
    "---"
   ]
  },
  {
   "cell_type": "code",
   "execution_count": null,
   "id": "2b33a1f0",
   "metadata": {},
   "outputs": [],
   "source": []
  },
  {
   "cell_type": "markdown",
   "id": "bf51729a",
   "metadata": {},
   "source": [
    "### After downloading the GEDI data...\n",
    "\n",
    "Now that the GEDI data has been downloaded as .h5 files, some last processing steps should be done\n",
    "\n",
    "We will now loop over each of these files and create a clipped version of the files into a new directory."
   ]
  },
  {
   "cell_type": "code",
   "execution_count": null,
   "id": "5d91b432",
   "metadata": {},
   "outputs": [],
   "source": [
    "from glob import glob\n",
    "from os import path\n",
    "import h5py\n",
    "import numpy as np\n",
    "\n",
    "indir = '../../../data/processed/subsets/extentNew/'\n",
    "outdir = '../../../data/processed/subsets/extentNew/after/'\n",
    "\n",
    "# converting to WGS84 coordinate system\n",
    "#grsm_epsg4326 = gdf.to_crs(epsg=4326)\n",
    "grsm_epsg4326 = gdf.set_crs(epsg=4326)\n",
    "\n",
    "for infile in glob(path.join(indir, 'GEDI04_A*.h5')):\n",
    "    name, ext = path.splitext(path.basename(infile))\n",
    "    subfilename = \"{name}_sub{ext}\".format(name=name, ext=ext)\n",
    "    outfile = path.join(outdir, path.basename(subfilename))\n",
    "    hf_in = h5py.File(infile, 'r')\n",
    "    hf_out = h5py.File(outfile, 'w')\n",
    "    \n",
    "    # copy ANCILLARY and METADATA groups\n",
    "    var1 = [\"/ANCILLARY\", \"/METADATA\"]\n",
    "    for v in var1:\n",
    "        hf_in.copy(hf_in[v],hf_out)\n",
    "    \n",
    "    # loop through BEAMXXXX groups\n",
    "    for v in list(hf_in.keys()):\n",
    "        if v.startswith('BEAM'):\n",
    "            beam = hf_in[v]\n",
    "            # find the shots that overlays the area of interest (GRSM)\n",
    "            lat = beam['lat_lowestmode'][:]\n",
    "            lon = beam['lon_lowestmode'][:]\n",
    "            i = np.arange(0, len(lat), 1) # index\n",
    "            geo_arr = list(zip(lat,lon, i))\n",
    "            l4adf = pd.DataFrame(geo_arr, columns=[\"lat_lowestmode\", \"lon_lowestmode\", \"i\"])\n",
    "            l4agdf = gpd.GeoDataFrame(l4adf, geometry=gpd.points_from_xy(l4adf.lon_lowestmode, l4adf.lat_lowestmode))\n",
    "            l4agdf.crs = \"EPSG:4326\"\n",
    "            l4agdf_gsrm = l4agdf[l4agdf['geometry'].within(grsm_epsg4326.geometry[0])]  \n",
    "            indices = l4agdf_gsrm.i\n",
    "\n",
    "            # copy BEAMS to the output file\n",
    "            for key, value in beam.items():\n",
    "                if isinstance(value, h5py.Group):\n",
    "                    for key2, value2 in value.items():\n",
    "                        group_path = value2.parent.name\n",
    "                        group_id = hf_out.require_group(group_path)\n",
    "                        dataset_path = group_path + '/' + key2\n",
    "                        hf_out.create_dataset(dataset_path, data=value2[:][indices])\n",
    "                        for attr in value2.attrs.keys():\n",
    "                            hf_out[dataset_path].attrs[attr] = value2.attrs[attr]\n",
    "                else:\n",
    "                    group_path = value.parent.name\n",
    "                    group_id = hf_out.require_group(group_path)\n",
    "                    dataset_path = group_path + '/' + key\n",
    "                    hf_out.create_dataset(dataset_path, data=value[:][indices])\n",
    "                    for attr in value.attrs.keys():\n",
    "                        hf_out[dataset_path].attrs[attr] = value.attrs[attr]\n",
    "\n",
    "    hf_in.close()\n",
    "    hf_out.close()"
   ]
  },
  {
   "cell_type": "code",
   "execution_count": null,
   "id": "f9b026b8",
   "metadata": {},
   "outputs": [],
   "source": []
  },
  {
   "cell_type": "code",
   "execution_count": null,
   "id": "3fb21572",
   "metadata": {},
   "outputs": [],
   "source": [
    "lat_l = []\n",
    "lon_l = []\n",
    "agbd = []\n",
    "outdir = '../../../data/processed/subsets/extentNew/after/'\n",
    "for subfile in glob(path.join(outdir, 'GEDI04_A*.h5')):\n",
    "    hf_in = h5py.File(subfile, 'r')\n",
    "    for v in list(hf_in.keys()):\n",
    "        if v.startswith('BEAM'):\n",
    "            beam = hf_in[v]\n",
    "            lat_l.extend(beam['lat_lowestmode'][:].tolist()) \n",
    "            lon_l.extend(beam['lon_lowestmode'][:].tolist()) \n",
    "            agbd.extend(beam['agbd'][:].tolist())\n",
    "    hf_in.close()\n",
    "geo_arr = list(zip(agbd,lat_l,lon_l))\n",
    "df = pd.DataFrame(geo_arr, columns=[\"agbd\", \"lat_lowestmode\", \"lon_lowestmode\"])\n",
    "gdf = gpd.GeoDataFrame(df, geometry=gpd.points_from_xy(df.lon_lowestmode, df.lat_lowestmode))\n",
    "gdf"
   ]
  },
  {
   "cell_type": "code",
   "execution_count": 21,
   "id": "bfa6cfbc",
   "metadata": {},
   "outputs": [
    {
     "data": {
      "text/plain": [
       "<AxesSubplot:>"
      ]
     },
     "execution_count": 21,
     "metadata": {},
     "output_type": "execute_result"
    },
    {
     "data": {
      "image/png": "[encoded data removed]",
      "text/plain": [
       "<Figure size 432x288 with 1 Axes>"
      ]
     },
     "metadata": {
      "needs_background": "light"
     },
     "output_type": "display_data"
    }
   ],
   "source": [
    "gdf.plot()"
   ]
  },
  {
   "cell_type": "code",
   "execution_count": null,
   "id": "8202b582",
   "metadata": {},
   "outputs": [],
   "source": []
  },
  {
   "cell_type": "code",
   "execution_count": null,
   "id": "94aaa671",
   "metadata": {},
   "outputs": [],
   "source": []
  },
  {
   "cell_type": "markdown",
   "id": "4aa900aa",
   "metadata": {},
   "source": [
    "### Create subset of GEDI data based on time periods\n",
    "\n",
    "Some GEDI files only contain -9999 samples, and thus are useless.\n",
    "\n",
    "Therefore here carefully determine from which period GEDI data should be used"
   ]
  },
  {
   "cell_type": "code",
   "execution_count": 37,
   "id": "458f5fb2",
   "metadata": {},
   "outputs": [
    {
     "data": {
      "text/plain": [
       "'../../../data/processed/subsets/extentNew/after/'"
      ]
     },
     "execution_count": 37,
     "metadata": {},
     "output_type": "execute_result"
    }
   ],
   "source": [
    "outdir"
   ]
  },
  {
   "cell_type": "code",
   "execution_count": 41,
   "id": "9825944d",
   "metadata": {},
   "outputs": [
    {
     "data": {
      "text/plain": [
       "['../../../data/processed/subsets/extentNew/after\\\\GEDI04_A_2020275085922_O10216_01_T11118_02_002_02_V002_sub.h5',\n",
       " '../../../data/processed/subsets/extentNew/after\\\\GEDI04_A_2020283055351_O10338_01_T09389_02_002_02_V002_sub.h5',\n",
       " '../../../data/processed/subsets/extentNew/after\\\\GEDI04_A_2020291024541_O10460_01_T08272_02_002_02_V002_sub.h5',\n",
       " '../../../data/processed/subsets/extentNew/after\\\\GEDI04_A_2020295011133_O10521_01_T09695_02_002_02_V002_sub.h5',\n",
       " '../../../data/processed/subsets/extentNew/after\\\\GEDI04_A_2020298233723_O10582_01_T07002_02_002_02_V002_sub.h5',\n",
       " '../../../data/processed/subsets/extentNew/after\\\\GEDI04_A_2020302220309_O10643_01_T05732_02_002_02_V002_sub.h5',\n",
       " '../../../data/processed/subsets/extentNew/after\\\\GEDI04_A_2020306080550_O10696_04_T10452_02_002_02_V002_sub.h5',\n",
       " '../../../data/processed/subsets/extentNew/after\\\\GEDI04_A_2020310063128_O10757_04_T09182_02_002_02_V002_sub.h5',\n",
       " '../../../data/processed/subsets/extentNew/after\\\\GEDI04_A_2020314045702_O10818_04_T06489_02_002_02_V002_sub.h5',\n",
       " '../../../data/processed/subsets/extentNew/after\\\\GEDI04_A_2020326001628_O11001_04_T10911_02_002_02_V002_sub.h5',\n",
       " '../../../data/processed/subsets/extentNew/after\\\\GEDI04_A_2020329224322_O11062_04_T09335_02_002_02_V002_sub.h5',\n",
       " '../../../data/processed/subsets/extentNew/after\\\\GEDI04_A_2020333211005_O11123_04_T07912_02_002_02_V002_sub.h5',\n",
       " '../../../data/processed/subsets/extentNew/after\\\\GEDI04_A_2020337193638_O11184_04_T10758_02_002_02_V002_sub.h5',\n",
       " '../../../data/processed/subsets/extentNew/after\\\\GEDI04_A_2021054105512_O12465_04_T10911_02_002_02_V002_sub.h5',\n",
       " '../../../data/processed/subsets/extentNew/after\\\\GEDI04_A_2021058092210_O12526_04_T06489_02_002_02_V002_sub.h5',\n",
       " '../../../data/processed/subsets/extentNew/after\\\\GEDI04_A_2021062074908_O12587_04_T07912_02_002_02_V002_sub.h5',\n",
       " '../../../data/processed/subsets/extentNew/after\\\\GEDI04_A_2021066061558_O12648_04_T10758_02_002_02_V002_sub.h5',\n",
       " '../../../data/processed/subsets/extentNew/after\\\\GEDI04_A_2021070044250_O12709_04_T09182_02_002_02_V002_sub.h5',\n",
       " '../../../data/processed/subsets/extentNew/after\\\\GEDI04_A_2021074031000_O12770_04_T07759_02_002_02_V002_sub.h5',\n",
       " '../../../data/processed/subsets/extentNew/after\\\\GEDI04_A_2021078013719_O12831_04_T06183_02_002_02_V002_sub.h5',\n",
       " '../../../data/processed/subsets/extentNew/after\\\\GEDI04_A_2021082122755_O12900_01_T09848_02_002_02_V002_sub.h5',\n",
       " '../../../data/processed/subsets/extentNew/after\\\\GEDI04_A_2021086105506_O12961_01_T08425_02_002_02_V002_sub.h5',\n",
       " '../../../data/processed/subsets/extentNew/after\\\\GEDI04_A_2021090092215_O13022_01_T06849_02_002_02_V002_sub.h5',\n",
       " '../../../data/processed/subsets/extentNew/after\\\\GEDI04_A_2021094074935_O13083_01_T09542_02_002_02_V002_sub.h5',\n",
       " '../../../data/processed/subsets/extentNew/after\\\\GEDI04_A_2021098061706_O13144_01_T06696_02_002_02_V002_sub.h5',\n",
       " '../../../data/processed/subsets/extentNew/after\\\\GEDI04_A_2021102044433_O13205_01_T06543_02_002_02_V002_sub.h5',\n",
       " '../../../data/processed/subsets/extentNew/after\\\\GEDI04_A_2021106031200_O13266_01_T10812_02_002_02_V002_sub.h5',\n",
       " '../../../data/processed/subsets/extentNew/after\\\\GEDI04_A_2021197023052_O14676_04_T09335_02_002_02_V002_sub.h5',\n",
       " '../../../data/processed/subsets/extentNew/after\\\\GEDI04_A_2021201005833_O14737_04_T06336_02_002_02_V002_sub.h5',\n",
       " '../../../data/processed/subsets/extentNew/after\\\\GEDI04_A_2021208215339_O14859_04_T10452_02_002_02_V002_sub.h5',\n",
       " '../../../data/processed/subsets/extentNew/after\\\\GEDI04_A_2021209101659_O14867_01_T07155_02_002_02_V002_sub.h5',\n",
       " '../../../data/processed/subsets/extentNew/after\\\\GEDI04_A_2021213084430_O14928_01_T08425_02_002_02_V002_sub.h5',\n",
       " '../../../data/processed/subsets/extentNew/after\\\\GEDI04_A_2021217071200_O14989_01_T06849_02_002_02_V002_sub.h5',\n",
       " '../../../data/processed/subsets/extentNew/after\\\\GEDI04_A_2021221053928_O15050_01_T09542_02_002_02_V002_sub.h5',\n",
       " '../../../data/processed/subsets/extentNew/after\\\\GEDI04_A_2021225040653_O15111_01_T07966_02_002_02_V002_sub.h5',\n",
       " '../../../data/processed/subsets/extentNew/after\\\\GEDI04_A_2021229023416_O15172_01_T09236_02_002_02_V002_sub.h5',\n",
       " '../../../data/processed/subsets/extentNew/after\\\\GEDI04_A_2021261011319_O15667_04_T08065_02_002_02_V002_sub.h5',\n",
       " '../../../data/processed/subsets/extentNew/after\\\\GEDI04_A_2021264234230_O15728_04_T10605_02_002_02_V002_sub.h5',\n",
       " '../../../data/processed/subsets/extentNew/after\\\\GEDI04_A_2021269103425_O15797_01_T07002_02_002_02_V002_sub.h5',\n",
       " '../../../data/processed/subsets/extentNew/after\\\\GEDI04_A_2021277072918_O15919_01_T02580_02_002_02_V002_sub.h5',\n",
       " '../../../data/processed/subsets/extentNew/after\\\\GEDI04_A_2021281055631_O15980_01_T08119_02_002_02_V002_sub.h5',\n",
       " '../../../data/processed/subsets/extentNew/after\\\\GEDI04_A_2021285042340_O16041_01_T09389_02_002_02_V002_sub.h5',\n",
       " '../../../data/processed/subsets/extentNew/after\\\\GEDI04_A_2021336191740_O16841_04_T07912_02_002_02_V002_sub.h5',\n",
       " '../../../data/processed/subsets/extentNew/after\\\\GEDI04_A_2021340174502_O16902_04_T07606_02_002_02_V002_sub.h5',\n",
       " '../../../data/processed/subsets/extentNew/after\\\\GEDI04_A_2021341060817_O16910_01_T08578_02_002_02_V002_sub.h5',\n",
       " '../../../data/processed/subsets/extentNew/after\\\\GEDI04_A_2021344161215_O16963_04_T08876_02_002_02_V002_sub.h5',\n",
       " '../../../data/processed/subsets/extentNew/after\\\\GEDI04_A_2021345043529_O16971_01_T05732_02_002_02_V002_sub.h5',\n",
       " '../../../data/processed/subsets/extentNew/after\\\\GEDI04_A_2021349030239_O17032_01_T10001_02_002_02_V002_sub.h5',\n",
       " '../../../data/processed/subsets/extentNew/after\\\\GEDI04_A_2021353012945_O17093_01_T09848_02_002_02_V002_sub.h5',\n",
       " '../../../data/processed/subsets/extentNew/after\\\\GEDI04_A_2021360095850_O17207_04_T09029_02_002_02_V002_sub.h5',\n",
       " '../../../data/processed/subsets/extentNew/after\\\\GEDI04_A_2021364082258_O17268_04_T08065_02_002_02_V002_sub.h5']"
      ]
     },
     "execution_count": 41,
     "metadata": {},
     "output_type": "execute_result"
    }
   ],
   "source": [
    "[*(glob(path.join(outdir, 'GEDI04_A_202*_sub.h5')))]"
   ]
  },
  {
   "cell_type": "code",
   "execution_count": null,
   "id": "78ca5bee",
   "metadata": {},
   "outputs": [],
   "source": [
    "#2020 294 Oktober\n",
    "#2021 015 Januari\n",
    "#2021 023 Januari\n",
    "#2021 027 Januari\n",
    "#2021 089 30 Maart\n",
    "#2021 093 3 April\n",
    "\n",
    "# looks like there are only 7 gedi samples in these h5 files...\n",
    "\n",
    "# better to use the whole time period... but super strange that GEDI has a super poor revisit time."
   ]
  },
  {
   "cell_type": "markdown",
   "id": "b9941114",
   "metadata": {},
   "source": [
    "Apparantly for the Tanzania case, there are limited GEDI samples available in my desired time period.\n",
    "\n",
    "Therefore all GEDI data from October 2020 until end of 2021 was used\n",
    "\n",
    "---\n",
    "\n",
    "Now below: Add GEDI data to pandas dataframe"
   ]
  },
  {
   "cell_type": "code",
   "execution_count": null,
   "id": "b97ba792",
   "metadata": {
    "scrolled": false
   },
   "outputs": [],
   "source": [
    "from glob import glob\n",
    "from os import path\n",
    "import pandas as pd\n",
    "import h5py\n",
    "\n",
    "outdir = '../../data/processed/subsets/extentNew/after/'\n",
    "subset_df = pd.DataFrame()\n",
    "\n",
    "i=0\n",
    "# for subfile in glob(path.join(outdir, 'GEDI04_A_20202*_sub.h5')):\n",
    "for subfile in glob(path.join(outdir, 'GEDI04_A*_sub.h5')):\n",
    "# for subfile in [*(glob(path.join(outdir, 'GEDI04_A_2020294*_sub.h5'))), *(glob(path.join(outdir, 'GEDI04_A_20210*_sub.h5')))]:\n",
    "    \n",
    "    print(subfile)\n",
    "    \n",
    "    \n",
    "    hf_in = h5py.File(subfile, 'r')\n",
    "    for v in list(hf_in.keys()):\n",
    "        if v.startswith('BEAM'):\n",
    "            col_names = []\n",
    "            col_val = []\n",
    "            beam = hf_in[v]\n",
    "            # copy BEAMS \n",
    "            for key, value in beam.items():\n",
    "                # looping through subgroups\n",
    "                if isinstance(value, h5py.Group):\n",
    "                    for key2, value2 in value.items():\n",
    "                        if (key2 != \"shot_number\"):\n",
    "                             # xvar variables have 2D\n",
    "                            if (key2.startswith('xvar')):\n",
    "                                for r in range(4):\n",
    "                                    col_names.append(key2 + '_' + str(r+1))\n",
    "                                    col_val.append(value2[:, r].tolist())\n",
    "                            else:\n",
    "                                col_names.append(key2)\n",
    "                                col_val.append(value2[:].tolist())\n",
    "                \n",
    "                #looping through base group\n",
    "                else:\n",
    "                    # xvar variables have 2D\n",
    "                    if (key.startswith('xvar')):\n",
    "                        for r in range(4):\n",
    "                            col_names.append(key + '_' + str(r+1))\n",
    "                            col_val.append(value[:, r].tolist())\n",
    "                    else:\n",
    "                        col_names.append(key)\n",
    "                        col_val.append(value[:].tolist())\n",
    "            \n",
    "            # create a pandas dataframe        \n",
    "            beam_df = pd.DataFrame(map(list, zip(*col_val)), columns=col_names) \n",
    "            # Inserting BEAM names\n",
    "            beam_df.insert(0, 'BEAM', np.repeat(str(v), len(beam_df.index)).tolist())\n",
    "            # Appending to the subset_df dataframe\n",
    "            subset_df = subset_df.append(beam_df)\n",
    "    hf_in.close()"
   ]
  },
  {
   "cell_type": "code",
   "execution_count": null,
   "id": "11a4da28",
   "metadata": {
    "scrolled": false
   },
   "outputs": [],
   "source": [
    "# Setting 'shot_number' as dataframe index. shot_number column is unique\n",
    "#subset_df = subset_df.set_index('shot_number')\n",
    "subset_df"
   ]
  },
  {
   "cell_type": "code",
   "execution_count": null,
   "id": "8763f302",
   "metadata": {},
   "outputs": [],
   "source": []
  },
  {
   "cell_type": "markdown",
   "id": "83215517",
   "metadata": {},
   "source": [
    "# Export GEDI data\n",
    "\n",
    "Can be stored in csv, geojson, or any other prefered output..."
   ]
  },
  {
   "cell_type": "code",
   "execution_count": null,
   "id": "3c92dba4",
   "metadata": {},
   "outputs": [],
   "source": [
    "subset_df.columns.tolist()"
   ]
  },
  {
   "cell_type": "code",
   "execution_count": null,
   "id": "ac98e3f3",
   "metadata": {},
   "outputs": [],
   "source": [
    "subset_df = subset_df[[\"agbd\",\"agbd_pi_lower\",\"agbd_pi_upper\",\"agbd_se\",\"lon_lowestmode\",\"lat_lowestmode\"]]"
   ]
  },
  {
   "cell_type": "code",
   "execution_count": null,
   "id": "6a6b53a2",
   "metadata": {},
   "outputs": [],
   "source": [
    "subset_df = subset_df[subset_df.agbd >= 0]\n",
    "subset_df"
   ]
  },
  {
   "cell_type": "code",
   "execution_count": null,
   "id": "dea10476",
   "metadata": {},
   "outputs": [],
   "source": [
    "subset_gdf = gpd.GeoDataFrame(subset_df, geometry=gpd.points_from_xy(subset_df.lon_lowestmode, subset_df.lat_lowestmode))\n",
    "subset_gdf.crs = \"EPSG:4326\"\n",
    "\n",
    "# convert object types columns to strings. object types are not supported\n",
    "for c in subset_gdf.columns:\n",
    "    if subset_gdf[c].dtype == 'object':\n",
    "        subset_gdf[c] = subset_gdf[c].astype(str)\n",
    "\n",
    "# Export to GeoJSON\n",
    "subset_gdf.to_file('../../data/processed/subsets/extentNew/grsm.geojson', driver='GeoJSON')"
   ]
  },
  {
   "cell_type": "code",
   "execution_count": null,
   "id": "97f6431d",
   "metadata": {},
   "outputs": [],
   "source": []
  }
 ],
 "metadata": {
  "kernelspec": {
   "display_name": "Python 3",
   "language": "python",
   "name": "python3"
  },
  "language_info": {
   "codemirror_mode": {
    "name": "ipython",
    "version": 3
   },
   "file_extension": ".py",
   "mimetype": "text/x-python",
   "name": "python",
   "nbconvert_exporter": "python",
   "pygments_lexer": "ipython3",
   "version": "3.8.8"
  }
 },
 "nbformat": 4,
 "nbformat_minor": 5
}
