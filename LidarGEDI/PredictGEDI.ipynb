{
 "cells": [
  {
   "cell_type": "markdown",
   "id": "80bf8e69",
   "metadata": {},
   "source": [
    "# Lidar - GEDI\n",
    "### AGB prediction script\n",
    "\n",
    "-----\n",
    "\n",
    ">Rob Burger\n",
    "\n",
    ">Space4Good\n",
    "\n",
    ">Biomass estimation in Tanzania"
   ]
  },
  {
   "cell_type": "code",
   "execution_count": 3,
   "id": "c62b03d3",
   "metadata": {},
   "outputs": [
    {
     "name": "stderr",
     "output_type": "stream",
     "text": [
      "C:\\Users\\robur\\anaconda3\\lib\\site-packages\\scipy\\__init__.py:138: UserWarning: A NumPy version >=1.16.5 and <1.23.0 is required for this version of SciPy (detected version 1.23.3)\n",
      "  warnings.warn(f\"A NumPy version >={np_minversion} and <{np_maxversion} is required for this version of \"\n"
     ]
    }
   ],
   "source": [
    "import fiona\n",
    "import geopandas as gpd\n",
    "import pandas as pd\n",
    "import numpy as np\n",
    "import seaborn as sns\n",
    "from scipy import stats\n",
    "from scipy.special import inv_boxcox\n",
    "from sklearn.utils import resample"
   ]
  },
  {
   "cell_type": "markdown",
   "id": "b0f89d8d",
   "metadata": {},
   "source": [
    "### Read in data\n",
    "\n",
    "Read in Zonal statistics file from ProcessGEDI notebook script"
   ]
  },
  {
   "cell_type": "code",
   "execution_count": 4,
   "id": "6c0f1e6e",
   "metadata": {},
   "outputs": [],
   "source": [
    "# Read in zonal statistics GEOJSON of GEDI buffer points\n",
    "\n",
    "#gdf = gpd.read_file(\"../../data/processed/lidarGEDIZonalstats.geojson\")\n",
    "gdf = gpd.read_file(\"../../../data/processed/lidarGEDIforestZonalStats.geojson\")\n",
    "# gdf = gpd.read_file(\"../../data/processed/lidarGEDIforestZonalStats_2020.geojson\")"
   ]
  },
  {
   "cell_type": "code",
   "execution_count": 7,
   "id": "6ec9f4c6",
   "metadata": {},
   "outputs": [
    {
     "data": {
      "text/plain": [
       "233"
      ]
     },
     "execution_count": 7,
     "metadata": {},
     "output_type": "execute_result"
    }
   ],
   "source": [
    "len(gdf)"
   ]
  },
  {
   "cell_type": "code",
   "execution_count": null,
   "id": "abbdb275",
   "metadata": {},
   "outputs": [],
   "source": [
    "# ---"
   ]
  },
  {
   "cell_type": "code",
   "execution_count": 8,
   "id": "3d203550",
   "metadata": {
    "scrolled": false
   },
   "outputs": [
    {
     "data": {
      "text/html": [
       "<div>\n",
       "<style scoped>\n",
       "    .dataframe tbody tr th:only-of-type {\n",
       "        vertical-align: middle;\n",
       "    }\n",
       "\n",
       "    .dataframe tbody tr th {\n",
       "        vertical-align: top;\n",
       "    }\n",
       "\n",
       "    .dataframe thead th {\n",
       "        text-align: right;\n",
       "    }\n",
       "</style>\n",
       "<table border=\"1\" class=\"dataframe\">\n",
       "  <thead>\n",
       "    <tr style=\"text-align: right;\">\n",
       "      <th></th>\n",
       "      <th>agbd</th>\n",
       "      <th>min</th>\n",
       "      <th>max</th>\n",
       "      <th>mean</th>\n",
       "      <th>std</th>\n",
       "      <th>sum</th>\n",
       "      <th>percentile_10</th>\n",
       "      <th>percentile_20</th>\n",
       "      <th>percentile_30</th>\n",
       "      <th>percentile_40</th>\n",
       "      <th>percentile_50</th>\n",
       "      <th>percentile_60</th>\n",
       "      <th>percentile_70</th>\n",
       "      <th>percentile_75</th>\n",
       "      <th>percentile_80</th>\n",
       "      <th>percentile_85</th>\n",
       "      <th>percentile_90</th>\n",
       "      <th>percentile_95</th>\n",
       "      <th>percentile_98</th>\n",
       "    </tr>\n",
       "  </thead>\n",
       "  <tbody>\n",
       "    <tr>\n",
       "      <th>0</th>\n",
       "      <td>10.794104</td>\n",
       "      <td>-0.000</td>\n",
       "      <td>5.514000</td>\n",
       "      <td>0.670664</td>\n",
       "      <td>1.057991</td>\n",
       "      <td>4524.297852</td>\n",
       "      <td>-0.0000</td>\n",
       "      <td>0.0000</td>\n",
       "      <td>0.0230</td>\n",
       "      <td>0.0630</td>\n",
       "      <td>0.1350</td>\n",
       "      <td>0.2970</td>\n",
       "      <td>0.6610</td>\n",
       "      <td>0.90475</td>\n",
       "      <td>1.1940</td>\n",
       "      <td>1.61800</td>\n",
       "      <td>2.2660</td>\n",
       "      <td>3.12925</td>\n",
       "      <td>4.04910</td>\n",
       "    </tr>\n",
       "    <tr>\n",
       "      <th>1</th>\n",
       "      <td>12.361265</td>\n",
       "      <td>-0.000</td>\n",
       "      <td>6.347000</td>\n",
       "      <td>0.684340</td>\n",
       "      <td>0.990610</td>\n",
       "      <td>6638.783203</td>\n",
       "      <td>0.0000</td>\n",
       "      <td>0.0000</td>\n",
       "      <td>0.0070</td>\n",
       "      <td>0.0530</td>\n",
       "      <td>0.1430</td>\n",
       "      <td>0.3980</td>\n",
       "      <td>0.8060</td>\n",
       "      <td>1.05100</td>\n",
       "      <td>1.4070</td>\n",
       "      <td>1.84100</td>\n",
       "      <td>2.2810</td>\n",
       "      <td>2.72300</td>\n",
       "      <td>3.32700</td>\n",
       "    </tr>\n",
       "    <tr>\n",
       "      <th>2</th>\n",
       "      <td>13.198904</td>\n",
       "      <td>-0.000</td>\n",
       "      <td>6.130000</td>\n",
       "      <td>0.510063</td>\n",
       "      <td>0.993402</td>\n",
       "      <td>4948.119141</td>\n",
       "      <td>0.0000</td>\n",
       "      <td>0.0000</td>\n",
       "      <td>0.0000</td>\n",
       "      <td>0.0000</td>\n",
       "      <td>0.0000</td>\n",
       "      <td>0.0000</td>\n",
       "      <td>0.1010</td>\n",
       "      <td>0.46400</td>\n",
       "      <td>0.9500</td>\n",
       "      <td>1.51800</td>\n",
       "      <td>2.1800</td>\n",
       "      <td>2.97000</td>\n",
       "      <td>3.59700</td>\n",
       "    </tr>\n",
       "    <tr>\n",
       "      <th>3</th>\n",
       "      <td>14.833140</td>\n",
       "      <td>-0.002</td>\n",
       "      <td>5.537000</td>\n",
       "      <td>0.340241</td>\n",
       "      <td>0.908846</td>\n",
       "      <td>3267.672852</td>\n",
       "      <td>0.0000</td>\n",
       "      <td>-0.0000</td>\n",
       "      <td>-0.0000</td>\n",
       "      <td>0.0000</td>\n",
       "      <td>-0.0000</td>\n",
       "      <td>-0.0000</td>\n",
       "      <td>0.0000</td>\n",
       "      <td>0.00000</td>\n",
       "      <td>0.0290</td>\n",
       "      <td>0.43310</td>\n",
       "      <td>1.4637</td>\n",
       "      <td>2.83070</td>\n",
       "      <td>3.64482</td>\n",
       "    </tr>\n",
       "    <tr>\n",
       "      <th>4</th>\n",
       "      <td>13.405437</td>\n",
       "      <td>-0.000</td>\n",
       "      <td>7.229000</td>\n",
       "      <td>0.740263</td>\n",
       "      <td>1.336044</td>\n",
       "      <td>3943.380127</td>\n",
       "      <td>-0.0000</td>\n",
       "      <td>0.0000</td>\n",
       "      <td>-0.0000</td>\n",
       "      <td>0.0000</td>\n",
       "      <td>0.0000</td>\n",
       "      <td>0.0380</td>\n",
       "      <td>0.4452</td>\n",
       "      <td>0.95050</td>\n",
       "      <td>1.5122</td>\n",
       "      <td>2.25620</td>\n",
       "      <td>2.9920</td>\n",
       "      <td>3.71110</td>\n",
       "      <td>4.67928</td>\n",
       "    </tr>\n",
       "    <tr>\n",
       "      <th>...</th>\n",
       "      <td>...</td>\n",
       "      <td>...</td>\n",
       "      <td>...</td>\n",
       "      <td>...</td>\n",
       "      <td>...</td>\n",
       "      <td>...</td>\n",
       "      <td>...</td>\n",
       "      <td>...</td>\n",
       "      <td>...</td>\n",
       "      <td>...</td>\n",
       "      <td>...</td>\n",
       "      <td>...</td>\n",
       "      <td>...</td>\n",
       "      <td>...</td>\n",
       "      <td>...</td>\n",
       "      <td>...</td>\n",
       "      <td>...</td>\n",
       "      <td>...</td>\n",
       "      <td>...</td>\n",
       "    </tr>\n",
       "    <tr>\n",
       "      <th>228</th>\n",
       "      <td>32.620262</td>\n",
       "      <td>-0.000</td>\n",
       "      <td>17.875999</td>\n",
       "      <td>4.181367</td>\n",
       "      <td>4.611092</td>\n",
       "      <td>35687.964844</td>\n",
       "      <td>0.0000</td>\n",
       "      <td>0.0090</td>\n",
       "      <td>0.5312</td>\n",
       "      <td>1.5816</td>\n",
       "      <td>2.3840</td>\n",
       "      <td>3.2478</td>\n",
       "      <td>5.4756</td>\n",
       "      <td>7.57600</td>\n",
       "      <td>8.9984</td>\n",
       "      <td>10.38100</td>\n",
       "      <td>11.8406</td>\n",
       "      <td>13.48560</td>\n",
       "      <td>14.91116</td>\n",
       "    </tr>\n",
       "    <tr>\n",
       "      <th>229</th>\n",
       "      <td>11.370763</td>\n",
       "      <td>-0.001</td>\n",
       "      <td>15.346000</td>\n",
       "      <td>3.026822</td>\n",
       "      <td>2.774334</td>\n",
       "      <td>24692.812500</td>\n",
       "      <td>-0.0000</td>\n",
       "      <td>0.1368</td>\n",
       "      <td>1.1221</td>\n",
       "      <td>2.3370</td>\n",
       "      <td>2.9300</td>\n",
       "      <td>3.3490</td>\n",
       "      <td>3.7830</td>\n",
       "      <td>4.08350</td>\n",
       "      <td>4.5066</td>\n",
       "      <td>5.21145</td>\n",
       "      <td>6.2400</td>\n",
       "      <td>8.55815</td>\n",
       "      <td>10.96982</td>\n",
       "    </tr>\n",
       "    <tr>\n",
       "      <th>230</th>\n",
       "      <td>38.202065</td>\n",
       "      <td>-0.005</td>\n",
       "      <td>15.555000</td>\n",
       "      <td>2.777313</td>\n",
       "      <td>3.827847</td>\n",
       "      <td>21807.462891</td>\n",
       "      <td>0.0000</td>\n",
       "      <td>0.0000</td>\n",
       "      <td>0.0000</td>\n",
       "      <td>0.1804</td>\n",
       "      <td>1.1695</td>\n",
       "      <td>2.4156</td>\n",
       "      <td>3.1860</td>\n",
       "      <td>3.62100</td>\n",
       "      <td>4.4720</td>\n",
       "      <td>6.70740</td>\n",
       "      <td>8.7814</td>\n",
       "      <td>12.29905</td>\n",
       "      <td>14.34276</td>\n",
       "    </tr>\n",
       "    <tr>\n",
       "      <th>231</th>\n",
       "      <td>26.546700</td>\n",
       "      <td>-0.000</td>\n",
       "      <td>12.285000</td>\n",
       "      <td>2.280301</td>\n",
       "      <td>2.580155</td>\n",
       "      <td>14438.863281</td>\n",
       "      <td>0.0000</td>\n",
       "      <td>0.0000</td>\n",
       "      <td>0.0000</td>\n",
       "      <td>0.0054</td>\n",
       "      <td>1.0100</td>\n",
       "      <td>3.0866</td>\n",
       "      <td>3.9410</td>\n",
       "      <td>4.30450</td>\n",
       "      <td>4.7238</td>\n",
       "      <td>5.25235</td>\n",
       "      <td>5.7205</td>\n",
       "      <td>6.62845</td>\n",
       "      <td>8.53590</td>\n",
       "    </tr>\n",
       "    <tr>\n",
       "      <th>232</th>\n",
       "      <td>108.583488</td>\n",
       "      <td>1.604</td>\n",
       "      <td>11.301000</td>\n",
       "      <td>5.833903</td>\n",
       "      <td>2.927390</td>\n",
       "      <td>361.701996</td>\n",
       "      <td>3.3701</td>\n",
       "      <td>3.7496</td>\n",
       "      <td>3.8331</td>\n",
       "      <td>3.9698</td>\n",
       "      <td>4.2030</td>\n",
       "      <td>5.2384</td>\n",
       "      <td>7.1951</td>\n",
       "      <td>8.50950</td>\n",
       "      <td>9.7344</td>\n",
       "      <td>10.35120</td>\n",
       "      <td>10.6930</td>\n",
       "      <td>11.02225</td>\n",
       "      <td>11.15256</td>\n",
       "    </tr>\n",
       "  </tbody>\n",
       "</table>\n",
       "<p>233 rows × 19 columns</p>\n",
       "</div>"
      ],
      "text/plain": [
       "           agbd    min        max      mean       std           sum  \\\n",
       "0     10.794104 -0.000   5.514000  0.670664  1.057991   4524.297852   \n",
       "1     12.361265 -0.000   6.347000  0.684340  0.990610   6638.783203   \n",
       "2     13.198904 -0.000   6.130000  0.510063  0.993402   4948.119141   \n",
       "3     14.833140 -0.002   5.537000  0.340241  0.908846   3267.672852   \n",
       "4     13.405437 -0.000   7.229000  0.740263  1.336044   3943.380127   \n",
       "..          ...    ...        ...       ...       ...           ...   \n",
       "228   32.620262 -0.000  17.875999  4.181367  4.611092  35687.964844   \n",
       "229   11.370763 -0.001  15.346000  3.026822  2.774334  24692.812500   \n",
       "230   38.202065 -0.005  15.555000  2.777313  3.827847  21807.462891   \n",
       "231   26.546700 -0.000  12.285000  2.280301  2.580155  14438.863281   \n",
       "232  108.583488  1.604  11.301000  5.833903  2.927390    361.701996   \n",
       "\n",
       "     percentile_10  percentile_20  percentile_30  percentile_40  \\\n",
       "0          -0.0000         0.0000         0.0230         0.0630   \n",
       "1           0.0000         0.0000         0.0070         0.0530   \n",
       "2           0.0000         0.0000         0.0000         0.0000   \n",
       "3           0.0000        -0.0000        -0.0000         0.0000   \n",
       "4          -0.0000         0.0000        -0.0000         0.0000   \n",
       "..             ...            ...            ...            ...   \n",
       "228         0.0000         0.0090         0.5312         1.5816   \n",
       "229        -0.0000         0.1368         1.1221         2.3370   \n",
       "230         0.0000         0.0000         0.0000         0.1804   \n",
       "231         0.0000         0.0000         0.0000         0.0054   \n",
       "232         3.3701         3.7496         3.8331         3.9698   \n",
       "\n",
       "     percentile_50  percentile_60  percentile_70  percentile_75  \\\n",
       "0           0.1350         0.2970         0.6610        0.90475   \n",
       "1           0.1430         0.3980         0.8060        1.05100   \n",
       "2           0.0000         0.0000         0.1010        0.46400   \n",
       "3          -0.0000        -0.0000         0.0000        0.00000   \n",
       "4           0.0000         0.0380         0.4452        0.95050   \n",
       "..             ...            ...            ...            ...   \n",
       "228         2.3840         3.2478         5.4756        7.57600   \n",
       "229         2.9300         3.3490         3.7830        4.08350   \n",
       "230         1.1695         2.4156         3.1860        3.62100   \n",
       "231         1.0100         3.0866         3.9410        4.30450   \n",
       "232         4.2030         5.2384         7.1951        8.50950   \n",
       "\n",
       "     percentile_80  percentile_85  percentile_90  percentile_95  percentile_98  \n",
       "0           1.1940        1.61800         2.2660        3.12925        4.04910  \n",
       "1           1.4070        1.84100         2.2810        2.72300        3.32700  \n",
       "2           0.9500        1.51800         2.1800        2.97000        3.59700  \n",
       "3           0.0290        0.43310         1.4637        2.83070        3.64482  \n",
       "4           1.5122        2.25620         2.9920        3.71110        4.67928  \n",
       "..             ...            ...            ...            ...            ...  \n",
       "228         8.9984       10.38100        11.8406       13.48560       14.91116  \n",
       "229         4.5066        5.21145         6.2400        8.55815       10.96982  \n",
       "230         4.4720        6.70740         8.7814       12.29905       14.34276  \n",
       "231         4.7238        5.25235         5.7205        6.62845        8.53590  \n",
       "232         9.7344       10.35120        10.6930       11.02225       11.15256  \n",
       "\n",
       "[233 rows x 19 columns]"
      ]
     },
     "execution_count": 8,
     "metadata": {},
     "output_type": "execute_result"
    }
   ],
   "source": [
    "# Statistics to compute (only use the ones that arised after feature selection)\n",
    "\n",
    "features=['min','max','mean','std','sum','percentile_10',\n",
    "       'percentile_20','percentile_30','percentile_40',\n",
    "       'percentile_50','percentile_60','percentile_70',\n",
    "       'percentile_75','percentile_80','percentile_85',\n",
    "       'percentile_90','percentile_95','percentile_98']\n",
    "\n",
    "# features = [\"percentile_98\",\"percentile_90\",\"percentile_80\",\"percentile_60\",\"percentile_30\",\"percentile_10\"]\n",
    "\n",
    "\n",
    "cols = [\"agbd\", *(features)]\n",
    "gdf = gdf[cols]\n",
    "gdf"
   ]
  },
  {
   "cell_type": "code",
   "execution_count": null,
   "id": "eca7f861",
   "metadata": {},
   "outputs": [],
   "source": []
  },
  {
   "cell_type": "markdown",
   "id": "b4991ba7",
   "metadata": {},
   "source": [
    "## Data exploration + cleaning\n",
    "\n",
    "Data exploration done by checking the correlations, scatterplots, and data filtering"
   ]
  },
  {
   "cell_type": "code",
   "execution_count": 9,
   "id": "e80d973f",
   "metadata": {
    "scrolled": false
   },
   "outputs": [
    {
     "data": {
      "text/plain": [
       "agbd             1.000000\n",
       "min              0.257542\n",
       "max              0.325708\n",
       "mean             0.562001\n",
       "std              0.462415\n",
       "sum              0.504537\n",
       "percentile_10    0.393018\n",
       "percentile_20    0.447467\n",
       "percentile_30    0.464515\n",
       "percentile_40    0.463623\n",
       "percentile_50    0.480634\n",
       "percentile_60    0.519563\n",
       "percentile_70    0.556918\n",
       "percentile_75    0.566592\n",
       "percentile_80    0.574582\n",
       "percentile_85    0.555721\n",
       "percentile_90    0.516776\n",
       "percentile_95    0.462540\n",
       "percentile_98    0.387430\n",
       "Name: agbd, dtype: float64"
      ]
     },
     "execution_count": 9,
     "metadata": {},
     "output_type": "execute_result"
    }
   ],
   "source": [
    "gdf.corr()['agbd'][:]"
   ]
  },
  {
   "cell_type": "code",
   "execution_count": 10,
   "id": "6e160d8d",
   "metadata": {
    "scrolled": true
   },
   "outputs": [
    {
     "data": {
      "text/plain": [
       "<seaborn.axisgrid.PairGrid at 0x203a167ab80>"
      ]
     },
     "execution_count": 10,
     "metadata": {},
     "output_type": "execute_result"
    },
    {
     "data": {
      "image/png": "[encoded data removed]",
      "text/plain": [
       "<Figure size 3420x180 with 20 Axes>"
      ]
     },
     "metadata": {
      "needs_background": "light"
     },
     "output_type": "display_data"
    }
   ],
   "source": [
    "sns.pairplot(gdf, y_vars=\"agbd\", x_vars=gdf.columns.values)"
   ]
  },
  {
   "cell_type": "code",
   "execution_count": 12,
   "id": "20a4282e",
   "metadata": {
    "scrolled": true
   },
   "outputs": [
    {
     "data": {
      "text/plain": [
       "agbd             1.000000\n",
       "min              0.257542\n",
       "max              0.325708\n",
       "mean             0.562001\n",
       "std              0.462415\n",
       "sum              0.504537\n",
       "percentile_10    0.393018\n",
       "percentile_20    0.447467\n",
       "percentile_30    0.464515\n",
       "percentile_40    0.463623\n",
       "percentile_50    0.480634\n",
       "percentile_60    0.519563\n",
       "percentile_70    0.556918\n",
       "percentile_75    0.566592\n",
       "percentile_80    0.574582\n",
       "percentile_85    0.555721\n",
       "percentile_90    0.516776\n",
       "percentile_95    0.462540\n",
       "percentile_98    0.387430\n",
       "Name: agbd, dtype: float64"
      ]
     },
     "execution_count": 12,
     "metadata": {},
     "output_type": "execute_result"
    }
   ],
   "source": [
    "df = gdf[gdf.agbd <= 2000]\n",
    "df.corr()['agbd'][:]"
   ]
  },
  {
   "cell_type": "code",
   "execution_count": 13,
   "id": "8ea80e25",
   "metadata": {},
   "outputs": [],
   "source": [
    "# Remove unnecessary features\n",
    "# Low correlations, and illogical scatterplot\n",
    "\n",
    "df = df.drop(columns=[\"min\", \"max\", \"sum\", \"percentile_10\", \"percentile_20\",\"percentile_30\",\"percentile_40\"], axis=1)"
   ]
  },
  {
   "cell_type": "code",
   "execution_count": null,
   "id": "1ef96f9b",
   "metadata": {},
   "outputs": [],
   "source": []
  },
  {
   "cell_type": "code",
   "execution_count": null,
   "id": "337520ee",
   "metadata": {},
   "outputs": [],
   "source": []
  },
  {
   "cell_type": "code",
   "execution_count": 32,
   "id": "dca2eb88",
   "metadata": {
    "scrolled": false
   },
   "outputs": [
    {
     "data": {
      "text/plain": [
       "<seaborn.axisgrid.PairGrid at 0x24163f46d30>"
      ]
     },
     "execution_count": 32,
     "metadata": {},
     "output_type": "execute_result"
    },
    {
     "data": {
      "image/png": "[encoded data removed]",
      "text/plain": [
       "<Figure size 2160x180 with 13 Axes>"
      ]
     },
     "metadata": {
      "needs_background": "light"
     },
     "output_type": "display_data"
    }
   ],
   "source": [
    "sns.pairplot(df, y_vars=\"agbd\", x_vars=df.columns.values)"
   ]
  },
  {
   "cell_type": "code",
   "execution_count": null,
   "id": "c8365720",
   "metadata": {},
   "outputs": [],
   "source": []
  },
  {
   "cell_type": "code",
   "execution_count": 14,
   "id": "63e9f064",
   "metadata": {},
   "outputs": [
    {
     "data": {
      "text/plain": [
       "agbd             1.000000\n",
       "mean             0.646075\n",
       "std              0.548486\n",
       "percentile_50    0.575256\n",
       "percentile_60    0.620351\n",
       "percentile_70    0.655068\n",
       "percentile_75    0.664453\n",
       "percentile_80    0.673804\n",
       "percentile_85    0.646253\n",
       "percentile_90    0.616527\n",
       "percentile_95    0.562459\n",
       "percentile_98    0.474318\n",
       "Name: agbd, dtype: float64"
      ]
     },
     "execution_count": 14,
     "metadata": {},
     "output_type": "execute_result"
    }
   ],
   "source": [
    "df.corr(\"spearman\")[\"agbd\"][:]"
   ]
  },
  {
   "cell_type": "code",
   "execution_count": 33,
   "id": "24d8673e",
   "metadata": {},
   "outputs": [
    {
     "data": {
      "text/plain": [
       "<AxesSubplot:xlabel='percentile_95', ylabel='agbd'>"
      ]
     },
     "execution_count": 33,
     "metadata": {},
     "output_type": "execute_result"
    },
    {
     "data": {
      "image/png": "[encoded data removed]",
      "text/plain": [
       "<Figure size 432x288 with 1 Axes>"
      ]
     },
     "metadata": {
      "needs_background": "light"
     },
     "output_type": "display_data"
    }
   ],
   "source": [
    "df.plot.scatter(\"percentile_95\",\"agbd\")"
   ]
  },
  {
   "cell_type": "code",
   "execution_count": null,
   "id": "3f126aed",
   "metadata": {},
   "outputs": [],
   "source": []
  },
  {
   "cell_type": "markdown",
   "id": "ffc4b73d",
   "metadata": {},
   "source": [
    "## Data cleaning (outlier removal)\n",
    "\n",
    "Manually removing outliers based on correlations and scatterplots"
   ]
  },
  {
   "cell_type": "code",
   "execution_count": 15,
   "id": "799fcc92",
   "metadata": {},
   "outputs": [
    {
     "data": {
      "text/plain": [
       "agbd             1.000000\n",
       "mean             0.742618\n",
       "std              0.655545\n",
       "percentile_50    0.640405\n",
       "percentile_60    0.691832\n",
       "percentile_70    0.735998\n",
       "percentile_75    0.749967\n",
       "percentile_80    0.767461\n",
       "percentile_85    0.746576\n",
       "percentile_90    0.722340\n",
       "percentile_95    0.673061\n",
       "percentile_98    0.577809\n",
       "Name: agbd, dtype: float64"
      ]
     },
     "execution_count": 15,
     "metadata": {},
     "output_type": "execute_result"
    },
    {
     "data": {
      "image/png": "[encoded data removed]",
      "text/plain": [
       "<Figure size 432x288 with 1 Axes>"
      ]
     },
     "metadata": {
      "needs_background": "light"
     },
     "output_type": "display_data"
    }
   ],
   "source": [
    "# Apply some filters to remove outliers\n",
    "\n",
    "temp = df[~((df[\"agbd\"] > 20) & (df[\"percentile_95\"] < 7))]\n",
    "temp[temp.agbd < 40000].plot.scatter(\"percentile_95\",\"agbd\")\n",
    "temp.corr(\"spearman\")[\"agbd\"][:]\n",
    "\n",
    "# looks like it improves the correlations"
   ]
  },
  {
   "cell_type": "code",
   "execution_count": 16,
   "id": "be6bf937",
   "metadata": {},
   "outputs": [
    {
     "data": {
      "text/plain": [
       "agbd             1.000000\n",
       "mean             0.772882\n",
       "std              0.714966\n",
       "percentile_50    0.648116\n",
       "percentile_60    0.701806\n",
       "percentile_70    0.750615\n",
       "percentile_75    0.768103\n",
       "percentile_80    0.787875\n",
       "percentile_85    0.785919\n",
       "percentile_90    0.771256\n",
       "percentile_95    0.745450\n",
       "percentile_98    0.642797\n",
       "Name: agbd, dtype: float64"
      ]
     },
     "execution_count": 16,
     "metadata": {},
     "output_type": "execute_result"
    },
    {
     "data": {
      "image/png": "[encoded data removed]",
      "text/plain": [
       "<Figure size 432x288 with 1 Axes>"
      ]
     },
     "metadata": {
      "needs_background": "light"
     },
     "output_type": "display_data"
    }
   ],
   "source": [
    "temp = temp[~((temp[\"agbd\"] < 20) & (temp[\"percentile_95\"] > 14))]\n",
    "temp[temp.agbd < 40000].plot.scatter(\"percentile_95\",\"agbd\")\n",
    "temp.corr(\"spearman\")[\"agbd\"][:]\n"
   ]
  },
  {
   "cell_type": "code",
   "execution_count": 17,
   "id": "5a412dec",
   "metadata": {},
   "outputs": [
    {
     "data": {
      "text/plain": [
       "agbd             1.000000\n",
       "mean             0.779925\n",
       "std              0.717258\n",
       "percentile_50    0.660555\n",
       "percentile_60    0.710453\n",
       "percentile_70    0.759895\n",
       "percentile_75    0.777936\n",
       "percentile_80    0.798108\n",
       "percentile_85    0.791873\n",
       "percentile_90    0.772857\n",
       "percentile_95    0.747184\n",
       "percentile_98    0.648541\n",
       "Name: agbd, dtype: float64"
      ]
     },
     "execution_count": 17,
     "metadata": {},
     "output_type": "execute_result"
    },
    {
     "data": {
      "image/png": "[encoded data removed]",
      "text/plain": [
       "<Figure size 432x288 with 1 Axes>"
      ]
     },
     "metadata": {
      "needs_background": "light"
     },
     "output_type": "display_data"
    }
   ],
   "source": [
    "temp = temp[~((temp[\"agbd\"] > 80) & (temp[\"percentile_95\"] < 15))]\n",
    "temp[temp.agbd < 40000].plot.scatter(\"percentile_95\",\"agbd\")\n",
    "temp.corr(\"spearman\")[\"agbd\"][:]\n"
   ]
  },
  {
   "cell_type": "code",
   "execution_count": null,
   "id": "a1d26a1e",
   "metadata": {},
   "outputs": [],
   "source": []
  },
  {
   "cell_type": "code",
   "execution_count": 18,
   "id": "dca9bd72",
   "metadata": {},
   "outputs": [
    {
     "data": {
      "text/plain": [
       "<AxesSubplot:xlabel='percentile_85', ylabel='agbd'>"
      ]
     },
     "execution_count": 18,
     "metadata": {},
     "output_type": "execute_result"
    },
    {
     "data": {
      "image/png": "[encoded data removed]",
      "text/plain": [
       "<Figure size 432x288 with 1 Axes>"
      ]
     },
     "metadata": {
      "needs_background": "light"
     },
     "output_type": "display_data"
    }
   ],
   "source": [
    "temp[temp.agbd < 50].plot.scatter(\"percentile_85\",\"agbd\")\n"
   ]
  },
  {
   "cell_type": "code",
   "execution_count": 19,
   "id": "297e6649",
   "metadata": {},
   "outputs": [
    {
     "data": {
      "text/plain": [
       "agbd             1.000000\n",
       "mean             0.774563\n",
       "std              0.710386\n",
       "percentile_50    0.647572\n",
       "percentile_60    0.700968\n",
       "percentile_70    0.753887\n",
       "percentile_75    0.773552\n",
       "percentile_80    0.795071\n",
       "percentile_85    0.787685\n",
       "percentile_90    0.767212\n",
       "percentile_95    0.740288\n",
       "percentile_98    0.641924\n",
       "Name: agbd, dtype: float64"
      ]
     },
     "execution_count": 19,
     "metadata": {},
     "output_type": "execute_result"
    },
    {
     "data": {
      "image/png": "[encoded data removed]",
      "text/plain": [
       "<Figure size 432x288 with 1 Axes>"
      ]
     },
     "metadata": {
      "needs_background": "light"
     },
     "output_type": "display_data"
    }
   ],
   "source": [
    "temp = temp[~((temp[\"agbd\"] > 8) & (temp[\"percentile_85\"] < 0.2))]\n",
    "temp[temp.agbd < 50].plot.scatter(\"percentile_85\",\"agbd\")\n",
    "temp.corr(\"spearman\")[\"agbd\"][:]"
   ]
  },
  {
   "cell_type": "code",
   "execution_count": 20,
   "id": "e215857b",
   "metadata": {},
   "outputs": [
    {
     "data": {
      "text/plain": [
       "agbd             1.000000\n",
       "mean             0.785462\n",
       "std              0.742329\n",
       "percentile_50    0.639287\n",
       "percentile_60    0.695389\n",
       "percentile_70    0.756282\n",
       "percentile_75    0.778771\n",
       "percentile_80    0.806008\n",
       "percentile_85    0.807144\n",
       "percentile_90    0.782680\n",
       "percentile_95    0.757132\n",
       "percentile_98    0.676062\n",
       "Name: agbd, dtype: float64"
      ]
     },
     "execution_count": 20,
     "metadata": {},
     "output_type": "execute_result"
    },
    {
     "data": {
      "image/png": "[encoded data removed]",
      "text/plain": [
       "<Figure size 432x288 with 1 Axes>"
      ]
     },
     "metadata": {
      "needs_background": "light"
     },
     "output_type": "display_data"
    }
   ],
   "source": [
    "temp = temp[~((temp[\"agbd\"] < 6) & (temp[\"percentile_85\"] > 1.5))]\n",
    "temp[temp.agbd < 50].plot.scatter(\"percentile_85\",\"agbd\")\n",
    "temp.corr(\"spearman\")[\"agbd\"][:]"
   ]
  },
  {
   "cell_type": "code",
   "execution_count": null,
   "id": "01b00f19",
   "metadata": {},
   "outputs": [],
   "source": []
  },
  {
   "cell_type": "code",
   "execution_count": null,
   "id": "6bf1bb42",
   "metadata": {},
   "outputs": [],
   "source": []
  },
  {
   "cell_type": "code",
   "execution_count": null,
   "id": "ae68f4da",
   "metadata": {},
   "outputs": [],
   "source": []
  },
  {
   "cell_type": "code",
   "execution_count": 22,
   "id": "8189abcb",
   "metadata": {},
   "outputs": [],
   "source": [
    "import numpy as np"
   ]
  },
  {
   "cell_type": "code",
   "execution_count": 34,
   "id": "1c6348f8",
   "metadata": {},
   "outputs": [],
   "source": [
    "# Data\n",
    "x = temp.loc[:, temp.columns != 'agbd']\n",
    "y = temp[\"agbd\"]"
   ]
  },
  {
   "cell_type": "code",
   "execution_count": null,
   "id": "eb2abf5c",
   "metadata": {},
   "outputs": [],
   "source": []
  },
  {
   "cell_type": "code",
   "execution_count": null,
   "id": "b35b2d86",
   "metadata": {},
   "outputs": [],
   "source": []
  },
  {
   "cell_type": "code",
   "execution_count": null,
   "id": "04e66108",
   "metadata": {},
   "outputs": [],
   "source": []
  },
  {
   "cell_type": "markdown",
   "id": "c60cfff3",
   "metadata": {},
   "source": [
    "## Optional: outlier removal techniques based on IQR method\n"
   ]
  },
  {
   "cell_type": "code",
   "execution_count": 25,
   "id": "07cec8bb",
   "metadata": {},
   "outputs": [
    {
     "name": "stdout",
     "output_type": "stream",
     "text": [
      "12.892598152160645 30.339580535888672\n",
      "Min: -13 \n",
      "Max: 57\n",
      "Identified outliers: 19\n"
     ]
    }
   ],
   "source": [
    "# calculate interquartile range\n",
    "q25, q75 = np.percentile(y, 25), np.percentile(y, 75)\n",
    "iqr = q75 - q25\n",
    "iqr\n",
    "print(q25, q75)\n",
    "\n",
    "# calculate the outlier cutoff\n",
    "cut_off = iqr * 1.5\n",
    "lower, upper = q25 - cut_off, q75 + cut_off\n",
    "print(\"Min:\", round(lower), \"\\nMax:\", round(upper))\n",
    "\n",
    "# reset index to properly filter\n",
    "y = y.reset_index(drop=True)\n",
    "x = x.reset_index(drop=True)\n",
    "\n",
    "outliers = [i for i,t in enumerate(y) if t < lower or t > upper]\n",
    "\n",
    "\n",
    "# outliers = []\n",
    "# for i,t in enumerate(y):\n",
    "#     #print(i)\n",
    "#     if t < lower or t > upper:\n",
    "#         #print(t)\n",
    "#         outliers.append(y[y==t].index[0])\n",
    "\n",
    "print('Identified outliers: %d' % len(outliers))\n"
   ]
  },
  {
   "cell_type": "code",
   "execution_count": 26,
   "id": "3b6570c8",
   "metadata": {},
   "outputs": [
    {
     "data": {
      "text/plain": [
       "233"
      ]
     },
     "execution_count": 26,
     "metadata": {},
     "output_type": "execute_result"
    }
   ],
   "source": [
    "len(df)"
   ]
  },
  {
   "cell_type": "code",
   "execution_count": 29,
   "id": "b2037c98",
   "metadata": {},
   "outputs": [
    {
     "data": {
      "text/plain": [
       "233"
      ]
     },
     "execution_count": 29,
     "metadata": {},
     "output_type": "execute_result"
    }
   ],
   "source": [
    "len(y)"
   ]
  },
  {
   "cell_type": "code",
   "execution_count": 30,
   "id": "45f58a4f",
   "metadata": {},
   "outputs": [
    {
     "name": "stdout",
     "output_type": "stream",
     "text": [
      "Number of outliers detected: 19\n",
      "\n",
      "Outliers their AGB (Mg/ha): [75, 59, 112, 71, 150, 85, 62, 58, 58, 125, 70, 60, 62, 60, 90, 67, 94, 74, 109]\n"
     ]
    }
   ],
   "source": [
    "print(\"Number of outliers detected:\", len(outliers))\n",
    "print(\"\\nOutliers their AGB (Mg/ha):\", [ round(elem) for elem in y[y.index.isin(outliers)].values.tolist() ] )"
   ]
  },
  {
   "cell_type": "code",
   "execution_count": 22,
   "id": "65c43161",
   "metadata": {},
   "outputs": [
    {
     "data": {
      "text/plain": [
       "214"
      ]
     },
     "execution_count": 22,
     "metadata": {},
     "output_type": "execute_result"
    }
   ],
   "source": [
    "# Filter outliers\n",
    "\n",
    "y = y[~y.index.isin(outliers)]\n",
    "x = x[~x.index.isin(outliers)]\n",
    "logy = np.log(y)\n",
    "\n",
    "len(y)"
   ]
  },
  {
   "cell_type": "code",
   "execution_count": 31,
   "id": "84ecbacd",
   "metadata": {},
   "outputs": [
    {
     "data": {
      "text/plain": [
       "<AxesSubplot:>"
      ]
     },
     "execution_count": 31,
     "metadata": {},
     "output_type": "execute_result"
    },
    {
     "data": {
      "image/png": "[encoded data removed]",
      "text/plain": [
       "<Figure size 432x288 with 1 Axes>"
      ]
     },
     "metadata": {
      "needs_background": "light"
     },
     "output_type": "display_data"
    }
   ],
   "source": [
    "y.plot.box()"
   ]
  },
  {
   "cell_type": "code",
   "execution_count": null,
   "id": "704c5ae7",
   "metadata": {},
   "outputs": [],
   "source": []
  },
  {
   "cell_type": "code",
   "execution_count": null,
   "id": "c44a289b",
   "metadata": {},
   "outputs": [],
   "source": []
  },
  {
   "cell_type": "markdown",
   "id": "9223a438",
   "metadata": {},
   "source": [
    "# Machine Learning"
   ]
  },
  {
   "cell_type": "code",
   "execution_count": 52,
   "id": "31b8638e",
   "metadata": {},
   "outputs": [],
   "source": [
    "from sklearn.ensemble import RandomForestRegressor\n",
    "from sklearn.model_selection  import train_test_split\n",
    "from sklearn.metrics import r2_score\n",
    "from sklearn.metrics import mean_squared_error\n",
    "from sklearn.metrics import mean_absolute_percentage_error\n",
    "from sklearn.svm import SVR\n",
    "from sklearn.model_selection import KFold, StratifiedKFold\n",
    "\n",
    "import matplotlib.pyplot as plt\n",
    "import numpy as np"
   ]
  },
  {
   "cell_type": "code",
   "execution_count": 33,
   "id": "6b049e16",
   "metadata": {},
   "outputs": [],
   "source": [
    "import statsmodels.api as sm\n",
    "import pylab\n",
    "from scipy.stats import skew"
   ]
  },
  {
   "cell_type": "code",
   "execution_count": 71,
   "id": "908d6f96",
   "metadata": {},
   "outputs": [],
   "source": [
    "def plot_predictions(ytest,ypred):\n",
    "    \n",
    "    plt.figure(figsize=(10,10))\n",
    "    plt.scatter(ytest, ypred, c='crimson')\n",
    "    # plt.yscale('log')\n",
    "    # plt.xscale('log')\n",
    "    plt.grid()\n",
    "    plt.xticks([0,20,40,60,80,100,120], fontsize=20)\n",
    "    plt.yticks([0,20,40,60,80,100,120], fontsize=20)\n",
    "    \n",
    "    p1 = max(max(ypred), max(ytest))\n",
    "    p2 = min(min(ypred), min(ytest))\n",
    "    plt.plot([p1, p2], [p1, p2], 'b-')\n",
    "    plt.xlabel('Reference biomass (Mg/ha)', fontsize=24, labelpad=10)\n",
    "    plt.ylabel('Predicted biomass (Mg/ha)', fontsize=24, labelpad=10)\n",
    "    plt.axis('equal')\n",
    "    \n",
    "    z = np.polyfit(ytest, ypred, 1)\n",
    "    y_hat = np.poly1d(z)(ytest)\n",
    "    plt.plot(ytest, y_hat, \"r--\", lw=1)\n",
    "    plt.show()"
   ]
  },
  {
   "cell_type": "code",
   "execution_count": null,
   "id": "5731f6b5",
   "metadata": {},
   "outputs": [],
   "source": []
  },
  {
   "cell_type": "code",
   "execution_count": 36,
   "id": "6261d3b2",
   "metadata": {},
   "outputs": [
    {
     "data": {
      "text/plain": [
       "Index(['agbd', 'mean', 'std', 'percentile_50', 'percentile_60',\n",
       "       'percentile_70', 'percentile_75', 'percentile_80', 'percentile_85',\n",
       "       'percentile_90', 'percentile_95', 'percentile_98'],\n",
       "      dtype='object')"
      ]
     },
     "execution_count": 36,
     "metadata": {},
     "output_type": "execute_result"
    }
   ],
   "source": [
    "temp.columns"
   ]
  },
  {
   "cell_type": "code",
   "execution_count": 35,
   "id": "dd59ea57",
   "metadata": {},
   "outputs": [],
   "source": [
    "x = temp.drop([\"agbd\"], axis=1)\n",
    "y = temp[\"agbd\"]\n",
    "logy = np.log(y)"
   ]
  },
  {
   "cell_type": "code",
   "execution_count": 43,
   "id": "df0a820d",
   "metadata": {},
   "outputs": [
    {
     "name": "stdout",
     "output_type": "stream",
     "text": [
      "Iteration:  1  out of  5\n",
      "Iteration:  2  out of  5\n",
      "Iteration:  3  out of  5\n",
      "Iteration:  4  out of  5\n",
      "Iteration:  5  out of  5\n",
      "Training\n",
      "All R2:         [0.94, 0.93, 0.93, 0.94, 0.93]\n",
      "All RMSE:       [4.1, 4.9, 4.9, 4.5, 4.7]\n",
      "All MAPE:       [12.0, 11.7, 12.0, 12.8, 12.9]\n",
      "Avg R2:         0.93\n",
      "Avg RMSE:       4.61\n",
      "Avg MAPE:       12.28\n",
      "\n",
      "Test\n",
      "All R2:         [0.45, 0.37, 0.62, 0.46, 0.64]\n",
      "All RMSE:       [16.9, 11.2, 8.7, 13.3, 10.8]\n",
      "All MAPE:       [29.3, 44.6, 36.7, 31.8, 25.9]\n",
      "Avg R2:         0.51\n",
      "Avg RMSE:       12.2\n",
      "Avg MAPE:       33.65\n"
     ]
    }
   ],
   "source": [
    "# Random Forest\n",
    "# Original\n",
    "# Y, Unstratified, No Tuning, No Feat.Selection\n",
    "\n",
    "i = 0\n",
    "\n",
    "r2_train_scores = []\n",
    "rmse_train_scores = []\n",
    "mape_train_scores = []\n",
    "\n",
    "r2_scores = []\n",
    "rmse_scores = []\n",
    "mape_scores = []\n",
    "\n",
    "rf = RandomForestRegressor(random_state=3)\n",
    "# rf = RandomForestRegressor(n_estimators=100, min_samples_split=3, min_samples_leaf=10, \n",
    "#                            max_features=5, max_depth=3, bootstrap=True, random_state=3)\n",
    "\n",
    "# Set-up k-fold cross-validation\n",
    "k = 5\n",
    "kf = KFold(n_splits=k, shuffle=True, random_state=5)\n",
    "# kf = KFold(n_splits=k, shuffle=True)\n",
    "\n",
    "# Loop k (5) times and calculate average of the statistics\n",
    "for train_index, test_index in kf.split(x,y):\n",
    "    \n",
    "    i += 1\n",
    "    print(\"Iteration: \", i, \" out of \", k)\n",
    "    \n",
    "    xtrain, xtest = x.iloc[train_index,:], x.iloc[test_index,:]\n",
    "    ytrain, ytest = y.iloc[train_index] , y.iloc[test_index]\n",
    "    \n",
    "    # Fit RF-regression model on training data\n",
    "    rf.fit(xtrain,ytrain)\n",
    "    \n",
    "    ## Predict on train set\n",
    "    ytrain_pred = rf.predict(xtrain)\n",
    "    \n",
    "#     # Un-log\n",
    "#     ytrain_pred = np.exp(ytrain_pred)\n",
    "#     ytrain = np.exp(ytrain)\n",
    "\n",
    "    # Save scores\n",
    "    r2_train_scores.append(r2_score(ytrain, ytrain_pred))\n",
    "    rmse_train_scores.append(mean_squared_error(ytrain, ytrain_pred, squared=False))\n",
    "    mape_train_scores.append(mean_absolute_percentage_error(ytrain, ytrain_pred))\n",
    "\n",
    "    ## Predict on test set\n",
    "    ypred = rf.predict(xtest)\n",
    " \n",
    "    # Un-log\n",
    "#     ypred = np.exp(ypred)\n",
    "#     ytest = np.exp(ytest)\n",
    "\n",
    "    # Save scores\n",
    "    r2_scores.append(r2_score(ytest, ypred))\n",
    "    rmse_scores.append(mean_squared_error(ytest, ypred, squared=False))\n",
    "    mape_scores.append(mean_absolute_percentage_error(ytest, ypred))\n",
    "    \n",
    "    \n",
    "print(\"Training\")\n",
    "print(\"All R2:        \",[round(score,2) for score in r2_train_scores])\n",
    "print(\"All RMSE:      \",[round(score,1) for score in rmse_train_scores])\n",
    "print(\"All MAPE:      \",[round(100*score,1) for score in mape_train_scores])\n",
    "\n",
    "print(\"Avg R2:        \",str(round(sum(r2_train_scores)/k,2)))\n",
    "print(\"Avg RMSE:      \",str(round(sum(rmse_train_scores)/k,2)))\n",
    "print(\"Avg MAPE:      \",str(round(100*sum(mape_train_scores)/k,2)))\n",
    "\n",
    "print(\"\\nTest\")\n",
    "print(\"All R2:        \",[round(score,2) for score in r2_scores])\n",
    "print(\"All RMSE:      \",[round(score,1) for score in rmse_scores])\n",
    "print(\"All MAPE:      \",[round(100*score,1) for score in mape_scores])\n",
    "\n",
    "print(\"Avg R2:        \",str(round(sum(r2_scores)/k,2)))\n",
    "print(\"Avg RMSE:      \",str(round(sum(rmse_scores)/k,2)))\n",
    "print(\"Avg MAPE:      \",str(round(100*sum(mape_scores)/k,2)))"
   ]
  },
  {
   "cell_type": "code",
   "execution_count": null,
   "id": "ad46847e",
   "metadata": {},
   "outputs": [],
   "source": []
  },
  {
   "cell_type": "markdown",
   "id": "f740ea3e",
   "metadata": {},
   "source": [
    "### Stratified split on Log-Y\n",
    "First, use pandas qcut function to split numerical data into bins\n",
    "\n",
    "Then, use Stratified k-fold cross-validation to split data into similar train and test sets"
   ]
  },
  {
   "cell_type": "code",
   "execution_count": 49,
   "id": "4c445be7",
   "metadata": {},
   "outputs": [
    {
     "name": "stdout",
     "output_type": "stream",
     "text": [
      "0    19\n",
      "1    19\n",
      "3    19\n",
      "5    19\n",
      "7    19\n",
      "9    19\n",
      "2    18\n",
      "4    18\n",
      "6    18\n",
      "8    18\n",
      "Name: bin, dtype: int64\n"
     ]
    },
    {
     "data": {
      "text/plain": [
       "array([0.3, 2.4, 2.5, 2.6, 2.8, 2.8, 2.9, 3.3, 3.5, 3.8, 4.8])"
      ]
     },
     "execution_count": 49,
     "metadata": {},
     "output_type": "execute_result"
    }
   ],
   "source": [
    "cat= pd.DataFrame()\n",
    "# Store continuous and discrete output in dataframe test\n",
    "cat[\"y\"] = logy\n",
    "\n",
    "# Categorize with qcut()\n",
    "results, bin_edges = pd.qcut(logy, q=10, labels=False, precision=0, retbins=True)\n",
    "\n",
    "# Store continuous output in dataframe test\n",
    "cat[\"bin\"] = results\n",
    "\n",
    "# Print number of samples per bin, should be equally-sized\n",
    "print(cat.bin.value_counts())\n",
    "\n",
    "# Print all bin edges/thresholds to get a good overview of the bins\n",
    "np.set_printoptions(suppress=True)\n",
    "np.round(bin_edges,1)\n"
   ]
  },
  {
   "cell_type": "code",
   "execution_count": 56,
   "id": "158053a2",
   "metadata": {},
   "outputs": [
    {
     "name": "stdout",
     "output_type": "stream",
     "text": [
      "Iteration:  1  out of  5\n",
      "Iteration:  2  out of  5\n",
      "Iteration:  3  out of  5\n",
      "Iteration:  4  out of  5\n",
      "Iteration:  5  out of  5\n",
      "Training\n",
      "All R2:         [0.89, 0.91, 0.9, 0.92, 0.92]\n",
      "All RMSE:       [6.2, 5.4, 5.0, 5.0, 5.3]\n",
      "All MAPE:       [11.4, 10.4, 10.6, 10.1, 10.5]\n",
      "Avg R2:         0.91\n",
      "Avg RMSE:       5.37\n",
      "Avg MAPE:       10.63\n",
      "\n",
      "Test\n",
      "All R2:         [0.7, 0.42, 0.51, 0.73, 0.23]\n",
      "All RMSE:       [7.8, 11.8, 16.6, 10.4, 11.7]\n",
      "All MAPE:       [20.6, 39.4, 26.9, 29.9, 33.9]\n",
      "Avg R2:         0.52\n",
      "Avg RMSE:       11.64\n",
      "Avg MAPE:       30.15\n"
     ]
    }
   ],
   "source": [
    "# Set-up stratified k-fold cross-validation\n",
    "k = 5\n",
    "kf = StratifiedKFold(n_splits=k, shuffle=True, random_state=8)\n",
    "\n",
    "# Define splits beforehand based on sample bin\n",
    "splits = kf.split(x,cat[\"bin\"])\n",
    "\n",
    "i = 0\n",
    "\n",
    "r2_train_scores = []\n",
    "rmse_train_scores = []\n",
    "mape_train_scores = []\n",
    "\n",
    "r2_scores = []\n",
    "rmse_scores = []\n",
    "mape_scores = []\n",
    "\n",
    "rf = RandomForestRegressor(random_state=3)\n",
    "# rf = RandomForestRegressor(n_estimators=100, min_samples_split=3, min_samples_leaf=10, \n",
    "#                            max_features=5, max_depth=3, bootstrap=True, random_state=3)\n",
    "\n",
    "# Loop k times and split into train and test sets\n",
    "for n,(train_index,test_index) in enumerate(splits):\n",
    "\n",
    "    i += 1\n",
    "    print(\"Iteration: \", i, \" out of \", k)\n",
    "    \n",
    "    xtrain_strat, xtest_strat = x.iloc[train_index,:], x.iloc[test_index,:]\n",
    "    ytrain_strat, ytest_strat = logy.iloc[train_index] , logy.iloc[test_index]\n",
    "    \n",
    "    # Fit RF-regression model on training data\n",
    "    rf.fit(xtrain_strat,ytrain_strat)\n",
    "    \n",
    "    ## Predict on train set\n",
    "    ytrain_pred = pd.Series(rf.predict(xtrain_strat))\n",
    "    \n",
    "    # Un-log\n",
    "    ytrain_pred = np.exp(ytrain_pred)\n",
    "    ytrain_strat = np.exp(ytrain_strat)\n",
    "  \n",
    "    # Save scores\n",
    "    r2_train_scores.append(r2_score(ytrain_strat, ytrain_pred))\n",
    "    rmse_train_scores.append(mean_squared_error(ytrain_strat, ytrain_pred, squared=False))\n",
    "    mape_train_scores.append(mean_absolute_percentage_error(ytrain_strat, ytrain_pred))\n",
    "\n",
    "    ## Predict on test set\n",
    "    ypred = pd.Series(rf.predict(xtest_strat))\n",
    " \n",
    "    # Un-log\n",
    "    ypred = np.exp(ypred)\n",
    "    ytest_strat = np.exp(ytest_strat)\n",
    "    \n",
    "    # Save scores\n",
    "    r2_scores.append(r2_score(ytest_strat, ypred))\n",
    "    rmse_scores.append(mean_squared_error(ytest_strat, ypred, squared=False))\n",
    "    mape_scores.append(mean_absolute_percentage_error(ytest_strat, ypred))\n",
    "    \n",
    "\n",
    "print(\"Training\")\n",
    "print(\"All R2:        \",[round(score,2) for score in r2_train_scores])\n",
    "print(\"All RMSE:      \",[round(score,1) for score in rmse_train_scores])\n",
    "print(\"All MAPE:      \",[round(100*score,1) for score in mape_train_scores])\n",
    "\n",
    "print(\"Avg R2:        \",str(round(sum(r2_train_scores)/k,2)))\n",
    "print(\"Avg RMSE:      \",str(round(sum(rmse_train_scores)/k,2)))\n",
    "print(\"Avg MAPE:      \",str(round(100*sum(mape_train_scores)/k,2)))\n",
    "\n",
    "print(\"\\nTest\")\n",
    "print(\"All R2:        \",[round(score,2) for score in r2_scores])\n",
    "print(\"All RMSE:      \",[round(score,1) for score in rmse_scores])\n",
    "print(\"All MAPE:      \",[round(100*score,1) for score in mape_scores])\n",
    "\n",
    "print(\"Avg R2:        \",str(round(sum(r2_scores)/k,2)))\n",
    "print(\"Avg RMSE:      \",str(round(sum(rmse_scores)/k,2)))\n",
    "print(\"Avg MAPE:      \",str(round(100*sum(mape_scores)/k,2)))"
   ]
  },
  {
   "cell_type": "code",
   "execution_count": null,
   "id": "6b153f9d",
   "metadata": {},
   "outputs": [],
   "source": []
  },
  {
   "cell_type": "markdown",
   "id": "ed3d404a",
   "metadata": {},
   "source": [
    "### Parameter tuning\n",
    "Parameters have been manually tuned by running code below and checking train and test scores.\n",
    "\n",
    "Best scoring parameters have been used in the end.\n",
    "\n",
    "For a more advanced hyperparameter tuning technique, see SentinelGEDI/PredictGEDI script"
   ]
  },
  {
   "cell_type": "code",
   "execution_count": 104,
   "id": "750956a5",
   "metadata": {},
   "outputs": [
    {
     "name": "stdout",
     "output_type": "stream",
     "text": [
      "Iteration:  1  out of  5\n",
      "Iteration:  2  out of  5\n",
      "Iteration:  3  out of  5\n",
      "Iteration:  4  out of  5\n",
      "Iteration:  5  out of  5\n",
      "Training\n",
      "All R2:         [0.57, 0.6, 0.58, 0.59, 0.63]\n",
      "All RMSE:       [12.3, 11.6, 10.3, 11.1, 11.4]\n",
      "All MAPE:       [32.1, 27.4, 28.2, 28.6, 29.3]\n",
      "Avg R2:         0.6\n",
      "Avg RMSE:       11.35\n",
      "Avg MAPE:       29.12\n",
      "\n",
      "Test\n",
      "All R2:         [0.72, 0.53, 0.5, 0.55, 0.26]\n",
      "All RMSE:       [7.5, 10.6, 16.9, 13.5, 11.4]\n",
      "All MAPE:       [20.4, 43.9, 39.9, 29.1, 34.7]\n",
      "Avg R2:         0.51\n",
      "Avg RMSE:       11.98\n",
      "Avg MAPE:       33.59\n"
     ]
    }
   ],
   "source": [
    "# Set-up stratified k-fold cross-validation\n",
    "k = 5\n",
    "kf = StratifiedKFold(n_splits=k, shuffle=True, random_state=8)\n",
    "\n",
    "# Define splits beforehand based on sample bin\n",
    "splits = kf.split(x,cat[\"bin\"])\n",
    "\n",
    "i = 0\n",
    "\n",
    "r2_train_scores = []\n",
    "rmse_train_scores = []\n",
    "mape_train_scores = []\n",
    "\n",
    "r2_scores = []\n",
    "rmse_scores = []\n",
    "mape_scores = []\n",
    "\n",
    "# rf = RandomForestRegressor(random_state=3)\n",
    "rf = RandomForestRegressor(n_estimators=100, min_samples_split=3, min_samples_leaf=10, \n",
    "                           max_features=5, max_depth=3, bootstrap=True, random_state=3)\n",
    "\n",
    "# Loop k times and split into train and test sets\n",
    "for n,(train_index,test_index) in enumerate(splits):\n",
    "\n",
    "    i += 1\n",
    "    print(\"Iteration: \", i, \" out of \", k)\n",
    "    \n",
    "    xtrain_strat, xtest_strat = x.iloc[train_index,:], x.iloc[test_index,:]\n",
    "    ytrain_strat, ytest_strat = logy.iloc[train_index] , logy.iloc[test_index]\n",
    "    \n",
    "    # Fit RF-regression model on training data\n",
    "    rf.fit(xtrain_strat,ytrain_strat)\n",
    "    \n",
    "    ## Predict on train set\n",
    "    ytrain_pred = pd.Series(rf.predict(xtrain_strat))\n",
    "    \n",
    "    # Un-log\n",
    "    ytrain_pred = np.exp(ytrain_pred)\n",
    "    ytrain_strat = np.exp(ytrain_strat)\n",
    "  \n",
    "    # Save scores\n",
    "    r2_train_scores.append(r2_score(ytrain_strat, ytrain_pred))\n",
    "    rmse_train_scores.append(mean_squared_error(ytrain_strat, ytrain_pred, squared=False))\n",
    "    mape_train_scores.append(mean_absolute_percentage_error(ytrain_strat, ytrain_pred))\n",
    "\n",
    "    ## Predict on test set\n",
    "    ypred = pd.Series(rf.predict(xtest_strat))\n",
    " \n",
    "    # Un-log\n",
    "    ypred = np.exp(ypred)\n",
    "    ytest_strat = np.exp(ytest_strat)\n",
    "    \n",
    "    # Save scores\n",
    "    r2_scores.append(r2_score(ytest_strat, ypred))\n",
    "    rmse_scores.append(mean_squared_error(ytest_strat, ypred, squared=False))\n",
    "    mape_scores.append(mean_absolute_percentage_error(ytest_strat, ypred))\n",
    "    \n",
    "\n",
    "print(\"Training\")\n",
    "print(\"All R2:        \",[round(score,2) for score in r2_train_scores])\n",
    "print(\"All RMSE:      \",[round(score,1) for score in rmse_train_scores])\n",
    "print(\"All MAPE:      \",[round(100*score,1) for score in mape_train_scores])\n",
    "\n",
    "print(\"Avg R2:        \",str(round(sum(r2_train_scores)/k,2)))\n",
    "print(\"Avg RMSE:      \",str(round(sum(rmse_train_scores)/k,2)))\n",
    "print(\"Avg MAPE:      \",str(round(100*sum(mape_train_scores)/k,2)))\n",
    "\n",
    "print(\"\\nTest\")\n",
    "print(\"All R2:        \",[round(score,2) for score in r2_scores])\n",
    "print(\"All RMSE:      \",[round(score,1) for score in rmse_scores])\n",
    "print(\"All MAPE:      \",[round(100*score,1) for score in mape_scores])\n",
    "\n",
    "print(\"Avg R2:        \",str(round(sum(r2_scores)/k,2)))\n",
    "print(\"Avg RMSE:      \",str(round(sum(rmse_scores)/k,2)))\n",
    "print(\"Avg MAPE:      \",str(round(100*sum(mape_scores)/k,2)))"
   ]
  },
  {
   "cell_type": "code",
   "execution_count": 103,
   "id": "fb7f9cc3",
   "metadata": {},
   "outputs": [
    {
     "data": {
      "image/png": "[encoded data removed]",
      "text/plain": [
       "<Figure size 720x720 with 1 Axes>"
      ]
     },
     "metadata": {
      "needs_background": "light"
     },
     "output_type": "display_data"
    }
   ],
   "source": [
    "plot_predictions(ytest,ypred)"
   ]
  },
  {
   "cell_type": "code",
   "execution_count": null,
   "id": "0353dbf7",
   "metadata": {},
   "outputs": [],
   "source": []
  },
  {
   "cell_type": "code",
   "execution_count": null,
   "id": "01343a5b",
   "metadata": {},
   "outputs": [],
   "source": []
  },
  {
   "cell_type": "code",
   "execution_count": null,
   "id": "c8058340",
   "metadata": {},
   "outputs": [],
   "source": []
  },
  {
   "cell_type": "code",
   "execution_count": 198,
   "id": "461a0ad1",
   "metadata": {},
   "outputs": [
    {
     "name": "stdout",
     "output_type": "stream",
     "text": [
      "Train R2:           0.5569781063648032\n",
      "Train RMSE:         12.42026520743697\n",
      "Train MAPE:         23.4\n",
      "\n",
      "Test R2:           0.5137917896783057\n",
      "Test RMSE:         11.599731568643833\n",
      "Test MAPE:         48.3\n"
     ]
    },
    {
     "data": {
      "image/png": "[encoded data removed]",
      "text/plain": [
       "<Figure size 720x720 with 1 Axes>"
      ]
     },
     "metadata": {
      "needs_background": "light"
     },
     "output_type": "display_data"
    }
   ],
   "source": [
    "seed = 3\n",
    "xtrain, xtest, ytrain, ytest = train_test_split(x, logy, test_size=0.4,\n",
    "                                               stratify = cat[\"bin\"], random_state=4)\n",
    "\n",
    "# Let's print the number of test samples within each bin, now for the stratified split\n",
    "(pd.cut(ytest, bins=bin_edges, labels=False).value_counts())\n",
    "\n",
    "rf = RandomForestRegressor(n_estimators=100, min_samples_split=3, min_samples_leaf=10, \n",
    "                           max_features=5, max_depth=3, bootstrap=True, random_state=3)\n",
    "rf.fit(xtrain,ytrain)\n",
    "\n",
    "ytrain_pred = rf.predict(xtrain)\n",
    "\n",
    "# Un-log\n",
    "ytrain_pred = np.exp(ytrain_pred)\n",
    "ytrain = np.exp(ytrain)\n",
    "    \n",
    "# Save scores\n",
    "print(\"Train R2:          \", r2_score(ytrain, ytrain_pred))\n",
    "print(\"Train RMSE:        \", mean_squared_error(ytrain, ytrain_pred, squared=False))\n",
    "print(\"Train MAPE:        \", round(100*mean_absolute_percentage_error(ytrain, ytrain_pred),1))\n",
    "\n",
    "\n",
    "## Predict on test set\n",
    "ypred = rf.predict(xtest)\n",
    "\n",
    "# Un-log\n",
    "ypred = np.exp(ypred)\n",
    "ytest = np.exp(ytest)\n",
    "\n",
    "# Save scores\n",
    "print(\"\\nTest R2:          \", r2_score(ytest, ypred))\n",
    "print(\"Test RMSE:        \", mean_squared_error(ytest, ypred, squared=False))\n",
    "print(\"Test MAPE:        \", round(100*mean_absolute_percentage_error(ytest, ypred),1))\n",
    "\n",
    "plot_predictions(ytest,ypred)"
   ]
  },
  {
   "cell_type": "code",
   "execution_count": null,
   "id": "9e087f2e",
   "metadata": {},
   "outputs": [],
   "source": []
  },
  {
   "cell_type": "code",
   "execution_count": null,
   "id": "83f10679",
   "metadata": {},
   "outputs": [],
   "source": []
  },
  {
   "cell_type": "markdown",
   "id": "c193ba10",
   "metadata": {},
   "source": [
    "## XGBoost"
   ]
  },
  {
   "cell_type": "code",
   "execution_count": 143,
   "id": "86821a06",
   "metadata": {},
   "outputs": [],
   "source": [
    "from xgboost import XGBRegressor"
   ]
  },
  {
   "cell_type": "markdown",
   "id": "1b846a02",
   "metadata": {},
   "source": [
    "First run on stratified logy-split"
   ]
  },
  {
   "cell_type": "code",
   "execution_count": 147,
   "id": "53182088",
   "metadata": {},
   "outputs": [
    {
     "name": "stdout",
     "output_type": "stream",
     "text": [
      "Iteration:  1  out of  5\n",
      "Iteration:  2  out of  5\n",
      "Iteration:  3  out of  5\n",
      "Iteration:  4  out of  5\n",
      "Iteration:  5  out of  5\n",
      "Training\n",
      "All R2:         [1.0, 1.0, 1.0, 1.0, 1.0]\n",
      "All RMSE:       [0.0, 0.0, 0.0, 0.0, 0.0]\n",
      "All MAPE:       [0.1, 0.1, 0.1, 0.1, 0.1]\n",
      "Avg R2:         1.0\n",
      "Avg RMSE:       0.04\n",
      "Avg MAPE:       0.08\n",
      "\n",
      "Test\n",
      "All R2:         [0.55, 0.29, 0.6, 0.49, 0.1]\n",
      "All RMSE:       [9.4, 13.1, 15.1, 14.4, 12.6]\n",
      "All MAPE:       [24.3, 48.0, 33.2, 33.7, 37.8]\n",
      "Avg R2:         0.41\n",
      "Avg RMSE:       12.93\n",
      "Avg MAPE:       35.4\n"
     ]
    }
   ],
   "source": [
    "# Set-up stratified k-fold cross-validation\n",
    "k = 5\n",
    "kf = StratifiedKFold(n_splits=k, shuffle=True, random_state=8)\n",
    "\n",
    "# Define splits beforehand based on sample bin\n",
    "splits = kf.split(x,cat[\"bin\"])\n",
    "\n",
    "i = 0\n",
    "\n",
    "r2_train_scores = []\n",
    "rmse_train_scores = []\n",
    "mape_train_scores = []\n",
    "\n",
    "r2_scores = []\n",
    "rmse_scores = []\n",
    "mape_scores = []\n",
    "\n",
    "xgb = XGBRegressor(random_state=3)\n",
    "\n",
    "# Loop k times and split into train and test sets\n",
    "for n,(train_index,test_index) in enumerate(splits):\n",
    "\n",
    "    i += 1\n",
    "    print(\"Iteration: \", i, \" out of \", k)\n",
    "    \n",
    "    xtrain_strat, xtest_strat = x.iloc[train_index,:], x.iloc[test_index,:]\n",
    "    ytrain_strat, ytest_strat = logy.iloc[train_index] , logy.iloc[test_index]\n",
    "    \n",
    "    # Fit RF-regression model on training data\n",
    "    xgb.fit(xtrain_strat,ytrain_strat)\n",
    "    \n",
    "    ## Predict on train set\n",
    "    ytrain_pred = pd.Series(xgb.predict(xtrain_strat))\n",
    "    \n",
    "    # Un-log\n",
    "    ytrain_pred = np.exp(ytrain_pred)\n",
    "    ytrain_strat = np.exp(ytrain_strat)\n",
    "  \n",
    "    # Save scores\n",
    "    r2_train_scores.append(r2_score(ytrain_strat, ytrain_pred))\n",
    "    rmse_train_scores.append(mean_squared_error(ytrain_strat, ytrain_pred, squared=False))\n",
    "    mape_train_scores.append(mean_absolute_percentage_error(ytrain_strat, ytrain_pred))\n",
    "\n",
    "    ## Predict on test set\n",
    "    ypred = pd.Series(xgb.predict(xtest_strat))\n",
    " \n",
    "    # Un-log\n",
    "    ypred = np.exp(ypred)\n",
    "    ytest_strat = np.exp(ytest_strat)\n",
    "    \n",
    "    # Save scores\n",
    "    r2_scores.append(r2_score(ytest_strat, ypred))\n",
    "    rmse_scores.append(mean_squared_error(ytest_strat, ypred, squared=False))\n",
    "    mape_scores.append(mean_absolute_percentage_error(ytest_strat, ypred))\n",
    "    \n",
    "\n",
    "print(\"Training\")\n",
    "print(\"All R2:        \",[round(score,2) for score in r2_train_scores])\n",
    "print(\"All RMSE:      \",[round(score,1) for score in rmse_train_scores])\n",
    "print(\"All MAPE:      \",[round(100*score,1) for score in mape_train_scores])\n",
    "\n",
    "print(\"Avg R2:        \",str(round(sum(r2_train_scores)/k,2)))\n",
    "print(\"Avg RMSE:      \",str(round(sum(rmse_train_scores)/k,2)))\n",
    "print(\"Avg MAPE:      \",str(round(100*sum(mape_train_scores)/k,2)))\n",
    "\n",
    "print(\"\\nTest\")\n",
    "print(\"All R2:        \",[round(score,2) for score in r2_scores])\n",
    "print(\"All RMSE:      \",[round(score,1) for score in rmse_scores])\n",
    "print(\"All MAPE:      \",[round(100*score,1) for score in mape_scores])\n",
    "\n",
    "print(\"Avg R2:        \",str(round(sum(r2_scores)/k,2)))\n",
    "print(\"Avg RMSE:      \",str(round(sum(rmse_scores)/k,2)))\n",
    "print(\"Avg MAPE:      \",str(round(100*sum(mape_scores)/k,2)))"
   ]
  },
  {
   "cell_type": "code",
   "execution_count": null,
   "id": "d185fa5e",
   "metadata": {},
   "outputs": [],
   "source": []
  },
  {
   "cell_type": "code",
   "execution_count": null,
   "id": "ee44ef2d",
   "metadata": {},
   "outputs": [],
   "source": []
  },
  {
   "cell_type": "markdown",
   "id": "b0af5d1d",
   "metadata": {},
   "source": [
    "### Hyperparameter tuning XGB"
   ]
  },
  {
   "cell_type": "code",
   "execution_count": 210,
   "id": "4de7e57f",
   "metadata": {},
   "outputs": [],
   "source": [
    "n_estimators = 50\n",
    "max_depth = 1\n",
    "subsample = 0.8\n",
    "colsample_bytree = 0.2\n",
    "learning_rate = 0.05\n",
    "\n",
    "parameters = {'n_estimators': n_estimators,\n",
    "               'max_depth': max_depth,\n",
    "               'subsample': subsample,\n",
    "               'colsample_bytree': colsample_bytree,\n",
    "               'learning_rate': learning_rate}\n",
    "\n"
   ]
  },
  {
   "cell_type": "code",
   "execution_count": 224,
   "id": "6bceca87",
   "metadata": {},
   "outputs": [],
   "source": [
    "seed = 3\n",
    "xtrain, xtest, ytrain, ytest = train_test_split(x, logy, test_size=0.3, random_state=seed,\n",
    "                                               stratify = cat[\"bin\"])"
   ]
  },
  {
   "cell_type": "code",
   "execution_count": 225,
   "id": "3f0fe01d",
   "metadata": {},
   "outputs": [],
   "source": [
    "from sklearn.metrics import make_scorer\n",
    "from sklearn.model_selection import GridSearchCV \n",
    "\n",
    "# Create custom-made metrics\n",
    "\n",
    "def rsquared(gt, pred):\n",
    "    r2 = r2_score(np.exp(gt), np.exp(pred))\n",
    "    return r2\n",
    "\n",
    "def rmse_calc(gt, pred):\n",
    "    rmse = mean_squared_error(np.exp(gt), np.exp(pred), squared=False)\n",
    "    return rmse"
   ]
  },
  {
   "cell_type": "code",
   "execution_count": 212,
   "id": "695dbc83",
   "metadata": {
    "scrolled": true
   },
   "outputs": [
    {
     "name": "stdout",
     "output_type": "stream",
     "text": [
      "Fitting 5 folds for each of 12 candidates, totalling 60 fits\n",
      "[CV] END ........................................max_depth=1; total time=   0.0s\n",
      "[CV] END ........................................max_depth=1; total time=   0.0s\n",
      "[CV] END ........................................max_depth=1; total time=   0.0s\n",
      "[CV] END ........................................max_depth=1; total time=   0.0s\n",
      "[CV] END ........................................max_depth=1; total time=   0.0s\n",
      "[CV] END ........................................max_depth=2; total time=   0.0s\n",
      "[CV] END ........................................max_depth=2; total time=   0.0s\n",
      "[CV] END ........................................max_depth=2; total time=   0.0s\n",
      "[CV] END ........................................max_depth=2; total time=   0.0s\n",
      "[CV] END ........................................max_depth=2; total time=   0.0s\n",
      "[CV] END ........................................max_depth=4; total time=   0.0s\n",
      "[CV] END ........................................max_depth=4; total time=   0.0s\n",
      "[CV] END ........................................max_depth=4; total time=   0.0s\n",
      "[CV] END ........................................max_depth=4; total time=   0.0s\n",
      "[CV] END ........................................max_depth=4; total time=   0.0s\n",
      "[CV] END ........................................max_depth=6; total time=   0.0s\n",
      "[CV] END ........................................max_depth=6; total time=   0.0s\n",
      "[CV] END ........................................max_depth=6; total time=   0.0s\n",
      "[CV] END ........................................max_depth=6; total time=   0.0s\n",
      "[CV] END ........................................max_depth=6; total time=   0.0s\n",
      "[CV] END ........................................max_depth=8; total time=   0.0s\n",
      "[CV] END ........................................max_depth=8; total time=   0.0s\n",
      "[CV] END ........................................max_depth=8; total time=   0.0s\n",
      "[CV] END ........................................max_depth=8; total time=   0.0s\n",
      "[CV] END ........................................max_depth=8; total time=   0.0s\n",
      "[CV] END .......................................max_depth=10; total time=   0.0s\n",
      "[CV] END .......................................max_depth=10; total time=   0.0s\n",
      "[CV] END .......................................max_depth=10; total time=   0.0s\n",
      "[CV] END .......................................max_depth=10; total time=   0.0s\n",
      "[CV] END .......................................max_depth=10; total time=   0.0s\n",
      "[CV] END .......................................max_depth=12; total time=   0.0s\n",
      "[CV] END .......................................max_depth=12; total time=   0.0s\n",
      "[CV] END .......................................max_depth=12; total time=   0.0s\n",
      "[CV] END .......................................max_depth=12; total time=   0.0s\n",
      "[CV] END .......................................max_depth=12; total time=   0.0s\n",
      "[CV] END .......................................max_depth=15; total time=   0.0s\n",
      "[CV] END .......................................max_depth=15; total time=   0.0s\n",
      "[CV] END .......................................max_depth=15; total time=   0.0s\n",
      "[CV] END .......................................max_depth=15; total time=   0.0s\n",
      "[CV] END .......................................max_depth=15; total time=   0.0s\n",
      "[CV] END .......................................max_depth=18; total time=   0.0s\n",
      "[CV] END .......................................max_depth=18; total time=   0.0s\n",
      "[CV] END .......................................max_depth=18; total time=   0.0s\n",
      "[CV] END .......................................max_depth=18; total time=   0.0s\n",
      "[CV] END .......................................max_depth=18; total time=   0.0s\n",
      "[CV] END .......................................max_depth=20; total time=   0.0s\n",
      "[CV] END .......................................max_depth=20; total time=   0.0s\n",
      "[CV] END .......................................max_depth=20; total time=   0.0s\n",
      "[CV] END .......................................max_depth=20; total time=   0.0s\n",
      "[CV] END .......................................max_depth=20; total time=   0.0s\n",
      "[CV] END .......................................max_depth=25; total time=   0.0s\n",
      "[CV] END .......................................max_depth=25; total time=   0.0s\n",
      "[CV] END .......................................max_depth=25; total time=   0.0s\n",
      "[CV] END .......................................max_depth=25; total time=   0.0s\n",
      "[CV] END .......................................max_depth=25; total time=   0.0s\n",
      "[CV] END .......................................max_depth=30; total time=   0.0s\n",
      "[CV] END .......................................max_depth=30; total time=   0.0s\n",
      "[CV] END .......................................max_depth=30; total time=   0.0s\n",
      "[CV] END .......................................max_depth=30; total time=   0.0s\n",
      "[CV] END .......................................max_depth=30; total time=   0.0s\n",
      "Best parameters {'max_depth': 4}\n",
      "Best score 0.3646985734225051\n"
     ]
    }
   ],
   "source": [
    "cv_params = {'max_depth': [1,2,4,6,8,10,12,15,18,20,25,30],\n",
    "            }\n",
    "\n",
    "r2 = make_scorer(rsquared)\n",
    "rmse = make_scorer(rmse_calc)\n",
    "scoring = {\"r2\": r2, \"rmse\": rmse}\n",
    "\n",
    "model = GridSearchCV(XGBRegressor(\n",
    "                                        random_state = seed,\n",
    "                                        n_estimators = n_estimators,\n",
    "                                        max_depth = max_depth,\n",
    "                                        subsample = subsample,\n",
    "                                        colsample_bytree = colsample_bytree,\n",
    "                                        learning_rate = learning_rate\n",
    "                                    ),\n",
    "                    \n",
    "                    param_grid = cv_params,\n",
    "                    scoring = scoring,\n",
    "                    refit=\"r2\",\n",
    "                    cv = 5,\n",
    "                    verbose = 2,\n",
    "                    return_train_score=True\n",
    ")\n",
    "\n",
    "model.fit(xtrain,ytrain)\n",
    "print (\"Best parameters %s\" %model.best_params_)\n",
    "print (\"Best score %s\" %model.best_score_)"
   ]
  },
  {
   "cell_type": "code",
   "execution_count": 182,
   "id": "40e1dce5",
   "metadata": {},
   "outputs": [
    {
     "data": {
      "text/plain": [
       "{'mean_fit_time': array([0.0325779 , 0.03475189, 0.03370686, 0.03486714, 0.03673882,\n",
       "        0.03948808, 0.03851552, 0.04122944, 0.03790679, 0.04135747,\n",
       "        0.0373877 , 0.04413552]),\n",
       " 'std_fit_time': array([0.00275505, 0.00298875, 0.00198297, 0.0015333 , 0.00214898,\n",
       "        0.00172927, 0.00392859, 0.00461909, 0.00123593, 0.00639119,\n",
       "        0.00247296, 0.00406985]),\n",
       " 'mean_score_time': array([0.00398183, 0.00631757, 0.00480914, 0.00499735, 0.00465174,\n",
       "        0.00390725, 0.00342407, 0.00551276, 0.00496664, 0.00436668,\n",
       "        0.00433125, 0.00424666]),\n",
       " 'std_score_time': array([0.00108519, 0.00245754, 0.0002474 , 0.00001382, 0.00099167,\n",
       "        0.00196259, 0.00175269, 0.00257077, 0.0000666 , 0.00132944,\n",
       "        0.00043116, 0.00317712]),\n",
       " 'param_max_depth': masked_array(data=[1, 2, 4, 6, 8, 10, 12, 15, 18, 20, 25, 30],\n",
       "              mask=[False, False, False, False, False, False, False, False,\n",
       "                    False, False, False, False],\n",
       "        fill_value='?',\n",
       "             dtype=object),\n",
       " 'params': [{'max_depth': 1},\n",
       "  {'max_depth': 2},\n",
       "  {'max_depth': 4},\n",
       "  {'max_depth': 6},\n",
       "  {'max_depth': 8},\n",
       "  {'max_depth': 10},\n",
       "  {'max_depth': 12},\n",
       "  {'max_depth': 15},\n",
       "  {'max_depth': 18},\n",
       "  {'max_depth': 20},\n",
       "  {'max_depth': 25},\n",
       "  {'max_depth': 30}],\n",
       " 'split0_test_r2': array([0.47949926, 0.55460879, 0.56840524, 0.54709983, 0.55242309,\n",
       "        0.55007999, 0.55127802, 0.55117448, 0.55117448, 0.55117448,\n",
       "        0.55117448, 0.55117448]),\n",
       " 'split1_test_r2': array([0.16587519, 0.25216459, 0.25240918, 0.24998924, 0.24767784,\n",
       "        0.2478017 , 0.24781605, 0.24781605, 0.24781605, 0.24781605,\n",
       "        0.24781605, 0.24781605]),\n",
       " 'split2_test_r2': array([0.42328075, 0.49290834, 0.51244191, 0.49462123, 0.49613453,\n",
       "        0.49680375, 0.49771256, 0.49771256, 0.49771256, 0.49771256,\n",
       "        0.49771256, 0.49771256]),\n",
       " 'split3_test_r2': array([0.07748825, 0.14260952, 0.1132711 , 0.10506654, 0.10424818,\n",
       "        0.10382186, 0.10382181, 0.10382181, 0.10382181, 0.10382181,\n",
       "        0.10382181, 0.10382181]),\n",
       " 'split4_test_r2': array([0.24994204, 0.3728142 , 0.37696543, 0.36761384, 0.35754055,\n",
       "        0.35871005, 0.35876544, 0.35876544, 0.35876544, 0.35876544,\n",
       "        0.35876544, 0.35876544]),\n",
       " 'mean_test_r2': array([0.2792171 , 0.36302109, 0.36469857, 0.35287814, 0.35160484,\n",
       "        0.35144347, 0.35187878, 0.35185807, 0.35185807, 0.35185807,\n",
       "        0.35185807, 0.35185807]),\n",
       " 'std_test_r2': array([0.15183229, 0.15135579, 0.16691295, 0.16126191, 0.16324103,\n",
       "        0.16290915, 0.16336235, 0.16333708, 0.16333708, 0.16333708,\n",
       "        0.16333708, 0.16333708]),\n",
       " 'rank_test_r2': array([12,  2,  1,  3, 10, 11,  4,  5,  5,  5,  5,  5]),\n",
       " 'split0_train_r2': array([0.30101091, 0.39416586, 0.41467251, 0.42099214, 0.42274053,\n",
       "        0.42412708, 0.4241398 , 0.42414224, 0.42414224, 0.42414224,\n",
       "        0.42414224, 0.42414224]),\n",
       " 'split1_train_r2': array([0.29042794, 0.38754383, 0.41861865, 0.42696119, 0.42839894,\n",
       "        0.4269516 , 0.42695027, 0.42695027, 0.42695027, 0.42695027,\n",
       "        0.42695027, 0.42695027]),\n",
       " 'split2_train_r2': array([0.26416961, 0.37001223, 0.39574993, 0.40653412, 0.41193406,\n",
       "        0.41221338, 0.41253508, 0.41253508, 0.41253508, 0.41253508,\n",
       "        0.41253508, 0.41253508]),\n",
       " 'split3_train_r2': array([0.28616464, 0.38102786, 0.40545454, 0.41620704, 0.41883456,\n",
       "        0.41917638, 0.41919918, 0.41919918, 0.41919918, 0.41919918,\n",
       "        0.41919918, 0.41919918]),\n",
       " 'split4_train_r2': array([0.2742747 , 0.38188184, 0.40486151, 0.41869144, 0.41698918,\n",
       "        0.417157  , 0.41721035, 0.41721035, 0.41721035, 0.41721035,\n",
       "        0.41721035, 0.41721035]),\n",
       " 'mean_train_r2': array([0.28320956, 0.38292633, 0.40787143, 0.41787719, 0.41977945,\n",
       "        0.41992509, 0.42000693, 0.42000742, 0.42000742, 0.42000742,\n",
       "        0.42000742, 0.42000742]),\n",
       " 'std_train_r2': array([0.01280685, 0.00798896, 0.00804474, 0.00669835, 0.00553701,\n",
       "        0.0051908 , 0.00509102, 0.00509142, 0.00509142, 0.00509142,\n",
       "        0.00509142, 0.00509142]),\n",
       " 'split0_test_rmse': array([9.15798527, 8.47149557, 8.3392568 , 8.54260859, 8.49225645,\n",
       "        8.51445626, 8.50311276, 8.50409372, 8.50409372, 8.50409372,\n",
       "        8.50409372, 8.50409372]),\n",
       " 'split1_test_rmse': array([20.32053041, 19.24077386, 19.23762709, 19.26873787, 19.29840643,\n",
       "        19.29681772, 19.29663368, 19.29663368, 19.29663368, 19.29663368,\n",
       "        19.29663368, 19.29663368]),\n",
       " 'split2_test_rmse': array([10.2968231 ,  9.65526638,  9.46747594,  9.63894546,  9.62450333,\n",
       "         9.61810968,  9.60942024,  9.60942024,  9.60942024,  9.60942024,\n",
       "         9.60942024,  9.60942024]),\n",
       " 'split3_test_rmse': array([23.13212398, 22.30072015, 22.67905682, 22.78373551, 22.7941503 ,\n",
       "        22.79957399, 22.79957454, 22.79957454, 22.79957454, 22.79957454,\n",
       "        22.79957454, 22.79957454]),\n",
       " 'split4_test_rmse': array([12.21303229, 11.16796908, 11.13094827, 11.21417348, 11.30313603,\n",
       "        11.2928435 , 11.29235577, 11.29235577, 11.29235577, 11.29235577,\n",
       "        11.29235577, 11.29235577]),\n",
       " 'mean_test_rmse': array([15.02409901, 14.16724501, 14.17087298, 14.28964018, 14.30249051,\n",
       "        14.30436023, 14.3002194 , 14.30041559, 14.30041559, 14.30041559,\n",
       "        14.30041559, 14.30041559]),\n",
       " 'std_test_rmse': array([5.62943654, 5.54417319, 5.71720251, 5.675507  , 5.68693192,\n",
       "        5.68588522, 5.68964813, 5.68944824, 5.68944824, 5.68944824,\n",
       "        5.68944824, 5.68944824]),\n",
       " 'rank_test_rmse': array([ 1, 12, 11, 10,  3,  2,  9,  4,  4,  4,  4,  4]),\n",
       " 'split0_train_rmse': array([16.11393186, 15.00179392, 14.74571333, 14.66589441, 14.6437349 ,\n",
       "        14.62613756, 14.62597599, 14.62594497, 14.62594497, 14.62594497,\n",
       "        14.62594497, 14.62594497]),\n",
       " 'split1_train_rmse': array([14.33991066, 13.32249909, 12.98012095, 12.88665524, 12.87047881,\n",
       "        12.88676314, 12.88677809, 12.88677809, 12.88677809, 12.88677809,\n",
       "        12.88677809, 12.88677809]),\n",
       " 'split2_train_rmse': array([16.41455144, 15.18819686, 14.87471021, 14.7413765 , 14.67415741,\n",
       "        14.67067196, 14.66665682, 14.66665682, 14.66665682, 14.66665682,\n",
       "        14.66665682, 14.66665682]),\n",
       " 'split3_train_rmse': array([13.64557415, 12.70657011, 12.45332492, 12.34020042, 12.3123989 ,\n",
       "        12.30877751, 12.30853594, 12.30853594, 12.30853594, 12.30853594,\n",
       "        12.30853594, 12.30853594]),\n",
       " 'split4_train_rmse': array([16.25048127, 14.99739555, 14.71597744, 14.54398621, 14.56526535,\n",
       "        14.56316892, 14.56250246, 14.56250246, 14.56250246, 14.56250246,\n",
       "        14.56250246, 14.56250246]),\n",
       " 'mean_train_rmse': array([15.35288988, 14.24329111, 13.95396937, 13.83562256, 13.81320708,\n",
       "        13.81110382, 13.81008986, 13.81008365, 13.81008365, 13.81008365,\n",
       "        13.81008365, 13.81008365]),\n",
       " 'std_train_rmse': array([1.1360488 , 1.02432576, 1.02524075, 1.01472627, 1.01368293,\n",
       "        1.00798109, 1.00724085, 1.00723582, 1.00723582, 1.00723582,\n",
       "        1.00723582, 1.00723582])}"
      ]
     },
     "execution_count": 182,
     "metadata": {},
     "output_type": "execute_result"
    }
   ],
   "source": [
    "model.cv_results_"
   ]
  },
  {
   "cell_type": "code",
   "execution_count": 157,
   "id": "3e3323bc",
   "metadata": {},
   "outputs": [],
   "source": [
    "parameters[\"max_depth\"]=4"
   ]
  },
  {
   "cell_type": "code",
   "execution_count": 168,
   "id": "0867e6c3",
   "metadata": {
    "scrolled": true
   },
   "outputs": [
    {
     "name": "stdout",
     "output_type": "stream",
     "text": [
      "Fitting 5 folds for each of 10 candidates, totalling 50 fits\n",
      "[CV] END ....................................n_estimators=10; total time=   0.0s\n",
      "[CV] END ....................................n_estimators=10; total time=   0.0s\n",
      "[CV] END ....................................n_estimators=10; total time=   0.0s\n",
      "[CV] END ....................................n_estimators=10; total time=   0.0s\n",
      "[CV] END ....................................n_estimators=10; total time=   0.0s\n",
      "[CV] END ....................................n_estimators=20; total time=   0.0s\n",
      "[CV] END ....................................n_estimators=20; total time=   0.0s\n",
      "[CV] END ....................................n_estimators=20; total time=   0.0s\n",
      "[CV] END ....................................n_estimators=20; total time=   0.0s\n",
      "[CV] END ....................................n_estimators=20; total time=   0.0s\n",
      "[CV] END ....................................n_estimators=50; total time=   0.0s\n",
      "[CV] END ....................................n_estimators=50; total time=   0.0s\n",
      "[CV] END ....................................n_estimators=50; total time=   0.0s\n",
      "[CV] END ....................................n_estimators=50; total time=   0.0s\n",
      "[CV] END ....................................n_estimators=50; total time=   0.0s\n",
      "[CV] END ....................................n_estimators=70; total time=   0.0s\n",
      "[CV] END ....................................n_estimators=70; total time=   0.0s\n",
      "[CV] END ....................................n_estimators=70; total time=   0.0s\n",
      "[CV] END ....................................n_estimators=70; total time=   0.0s\n",
      "[CV] END ....................................n_estimators=70; total time=   0.0s\n",
      "[CV] END ...................................n_estimators=100; total time=   0.0s\n",
      "[CV] END ...................................n_estimators=100; total time=   0.0s\n",
      "[CV] END ...................................n_estimators=100; total time=   0.0s\n",
      "[CV] END ...................................n_estimators=100; total time=   0.0s\n",
      "[CV] END ...................................n_estimators=100; total time=   0.0s\n",
      "[CV] END ...................................n_estimators=150; total time=   0.0s\n",
      "[CV] END ...................................n_estimators=150; total time=   0.0s\n",
      "[CV] END ...................................n_estimators=150; total time=   0.0s\n",
      "[CV] END ...................................n_estimators=150; total time=   0.0s\n",
      "[CV] END ...................................n_estimators=150; total time=   0.0s\n",
      "[CV] END ...................................n_estimators=200; total time=   0.0s\n",
      "[CV] END ...................................n_estimators=200; total time=   0.0s\n",
      "[CV] END ...................................n_estimators=200; total time=   0.0s\n",
      "[CV] END ...................................n_estimators=200; total time=   0.0s\n",
      "[CV] END ...................................n_estimators=200; total time=   0.0s\n",
      "[CV] END ...................................n_estimators=300; total time=   0.1s\n",
      "[CV] END ...................................n_estimators=300; total time=   0.1s\n",
      "[CV] END ...................................n_estimators=300; total time=   0.1s\n",
      "[CV] END ...................................n_estimators=300; total time=   0.1s\n",
      "[CV] END ...................................n_estimators=300; total time=   0.1s\n",
      "[CV] END ...................................n_estimators=400; total time=   0.2s\n",
      "[CV] END ...................................n_estimators=400; total time=   0.2s\n",
      "[CV] END ...................................n_estimators=400; total time=   0.2s\n",
      "[CV] END ...................................n_estimators=400; total time=   0.2s\n",
      "[CV] END ...................................n_estimators=400; total time=   0.2s\n",
      "[CV] END ...................................n_estimators=500; total time=   0.2s\n",
      "[CV] END ...................................n_estimators=500; total time=   0.2s\n",
      "[CV] END ...................................n_estimators=500; total time=   0.2s\n",
      "[CV] END ...................................n_estimators=500; total time=   0.2s\n",
      "[CV] END ...................................n_estimators=500; total time=   0.2s\n",
      "Best parameters {'n_estimators': 150}\n",
      "Best score 0.5514177384374748\n"
     ]
    }
   ],
   "source": [
    "cv_params = {'n_estimators': [10,20,50,70,100,150,200,300,400,500],\n",
    "            }\n",
    "\n",
    "r2 = make_scorer(rsquared)\n",
    "rmse = make_scorer(rmse_calc)\n",
    "scoring = {\"r2\": r2, \"rmse\": rmse}\n",
    "\n",
    "model = GridSearchCV(XGBRegressor(\n",
    "                                        random_state = seed,\n",
    "                                        n_estimators = n_estimators,\n",
    "                                        max_depth = parameters[\"max_depth\"],\n",
    "                                        subsample = subsample,\n",
    "                                        colsample_bytree = colsample_bytree,\n",
    "                                        learning_rate = learning_rate\n",
    "                                    ),\n",
    "                    \n",
    "                    param_grid = cv_params,\n",
    "                    scoring = scoring,\n",
    "                    refit=\"r2\",\n",
    "                    cv = 5,\n",
    "                    verbose = 2,\n",
    "                    return_train_score=True\n",
    ")\n",
    "\n",
    "model.fit(xtrain,ytrain)\n",
    "print (\"Best parameters %s\" %model.best_params_)\n",
    "print (\"Best score %s\" %model.best_score_)"
   ]
  },
  {
   "cell_type": "code",
   "execution_count": 169,
   "id": "25aff212",
   "metadata": {
    "scrolled": true
   },
   "outputs": [
    {
     "data": {
      "text/plain": [
       "{'mean_fit_time': array([0.01332583, 0.02174587, 0.04124217, 0.04719911, 0.06925697,\n",
       "        0.10148559, 0.1356379 , 0.20140114, 0.29042287, 0.31712542]),\n",
       " 'std_fit_time': array([0.00077674, 0.0025349 , 0.00584807, 0.00220439, 0.00376592,\n",
       "        0.00725609, 0.00622034, 0.02353576, 0.01308886, 0.01886826]),\n",
       " 'mean_score_time': array([0.00519266, 0.00550742, 0.00670781, 0.00475402, 0.00660791,\n",
       "        0.00559983, 0.00606146, 0.00488062, 0.00659308, 0.0047873 ]),\n",
       " 'std_score_time': array([0.00040388, 0.00042626, 0.00214409, 0.00038476, 0.00138789,\n",
       "        0.00050781, 0.00124404, 0.00228182, 0.00153717, 0.000997  ]),\n",
       " 'param_n_estimators': masked_array(data=[10, 20, 50, 70, 100, 150, 200, 300, 400, 500],\n",
       "              mask=[False, False, False, False, False, False, False, False,\n",
       "                    False, False],\n",
       "        fill_value='?',\n",
       "             dtype=object),\n",
       " 'params': [{'n_estimators': 10},\n",
       "  {'n_estimators': 20},\n",
       "  {'n_estimators': 50},\n",
       "  {'n_estimators': 70},\n",
       "  {'n_estimators': 100},\n",
       "  {'n_estimators': 150},\n",
       "  {'n_estimators': 200},\n",
       "  {'n_estimators': 300},\n",
       "  {'n_estimators': 400},\n",
       "  {'n_estimators': 500}],\n",
       " 'split0_test_r2': array([-1.73020915, -0.86809036,  0.56840524,  0.6644635 ,  0.65494829,\n",
       "         0.62753594,  0.59945322,  0.56935579,  0.55158683,  0.54436042]),\n",
       " 'split1_test_r2': array([-0.71244227, -0.40246285,  0.25240918,  0.4161517 ,  0.47582489,\n",
       "         0.50628701,  0.51669355,  0.5160119 ,  0.51033185,  0.51054207]),\n",
       " 'split2_test_r2': array([-1.55507419, -0.75512718,  0.51244191,  0.63272277,  0.65849758,\n",
       "         0.62640883,  0.60926364,  0.59682578,  0.5951942 ,  0.59253122]),\n",
       " 'split3_test_r2': array([-0.99282231, -0.63707514,  0.1132711 ,  0.32560413,  0.42720281,\n",
       "         0.50865144,  0.52114128,  0.52328787,  0.51962927,  0.51785476]),\n",
       " 'split4_test_r2': array([-1.82222083, -1.02358537,  0.37696543,  0.51066668,  0.53353163,\n",
       "         0.48820546,  0.45874873,  0.43305659,  0.42222158,  0.41615584]),\n",
       " 'mean_test_r2': array([-1.36255375, -0.73726818,  0.36469857,  0.50992175,  0.55000104,\n",
       "         0.55141774,  0.54106008,  0.52770759,  0.51979274,  0.51628886]),\n",
       " 'std_test_r2': array([0.43425216, 0.21049664, 0.16691295, 0.12785117, 0.09342181,\n",
       "        0.06209537, 0.05626212, 0.05590533, 0.05710676, 0.05772869]),\n",
       " 'rank_test_r2': array([10,  9,  8,  7,  2,  1,  3,  4,  5,  6]),\n",
       " 'split0_train_r2': array([-1.03583199, -0.56235569,  0.41467251,  0.68631713,  0.84210055,\n",
       "         0.94190402,  0.97377969,  0.99371337,  0.99814267,  0.99941356]),\n",
       " 'split1_train_r2': array([-1.25658401, -0.6768229 ,  0.41861865,  0.68363694,  0.84149706,\n",
       "         0.93597605,  0.96984272,  0.99224646,  0.99752719,  0.99931485]),\n",
       " 'split2_train_r2': array([-1.04171011, -0.56119172,  0.39574993,  0.67518149,  0.84111765,\n",
       "         0.94498046,  0.97687383,  0.9940123 ,  0.99837872,  0.99953812]),\n",
       " 'split3_train_r2': array([-1.23047927, -0.67537814,  0.40545454,  0.67671719,  0.84748531,\n",
       "         0.95325927,  0.98131536,  0.99523551,  0.99866754,  0.99958143]),\n",
       " 'split4_train_r2': array([-0.99260155, -0.53133155,  0.40486151,  0.67501408,  0.8325387 ,\n",
       "         0.93736905,  0.97094388,  0.99294842,  0.99813875,  0.99953849]),\n",
       " 'mean_train_r2': array([-1.11144139, -0.601416  ,  0.40787143,  0.67937337,  0.84094785,\n",
       "         0.94269777,  0.9745511 ,  0.99363121,  0.99817097,  0.99947729]),\n",
       " 'std_train_r2': array([0.10948839, 0.0619873 , 0.00804474, 0.00469093, 0.00479815,\n",
       "        0.00618001, 0.00416956, 0.00101089, 0.00037578, 0.00009873]),\n",
       " 'split0_test_rmse': array([20.97428789, 17.34954966,  8.3392568 ,  7.35290833,  7.45643707,\n",
       "         7.74696244,  8.03370516,  8.33006849,  8.50018631,  8.568405  ]),\n",
       " 'split1_test_rmse': array([29.11571715, 26.34906469, 19.23762709, 17.00080674, 16.10859706,\n",
       "        15.63352085, 15.4678808 , 15.47878487, 15.56934889, 15.56600646]),\n",
       " 'split2_test_rmse': array([21.67318728, 17.96285326,  9.46747594,  8.21708977,  7.92351568,\n",
       "         8.28741956,  8.47545337,  8.60929136,  8.62669398,  8.65502237]),\n",
       " 'split3_test_rmse': array([33.99882017, 30.81512011, 22.67905682, 19.77821123, 18.22762137,\n",
       "        16.8820197 , 16.66607214, 16.62867553, 16.69236326, 16.72316604]),\n",
       " 'split4_test_rmse': array([23.69035616, 20.06027389, 11.13094827,  9.86457747,  9.63135064,\n",
       "        10.08843769, 10.37470028, 10.6180789 , 10.71906125, 10.77518072]),\n",
       " 'mean_test_rmse': array([25.89047373, 22.50737232, 14.17087298, 12.44271871, 11.86950436,\n",
       "        11.72767205, 11.80356235, 11.93297983, 12.02153074, 12.05755612]),\n",
       " 'std_test_rmse': array([4.95867689, 5.23490883, 5.71720251, 4.99989078, 4.43736139,\n",
       "        3.79977447, 3.58889985, 3.47502895, 3.46482034, 3.44885598]),\n",
       " 'rank_test_rmse': array([ 1,  2,  3,  4,  8, 10,  9,  7,  6,  5]),\n",
       " 'split0_train_rmse': array([27.5002912 , 24.09108065, 14.74571333, 10.7947286 ,  7.65872783,\n",
       "         4.64557367,  3.12093865,  1.5281826 ,  0.83063545,  0.46674274]),\n",
       " 'split1_train_rmse': array([25.57254471, 22.04407048, 12.98012095,  9.57505059,  6.77745823,\n",
       "         4.3074418 ,  2.95627111,  1.49898866,  0.84653293,  0.44559435]),\n",
       " 'split2_train_rmse': array([27.3424357 , 23.90937804, 14.87471021, 10.90587567,  7.62742569,\n",
       "         4.48847334,  2.90999376,  1.48071098,  0.77049442,  0.41124949]),\n",
       " 'split3_train_rmse': array([24.12080964, 20.90495363, 12.45332492,  9.18298956,  6.30737468,\n",
       "         3.4917291 ,  2.20767503,  1.11481079,  0.58954873,  0.33042604]),\n",
       " 'split4_train_rmse': array([26.92714611, 23.6055819 , 14.71597744, 10.87457681,  7.80615773,\n",
       "         4.77391387,  3.25161328,  1.60185519,  0.82296665,  0.40980075]),\n",
       " 'mean_train_rmse': array([26.29264547, 22.91101294, 13.95396937, 10.26664425,  7.23542883,\n",
       "         4.34142636,  2.88929837,  1.44490964,  0.77203564,  0.41276268]),\n",
       " 'std_train_rmse': array([1.28050574, 1.23673618, 1.02524075, 0.73616318, 0.58814907,\n",
       "        0.45261777, 0.36178815, 0.17013984, 0.09474344, 0.04643738])}"
      ]
     },
     "execution_count": 169,
     "metadata": {},
     "output_type": "execute_result"
    }
   ],
   "source": [
    "model.cv_results_"
   ]
  },
  {
   "cell_type": "code",
   "execution_count": 170,
   "id": "c73cccee",
   "metadata": {},
   "outputs": [],
   "source": [
    "parameters[\"n_estimators\"]=150"
   ]
  },
  {
   "cell_type": "code",
   "execution_count": 226,
   "id": "ff90d792",
   "metadata": {
    "scrolled": true
   },
   "outputs": [
    {
     "name": "stdout",
     "output_type": "stream",
     "text": [
      "Fitting 5 folds for each of 10 candidates, totalling 50 fits\n",
      "[CV] END ......................................subsample=0.1; total time=   0.0s\n",
      "[CV] END ......................................subsample=0.1; total time=   0.0s\n",
      "[CV] END ......................................subsample=0.1; total time=   0.0s\n",
      "[CV] END ......................................subsample=0.1; total time=   0.0s\n",
      "[CV] END ......................................subsample=0.1; total time=   0.0s\n",
      "[CV] END ......................................subsample=0.2; total time=   0.0s\n",
      "[CV] END ......................................subsample=0.2; total time=   0.0s\n",
      "[CV] END ......................................subsample=0.2; total time=   0.0s\n",
      "[CV] END ......................................subsample=0.2; total time=   0.0s\n",
      "[CV] END ......................................subsample=0.2; total time=   0.0s\n",
      "[CV] END ......................................subsample=0.3; total time=   0.0s\n",
      "[CV] END ......................................subsample=0.3; total time=   0.0s\n",
      "[CV] END ......................................subsample=0.3; total time=   0.0s\n",
      "[CV] END ......................................subsample=0.3; total time=   0.0s\n",
      "[CV] END ......................................subsample=0.3; total time=   0.0s\n",
      "[CV] END ......................................subsample=0.4; total time=   0.0s\n",
      "[CV] END ......................................subsample=0.4; total time=   0.0s\n",
      "[CV] END ......................................subsample=0.4; total time=   0.0s\n",
      "[CV] END ......................................subsample=0.4; total time=   0.0s\n",
      "[CV] END ......................................subsample=0.4; total time=   0.0s\n",
      "[CV] END ......................................subsample=0.5; total time=   0.0s\n",
      "[CV] END ......................................subsample=0.5; total time=   0.0s\n",
      "[CV] END ......................................subsample=0.5; total time=   0.0s\n",
      "[CV] END ......................................subsample=0.5; total time=   0.0s\n",
      "[CV] END ......................................subsample=0.5; total time=   0.0s\n",
      "[CV] END ......................................subsample=0.6; total time=   0.0s\n",
      "[CV] END ......................................subsample=0.6; total time=   0.0s\n",
      "[CV] END ......................................subsample=0.6; total time=   0.0s\n",
      "[CV] END ......................................subsample=0.6; total time=   0.0s\n",
      "[CV] END ......................................subsample=0.6; total time=   0.0s\n",
      "[CV] END ......................................subsample=0.7; total time=   0.0s\n",
      "[CV] END ......................................subsample=0.7; total time=   0.0s\n",
      "[CV] END ......................................subsample=0.7; total time=   0.0s\n",
      "[CV] END ......................................subsample=0.7; total time=   0.0s\n",
      "[CV] END ......................................subsample=0.7; total time=   0.0s\n",
      "[CV] END ......................................subsample=0.8; total time=   0.0s\n",
      "[CV] END ......................................subsample=0.8; total time=   0.0s\n",
      "[CV] END ......................................subsample=0.8; total time=   0.0s\n",
      "[CV] END ......................................subsample=0.8; total time=   0.0s\n",
      "[CV] END ......................................subsample=0.8; total time=   0.0s\n",
      "[CV] END ......................................subsample=0.9; total time=   0.0s\n",
      "[CV] END ......................................subsample=0.9; total time=   0.0s\n",
      "[CV] END ......................................subsample=0.9; total time=   0.0s\n",
      "[CV] END ......................................subsample=0.9; total time=   0.0s\n",
      "[CV] END ......................................subsample=0.9; total time=   0.0s\n",
      "[CV] END ........................................subsample=1; total time=   0.0s\n",
      "[CV] END ........................................subsample=1; total time=   0.0s\n",
      "[CV] END ........................................subsample=1; total time=   0.0s\n",
      "[CV] END ........................................subsample=1; total time=   0.0s\n",
      "[CV] END ........................................subsample=1; total time=   0.0s\n",
      "Best parameters {'subsample': 1}\n",
      "Best score 0.2842451202291512\n"
     ]
    }
   ],
   "source": [
    "cv_params = {'subsample': [.1,.2,.3,.4,.5,.6,.7,.8,.9,1],\n",
    "            }\n",
    "\n",
    "r2 = make_scorer(rsquared)\n",
    "rmse = make_scorer(rmse_calc)\n",
    "scoring = {\"r2\": r2, \"rmse\": rmse}\n",
    "\n",
    "model = GridSearchCV(XGBRegressor(\n",
    "                                        random_state = seed,\n",
    "                                        n_estimators = parameters[\"n_estimators\"],\n",
    "                                        max_depth = parameters[\"max_depth\"],\n",
    "                                        subsample = parameters[\"subsample\"],\n",
    "                                        colsample_bytree = parameters[\"colsample_bytree\"],\n",
    "                                        learning_rate = parameters[\"learning_rate\"]\n",
    "                                    ),\n",
    "                    \n",
    "                    param_grid = cv_params,\n",
    "                    scoring = scoring,\n",
    "                    refit=\"r2\",\n",
    "                    cv = 5,\n",
    "                    verbose = 2,\n",
    "                    return_train_score=True\n",
    ")\n",
    "\n",
    "model.fit(xtrain,ytrain)\n",
    "print (\"Best parameters %s\" %model.best_params_)\n",
    "print (\"Best score %s\" %model.best_score_)"
   ]
  },
  {
   "cell_type": "code",
   "execution_count": 227,
   "id": "cad456d4",
   "metadata": {
    "scrolled": true
   },
   "outputs": [
    {
     "data": {
      "text/plain": [
       "{'mean_fit_time': array([0.02964139, 0.03153367, 0.02974691, 0.02878742, 0.02813001,\n",
       "        0.03094769, 0.0273798 , 0.02731829, 0.03004227, 0.02957931]),\n",
       " 'std_fit_time': array([0.0007406 , 0.00472528, 0.00146285, 0.00186716, 0.00123079,\n",
       "        0.00393414, 0.00095441, 0.00134394, 0.00352286, 0.00225818]),\n",
       " 'mean_score_time': array([0.00559783, 0.00477004, 0.00503478, 0.00398088, 0.00454264,\n",
       "        0.00479479, 0.00427766, 0.00438223, 0.00524783, 0.00590291]),\n",
       " 'std_score_time': array([0.00176385, 0.00296416, 0.00167262, 0.00061445, 0.00046969,\n",
       "        0.00043874, 0.0005174 , 0.00046329, 0.00339597, 0.00339852]),\n",
       " 'param_subsample': masked_array(data=[0.1, 0.2, 0.3, 0.4, 0.5, 0.6, 0.7, 0.8, 0.9, 1],\n",
       "              mask=[False, False, False, False, False, False, False, False,\n",
       "                    False, False],\n",
       "        fill_value='?',\n",
       "             dtype=object),\n",
       " 'params': [{'subsample': 0.1},\n",
       "  {'subsample': 0.2},\n",
       "  {'subsample': 0.3},\n",
       "  {'subsample': 0.4},\n",
       "  {'subsample': 0.5},\n",
       "  {'subsample': 0.6},\n",
       "  {'subsample': 0.7},\n",
       "  {'subsample': 0.8},\n",
       "  {'subsample': 0.9},\n",
       "  {'subsample': 1}],\n",
       " 'split0_test_r2': array([0.16677774, 0.37048869, 0.44606325, 0.45857096, 0.46429516,\n",
       "        0.47002546, 0.47839979, 0.47949926, 0.48570811, 0.50442774]),\n",
       " 'split1_test_r2': array([0.01051284, 0.12660502, 0.1358267 , 0.14699622, 0.15869523,\n",
       "        0.15946131, 0.16715374, 0.16587519, 0.1641072 , 0.16513406]),\n",
       " 'split2_test_r2': array([0.11098705, 0.27172048, 0.31417364, 0.38446977, 0.42354411,\n",
       "        0.40084563, 0.40055094, 0.42328075, 0.41886649, 0.43346562]),\n",
       " 'split3_test_r2': array([-0.08866787,  0.01438576,  0.04908089,  0.0579505 ,  0.05942069,\n",
       "         0.06547517,  0.06862758,  0.07748825,  0.07461419,  0.05732817]),\n",
       " 'split4_test_r2': array([0.03659234, 0.22374151, 0.25722821, 0.24193894, 0.26922814,\n",
       "        0.23624226, 0.24595725, 0.24994204, 0.27646658, 0.26087001]),\n",
       " 'mean_test_r2': array([0.04724042, 0.20138829, 0.24047454, 0.25798528, 0.27503667,\n",
       "        0.26640997, 0.27213786, 0.2792171 , 0.28395252, 0.28424512]),\n",
       " 'std_test_r2': array([0.08750561, 0.12215049, 0.13824736, 0.14752824, 0.15357901,\n",
       "        0.14983666, 0.14977145, 0.15183229, 0.15306768, 0.16551271]),\n",
       " 'rank_test_r2': array([10,  9,  8,  7,  4,  6,  5,  3,  2,  1]),\n",
       " 'split0_train_r2': array([0.01734071, 0.19996622, 0.23759871, 0.25614019, 0.26549507,\n",
       "        0.27557265, 0.28563197, 0.30101091, 0.30009801, 0.30497068]),\n",
       " 'split1_train_r2': array([0.00060781, 0.1872071 , 0.21899969, 0.25463989, 0.27407069,\n",
       "        0.28187227, 0.28231791, 0.29042794, 0.29464955, 0.30176872]),\n",
       " 'split2_train_r2': array([0.04755476, 0.17659621, 0.21217984, 0.22780299, 0.24932939,\n",
       "        0.25136861, 0.24938488, 0.26416961, 0.26303559, 0.27898644]),\n",
       " 'split3_train_r2': array([0.06406403, 0.20033898, 0.23675532, 0.25270455, 0.26858594,\n",
       "        0.27659325, 0.28251855, 0.28616464, 0.2843678 , 0.2822072 ]),\n",
       " 'split4_train_r2': array([0.06294649, 0.19308435, 0.23690853, 0.24382827, 0.26683717,\n",
       "        0.25867174, 0.26736278, 0.2742747 , 0.27804402, 0.27244033]),\n",
       " 'mean_train_r2': array([0.03850276, 0.19143858, 0.22848842, 0.24702318, 0.26486365,\n",
       "        0.2688157 , 0.27344322, 0.28320956, 0.28403899, 0.28807468]),\n",
       " 'std_train_r2': array([0.02536404, 0.00886395, 0.010754  , 0.01051699, 0.00829737,\n",
       "        0.01169548, 0.01360487, 0.01280685, 0.0130205 , 0.01291865]),\n",
       " 'split0_test_rmse': array([11.5869651 , 10.07142759,  9.44755337,  9.34028307,  9.29077736,\n",
       "         9.24095316,  9.1676525 ,  9.15798527,  9.1032004 ,  8.93599175]),\n",
       " 'split1_test_rmse': array([22.13220082, 20.79336932, 20.68330539, 20.54920385, 20.40780038,\n",
       "        20.39850673, 20.30495075, 20.32053041, 20.3420545 , 20.32955595]),\n",
       " 'split2_test_rmse': array([12.78424458, 11.57097817, 11.22866467, 10.63765059, 10.29447174,\n",
       "        10.49519211, 10.49777275, 10.2968231 , 10.33615434, 10.20549709]),\n",
       " 'split3_test_rmse': array([25.12911891, 23.91019084, 23.48558307, 23.37579669, 23.35754905,\n",
       "        23.28225181, 23.24294988, 23.13212398, 23.16812975, 23.38351653]),\n",
       " 'split4_test_rmse': array([13.84143571, 12.42451011, 12.15356795, 12.27801578, 12.05499405,\n",
       "        12.32406287, 12.24543109, 12.21303229, 11.99514189, 12.12373697]),\n",
       " 'mean_test_rmse': array([17.09479302, 15.75409521, 15.39973489, 15.23618999, 15.08111852,\n",
       "        15.14819333, 15.09175139, 15.02409901, 14.98893618, 14.99565966]),\n",
       " 'std_test_rmse': array([5.46675772, 5.52799233, 5.5975164 , 5.64163791, 5.70035629,\n",
       "        5.62583892, 5.61997529, 5.62943654, 5.6711225 , 5.77442231]),\n",
       " 'rank_test_rmse': array([ 1,  2,  3,  4,  7,  5,  6,  8, 10,  9]),\n",
       " 'split0_train_rmse': array([19.10591353, 17.23933411, 16.82899328, 16.62309447, 16.51823663,\n",
       "        16.40452819, 16.29023425, 16.11393186, 16.12445112, 16.06822444]),\n",
       " 'split1_train_rmse': array([17.01829977, 15.34751768, 15.04436271, 14.69708708, 14.50425278,\n",
       "        14.42610342, 14.42162665, 14.33991066, 14.29718923, 14.2248548 ]),\n",
       " 'split2_train_rmse': array([18.67498091, 17.36387254, 16.98453665, 16.81528442, 16.57924941,\n",
       "        16.55671507, 16.57863669, 16.41455144, 16.4271952 , 16.24844766]),\n",
       " 'split3_train_rmse': array([15.62484996, 14.44261213, 14.10992415, 13.96172101, 13.81256826,\n",
       "        13.73675221, 13.68037888, 13.64557415, 13.66273744, 13.68334677]),\n",
       " 'split4_train_rmse': array([18.46555186, 17.13539674, 16.66358315, 16.58785815, 16.33353981,\n",
       "        16.42424342, 16.32768389, 16.25048127, 16.20822485, 16.27100592]),\n",
       " 'mean_train_rmse': array([17.77791921, 16.30574664, 15.92627999, 15.73700903, 15.54956938,\n",
       "        15.50966846, 15.45971207, 15.35288988, 15.34395957, 15.29917592]),\n",
       " 'std_train_rmse': array([1.28482342, 1.18903391, 1.14501887, 1.1751472 , 1.15957117,\n",
       "        1.18750774, 1.17803077, 1.1360488 , 1.13593635, 1.11373926])}"
      ]
     },
     "execution_count": 227,
     "metadata": {},
     "output_type": "execute_result"
    }
   ],
   "source": [
    "model.cv_results_"
   ]
  },
  {
   "cell_type": "code",
   "execution_count": 173,
   "id": "6ea9036a",
   "metadata": {},
   "outputs": [],
   "source": [
    "parameters[\"subsample\"]=0.5"
   ]
  },
  {
   "cell_type": "code",
   "execution_count": 178,
   "id": "b0990f9c",
   "metadata": {
    "scrolled": true
   },
   "outputs": [
    {
     "name": "stdout",
     "output_type": "stream",
     "text": [
      "Fitting 5 folds for each of 8 candidates, totalling 40 fits\n",
      "[CV] END ...............................colsample_bytree=0.2; total time=   0.0s\n",
      "[CV] END ...............................colsample_bytree=0.2; total time=   0.0s\n",
      "[CV] END ...............................colsample_bytree=0.2; total time=   0.0s\n",
      "[CV] END ...............................colsample_bytree=0.2; total time=   0.0s\n",
      "[CV] END ...............................colsample_bytree=0.2; total time=   0.0s\n",
      "[CV] END ...............................colsample_bytree=0.3; total time=   0.0s\n",
      "[CV] END ...............................colsample_bytree=0.3; total time=   0.0s\n",
      "[CV] END ...............................colsample_bytree=0.3; total time=   0.0s\n",
      "[CV] END ...............................colsample_bytree=0.3; total time=   0.0s\n",
      "[CV] END ...............................colsample_bytree=0.3; total time=   0.0s\n",
      "[CV] END ...............................colsample_bytree=0.5; total time=   0.0s\n",
      "[CV] END ...............................colsample_bytree=0.5; total time=   0.0s\n",
      "[CV] END ...............................colsample_bytree=0.5; total time=   0.0s\n",
      "[CV] END ...............................colsample_bytree=0.5; total time=   0.0s\n",
      "[CV] END ...............................colsample_bytree=0.5; total time=   0.0s\n",
      "[CV] END ...............................colsample_bytree=0.6; total time=   0.0s\n",
      "[CV] END ...............................colsample_bytree=0.6; total time=   0.0s\n",
      "[CV] END ...............................colsample_bytree=0.6; total time=   0.0s\n",
      "[CV] END ...............................colsample_bytree=0.6; total time=   0.0s\n",
      "[CV] END ...............................colsample_bytree=0.6; total time=   0.0s\n",
      "[CV] END ...............................colsample_bytree=0.7; total time=   0.0s\n",
      "[CV] END ...............................colsample_bytree=0.7; total time=   0.0s\n",
      "[CV] END ...............................colsample_bytree=0.7; total time=   0.0s\n",
      "[CV] END ...............................colsample_bytree=0.7; total time=   0.0s\n",
      "[CV] END ...............................colsample_bytree=0.7; total time=   0.0s\n",
      "[CV] END ...............................colsample_bytree=0.8; total time=   0.0s\n",
      "[CV] END ...............................colsample_bytree=0.8; total time=   0.0s\n",
      "[CV] END ...............................colsample_bytree=0.8; total time=   0.0s\n",
      "[CV] END ...............................colsample_bytree=0.8; total time=   0.0s\n",
      "[CV] END ...............................colsample_bytree=0.8; total time=   0.0s\n",
      "[CV] END ...............................colsample_bytree=0.9; total time=   0.0s\n",
      "[CV] END ...............................colsample_bytree=0.9; total time=   0.0s\n",
      "[CV] END ...............................colsample_bytree=0.9; total time=   0.0s\n",
      "[CV] END ...............................colsample_bytree=0.9; total time=   0.0s\n",
      "[CV] END ...............................colsample_bytree=0.9; total time=   0.0s\n",
      "[CV] END .................................colsample_bytree=1; total time=   0.0s\n",
      "[CV] END .................................colsample_bytree=1; total time=   0.0s\n",
      "[CV] END .................................colsample_bytree=1; total time=   0.0s\n",
      "[CV] END .................................colsample_bytree=1; total time=   0.0s\n",
      "[CV] END .................................colsample_bytree=1; total time=   0.0s\n",
      "Best parameters {'colsample_bytree': 0.3}\n",
      "Best score 0.5576296052387439\n"
     ]
    }
   ],
   "source": [
    "cv_params = {'colsample_bytree': [.2,.3,.5,.6,.7,.8,.9,1],\n",
    "            }\n",
    "\n",
    "r2 = make_scorer(rsquared)\n",
    "rmse = make_scorer(rmse_calc)\n",
    "scoring = {\"r2\": r2, \"rmse\": rmse}\n",
    "\n",
    "model = GridSearchCV(XGBRegressor(\n",
    "                                        random_state = seed,\n",
    "                                        n_estimators = parameters[\"n_estimators\"],\n",
    "                                        max_depth = parameters[\"max_depth\"],\n",
    "                                        subsample = parameters[\"subsample\"],\n",
    "                                        colsample_bytree = parameters[\"colsample_bytree\"],\n",
    "                                        learning_rate = parameters[\"learning_rate\"]\n",
    "                                    ),\n",
    "                    \n",
    "                    param_grid = cv_params,\n",
    "                    scoring = scoring,\n",
    "                    refit=\"r2\",\n",
    "                    cv = 5,\n",
    "                    verbose = 2,\n",
    "                    return_train_score=True\n",
    ")\n",
    "\n",
    "model.fit(xtrain,ytrain)\n",
    "print (\"Best parameters %s\" %model.best_params_)\n",
    "print (\"Best score %s\" %model.best_score_)"
   ]
  },
  {
   "cell_type": "code",
   "execution_count": 179,
   "id": "de69fb78",
   "metadata": {
    "scrolled": true
   },
   "outputs": [
    {
     "data": {
      "text/plain": [
       "{'mean_fit_time': array([0.09769464, 0.09474854, 0.0990581 , 0.09215732, 0.09904652,\n",
       "        0.09973326, 0.0930769 , 0.1039876 ]),\n",
       " 'std_fit_time': array([0.00536345, 0.01085121, 0.00377377, 0.00370184, 0.00802069,\n",
       "        0.00671224, 0.00298141, 0.00818322]),\n",
       " 'mean_score_time': array([0.00381184, 0.00479622, 0.00533328, 0.00493345, 0.00559106,\n",
       "        0.00622387, 0.00497575, 0.00233679]),\n",
       " 'std_score_time': array([0.00144088, 0.00223419, 0.00260785, 0.00057358, 0.00101355,\n",
       "        0.00206193, 0.00003719, 0.00202842]),\n",
       " 'param_colsample_bytree': masked_array(data=[0.2, 0.3, 0.5, 0.6, 0.7, 0.8, 0.9, 1],\n",
       "              mask=[False, False, False, False, False, False, False, False],\n",
       "        fill_value='?',\n",
       "             dtype=object),\n",
       " 'params': [{'colsample_bytree': 0.2},\n",
       "  {'colsample_bytree': 0.3},\n",
       "  {'colsample_bytree': 0.5},\n",
       "  {'colsample_bytree': 0.6},\n",
       "  {'colsample_bytree': 0.7},\n",
       "  {'colsample_bytree': 0.8},\n",
       "  {'colsample_bytree': 0.9},\n",
       "  {'colsample_bytree': 1}],\n",
       " 'split0_test_r2': array([0.64892961, 0.639037  , 0.5707002 , 0.57617709, 0.61454212,\n",
       "        0.62731882, 0.65345217, 0.67837762]),\n",
       " 'split1_test_r2': array([0.48349879, 0.48705672, 0.49256014, 0.4495757 , 0.45413326,\n",
       "        0.47451599, 0.46847729, 0.44279123]),\n",
       " 'split2_test_r2': array([0.62421533, 0.60797438, 0.59121333, 0.56499241, 0.54118506,\n",
       "        0.53613243, 0.53150624, 0.48915243]),\n",
       " 'split3_test_r2': array([0.47335887, 0.46806883, 0.45073308, 0.45108443, 0.46878979,\n",
       "        0.46739099, 0.45138583, 0.45593623]),\n",
       " 'split4_test_r2': array([0.54003554, 0.58601109, 0.579461  , 0.55106096, 0.555142  ,\n",
       "        0.52094736, 0.41180676, 0.33593577]),\n",
       " 'mean_test_r2': array([0.55400763, 0.55762961, 0.53693355, 0.51857812, 0.52675844,\n",
       "        0.52526112, 0.50332566, 0.48043866]),\n",
       " 'std_test_r2': array([0.07156849, 0.06777748, 0.05530748, 0.05629173, 0.05891436,\n",
       "        0.05740486, 0.08440377, 0.11149398]),\n",
       " 'rank_test_r2': array([2, 1, 3, 6, 4, 5, 7, 8]),\n",
       " 'split0_train_r2': array([0.89471917, 0.89989045, 0.90913013, 0.91560679, 0.92551216,\n",
       "        0.92505985, 0.9303126 , 0.92365182]),\n",
       " 'split1_train_r2': array([0.89715381, 0.90347563, 0.90905453, 0.91359955, 0.91275095,\n",
       "        0.91531223, 0.91596005, 0.92009649]),\n",
       " 'split2_train_r2': array([0.90195542, 0.9146473 , 0.9300455 , 0.93269585, 0.93761454,\n",
       "        0.94038532, 0.93988171, 0.93809766]),\n",
       " 'split3_train_r2': array([0.91198198, 0.91714219, 0.92158204, 0.92367174, 0.92635856,\n",
       "        0.92094709, 0.92133251, 0.92325214]),\n",
       " 'split4_train_r2': array([0.89381941, 0.90045164, 0.92635503, 0.92745749, 0.92790021,\n",
       "        0.9281657 , 0.92873023, 0.93025722]),\n",
       " 'mean_train_r2': array([0.89992596, 0.90712144, 0.91923344, 0.92260628, 0.92602728,\n",
       "        0.92597404, 0.92724342, 0.92707106]),\n",
       " 'std_train_r2': array([0.0066566 , 0.00730917, 0.00870426, 0.00716356, 0.0079298 ,\n",
       "        0.00839367, 0.00816836, 0.00642896]),\n",
       " 'split0_test_rmse': array([7.52118666, 7.62641804, 8.31705568, 8.26383198, 7.88093474,\n",
       "        7.74922017, 7.47258489, 7.19883795]),\n",
       " 'split1_test_rmse': array([15.99024778, 15.93507794, 15.84936301, 16.5070064 , 16.4385247 ,\n",
       "        16.12869667, 16.221105  , 16.60842658]),\n",
       " 'split2_test_rmse': array([8.31171332, 8.48942456, 8.66900776, 8.94271609, 9.18416761,\n",
       "        9.23459875, 9.28053328, 9.69095754]),\n",
       " 'split3_test_rmse': array([17.4778072 , 17.56536908, 17.84930383, 17.84359405, 17.55346133,\n",
       "        17.57655728, 17.83869461, 17.76456026]),\n",
       " 'split4_test_rmse': array([ 9.56397056,  9.07340811,  9.14490573,  9.44865035,  9.40560633,\n",
       "         9.76040215, 10.81523864, 11.4916168 ]),\n",
       " 'mean_test_rmse': array([11.7729851 , 11.73793955, 11.9659272 , 12.20115977, 12.09253894,\n",
       "        12.089895  , 12.32563128, 12.55087983]),\n",
       " 'std_test_rmse': array([4.12960621, 4.15047207, 4.0456717 , 4.10057784, 4.05277945,\n",
       "        3.97079573, 4.01682834, 4.0395964 ]),\n",
       " 'rank_test_rmse': array([7, 8, 6, 3, 4, 5, 2, 1]),\n",
       " 'split0_train_rmse': array([6.25375672, 6.09823406, 5.81000188, 5.59912385, 5.26028196,\n",
       "        5.27622858, 5.08795741, 5.32556488]),\n",
       " 'split1_train_rmse': array([5.45936712, 5.28891612, 5.13379756, 5.00387194, 5.02838532,\n",
       "        4.95402906, 4.93504476, 4.81206106]),\n",
       " 'split2_train_rmse': array([5.99172607, 5.59047608, 5.06113587, 4.96433497, 4.7794933 ,\n",
       "        4.67214972, 4.69184282, 4.76095097]),\n",
       " 'split3_train_rmse': array([4.79157829, 4.64899951, 4.52272887, 4.46206064, 4.38282278,\n",
       "        4.54100225, 4.52991901, 4.47430856]),\n",
       " 'split4_train_rmse': array([6.21588049, 6.01862319, 5.17668396, 5.13779054, 5.12208863,\n",
       "        5.11264968, 5.09252025, 5.03767016]),\n",
       " 'mean_train_rmse': array([5.74246174, 5.52904979, 5.14086963, 5.03343639, 4.9146144 ,\n",
       "        4.91121186, 4.86745685, 4.88211113]),\n",
       " 'std_train_rmse': array([0.55353455, 0.52907064, 0.40927402, 0.36414596, 0.30871847,\n",
       "        0.27197558, 0.22298621, 0.28521556])}"
      ]
     },
     "execution_count": 179,
     "metadata": {},
     "output_type": "execute_result"
    }
   ],
   "source": [
    "model.cv_results_"
   ]
  },
  {
   "cell_type": "code",
   "execution_count": 223,
   "id": "95da8da4",
   "metadata": {},
   "outputs": [
    {
     "data": {
      "text/plain": [
       "{'n_estimators': 50,\n",
       " 'max_depth': 1,\n",
       " 'subsample': 0.8,\n",
       " 'colsample_bytree': 0.2,\n",
       " 'learning_rate': 0.05}"
      ]
     },
     "execution_count": 223,
     "metadata": {},
     "output_type": "execute_result"
    }
   ],
   "source": [
    "parameters"
   ]
  },
  {
   "cell_type": "code",
   "execution_count": null,
   "id": "e1b97b01",
   "metadata": {},
   "outputs": [],
   "source": []
  },
  {
   "cell_type": "code",
   "execution_count": 232,
   "id": "7f4823ac",
   "metadata": {},
   "outputs": [
    {
     "name": "stdout",
     "output_type": "stream",
     "text": [
      "Iteration:  1  out of  5\n",
      "Iteration:  2  out of  5\n",
      "Iteration:  3  out of  5\n",
      "Iteration:  4  out of  5\n",
      "Iteration:  5  out of  5\n",
      "Training\n",
      "All R2:         [0.87, 0.91, 0.88, 0.89, 0.91]\n",
      "All RMSE:       [6.7, 5.6, 5.5, 5.9, 5.7]\n",
      "All MAPE:       [13.9, 11.4, 12.1, 11.8, 12.3]\n",
      "Avg R2:         0.89\n",
      "Avg RMSE:       5.87\n",
      "Avg MAPE:       12.29\n",
      "\n",
      "Test\n",
      "All R2:         [0.72, 0.42, 0.59, 0.68, 0.3]\n",
      "All RMSE:       [7.5, 11.8, 15.3, 11.3, 11.2]\n",
      "All MAPE:       [19.4, 39.0, 28.9, 27.5, 33.4]\n",
      "Avg R2:         0.54\n",
      "Avg RMSE:       11.42\n",
      "Avg MAPE:       29.65\n"
     ]
    }
   ],
   "source": [
    "# Set-up stratified k-fold cross-validation\n",
    "k = 5\n",
    "kf = StratifiedKFold(n_splits=k, shuffle=True, random_state=8)\n",
    "\n",
    "# Define splits beforehand based on sample bin\n",
    "splits = kf.split(x,cat[\"bin\"])\n",
    "\n",
    "i = 0\n",
    "\n",
    "r2_train_scores = []\n",
    "rmse_train_scores = []\n",
    "mape_train_scores = []\n",
    "\n",
    "r2_scores = []\n",
    "rmse_scores = []\n",
    "mape_scores = []\n",
    "\n",
    "# xgb = XGBRegressor(random_state=3)\n",
    "xgb = XGBRegressor(n_estimators=150, max_depth=4, subsample=.5, colsample_bytree=0.2, \n",
    "                   learning_rate=0.05, random_state=3)\n",
    "\n",
    "# Loop k times and split into train and test sets\n",
    "for n,(train_index,test_index) in enumerate(splits):\n",
    "\n",
    "    i += 1\n",
    "    print(\"Iteration: \", i, \" out of \", k)\n",
    "    \n",
    "    xtrain_strat, xtest_strat = x.iloc[train_index,:], x.iloc[test_index,:]\n",
    "    ytrain_strat, ytest_strat = logy.iloc[train_index] , logy.iloc[test_index]\n",
    "    \n",
    "    # Fit RF-regression model on training data\n",
    "    xgb.fit(xtrain_strat,ytrain_strat)\n",
    "    \n",
    "    ## Predict on train set\n",
    "    ytrain_pred = pd.Series(xgb.predict(xtrain_strat))\n",
    "    \n",
    "    # Un-log\n",
    "    ytrain_pred = np.exp(ytrain_pred)\n",
    "    ytrain_strat = np.exp(ytrain_strat)\n",
    "  \n",
    "    # Save scores\n",
    "    r2_train_scores.append(r2_score(ytrain_strat, ytrain_pred))\n",
    "    rmse_train_scores.append(mean_squared_error(ytrain_strat, ytrain_pred, squared=False))\n",
    "    mape_train_scores.append(mean_absolute_percentage_error(ytrain_strat, ytrain_pred))\n",
    "\n",
    "    ## Predict on test set\n",
    "    ypred = pd.Series(xgb.predict(xtest_strat))\n",
    " \n",
    "    # Un-log\n",
    "    ypred = np.exp(ypred)\n",
    "    ytest_strat = np.exp(ytest_strat)\n",
    "    \n",
    "    # Save scores\n",
    "    r2_scores.append(r2_score(ytest_strat, ypred))\n",
    "    rmse_scores.append(mean_squared_error(ytest_strat, ypred, squared=False))\n",
    "    mape_scores.append(mean_absolute_percentage_error(ytest_strat, ypred))\n",
    "    \n",
    "\n",
    "print(\"Training\")\n",
    "print(\"All R2:        \",[round(score,2) for score in r2_train_scores])\n",
    "print(\"All RMSE:      \",[round(score,1) for score in rmse_train_scores])\n",
    "print(\"All MAPE:      \",[round(100*score,1) for score in mape_train_scores])\n",
    "\n",
    "print(\"Avg R2:        \",str(round(sum(r2_train_scores)/k,2)))\n",
    "print(\"Avg RMSE:      \",str(round(sum(rmse_train_scores)/k,2)))\n",
    "print(\"Avg MAPE:      \",str(round(100*sum(mape_train_scores)/k,2)))\n",
    "\n",
    "print(\"\\nTest\")\n",
    "print(\"All R2:        \",[round(score,2) for score in r2_scores])\n",
    "print(\"All RMSE:      \",[round(score,1) for score in rmse_scores])\n",
    "print(\"All MAPE:      \",[round(100*score,1) for score in mape_scores])\n",
    "\n",
    "print(\"Avg R2:        \",str(round(sum(r2_scores)/k,2)))\n",
    "print(\"Avg RMSE:      \",str(round(sum(rmse_scores)/k,2)))\n",
    "print(\"Avg MAPE:      \",str(round(100*sum(mape_scores)/k,2)))"
   ]
  },
  {
   "cell_type": "code",
   "execution_count": 234,
   "id": "3fbb6dc4",
   "metadata": {},
   "outputs": [
    {
     "data": {
      "image/png": "[encoded data removed]",
      "text/plain": [
       "<Figure size 720x720 with 1 Axes>"
      ]
     },
     "metadata": {
      "needs_background": "light"
     },
     "output_type": "display_data"
    }
   ],
   "source": [
    "plot_predictions(ytest_strat,ypred)"
   ]
  },
  {
   "cell_type": "code",
   "execution_count": null,
   "id": "6771f446",
   "metadata": {},
   "outputs": [],
   "source": []
  },
  {
   "cell_type": "code",
   "execution_count": null,
   "id": "36319282",
   "metadata": {},
   "outputs": [],
   "source": []
  },
  {
   "cell_type": "code",
   "execution_count": 199,
   "id": "31e91069",
   "metadata": {},
   "outputs": [],
   "source": []
  },
  {
   "cell_type": "code",
   "execution_count": 237,
   "id": "4811da6c",
   "metadata": {},
   "outputs": [
    {
     "name": "stdout",
     "output_type": "stream",
     "text": [
      "Train R2:           0.6085019836328325\n",
      "Train RMSE:         11.675703501247192\n",
      "Train MAPE:         21.5\n",
      "\n",
      "Test R2:           0.5769801317718426\n",
      "Test RMSE:         10.81974879972437\n",
      "Test MAPE:         43.5\n"
     ]
    },
    {
     "data": {
      "image/png": "[encoded data removed]",
      "text/plain": [
       "<Figure size 720x720 with 1 Axes>"
      ]
     },
     "metadata": {
      "needs_background": "light"
     },
     "output_type": "display_data"
    }
   ],
   "source": [
    "# seed = 3\n",
    "# xtrain, xtest, ytrain, ytest = train_test_split(x, y, test_size=0.4,\n",
    "#                                                stratify = cat[\"bin\"])\n",
    "# # Let's print the number of test samples within each bin, now for the stratified split\n",
    "# (pd.cut(ytest, bins=bin_edges, labels=False).value_counts())\n",
    "seed = 3\n",
    "xtrain, xtest, ytrain, ytest = train_test_split(x, logy, test_size=0.4,\n",
    "                                               stratify = cat[\"bin\"], random_state=4)\n",
    "\n",
    "xgb = XGBRegressor(n_estimators=150, max_depth=4, subsample=0.1, colsample_bytree=0.2, \n",
    "                   learning_rate=0.05, random_state=3)\n",
    "xgb.fit(xtrain,ytrain)\n",
    "\n",
    "ytrain_pred = xgb.predict(xtrain)\n",
    "\n",
    "# Un-log\n",
    "ytrain_pred = np.exp(ytrain_pred)\n",
    "ytrain = np.exp(ytrain)\n",
    "\n",
    "# Save scores\n",
    "print(\"Train R2:          \", r2_score(ytrain, ytrain_pred))\n",
    "print(\"Train RMSE:        \", mean_squared_error(ytrain, ytrain_pred, squared=False))\n",
    "print(\"Train MAPE:        \", round(100*mean_absolute_percentage_error(ytrain, ytrain_pred),1))\n",
    "\n",
    "## Predict on test set\n",
    "ypred = xgb.predict(xtest)\n",
    "\n",
    "# Un-log\n",
    "ypred = np.exp(ypred)\n",
    "ytest = np.exp(ytest)\n",
    "    \n",
    "# Save scores\n",
    "print(\"\\nTest R2:          \", r2_score(ytest, ypred))\n",
    "print(\"Test RMSE:        \", mean_squared_error(ytest, ypred, squared=False))\n",
    "print(\"Test MAPE:        \", round(100*mean_absolute_percentage_error(ytest, ypred),1))\n",
    "\n",
    "plot_predictions(ytest,ypred)"
   ]
  },
  {
   "cell_type": "code",
   "execution_count": null,
   "id": "bf70c39e",
   "metadata": {},
   "outputs": [],
   "source": []
  },
  {
   "cell_type": "code",
   "execution_count": null,
   "id": "65b0a34f",
   "metadata": {},
   "outputs": [],
   "source": []
  }
 ],
 "metadata": {
  "kernelspec": {
   "display_name": "Python 3",
   "language": "python",
   "name": "python3"
  },
  "language_info": {
   "codemirror_mode": {
    "name": "ipython",
    "version": 3
   },
   "file_extension": ".py",
   "mimetype": "text/x-python",
   "name": "python",
   "nbconvert_exporter": "python",
   "pygments_lexer": "ipython3",
   "version": "3.8.8"
  }
 },
 "nbformat": 4,
 "nbformat_minor": 5
}
